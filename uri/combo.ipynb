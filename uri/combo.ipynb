{
 "cells": [
  {
   "cell_type": "code",
   "execution_count": null,
   "metadata": {},
   "outputs": [],
   "source": [
    "import fastai\n",
    "from fastai import *          # Quick access to most common functionality\n",
    "from fastai.vision import *   # Quick access to computer vision functionality\n",
    "from fastai.layers import Lambda\n",
    "from fastai.callbacks import *\n",
    "import pytorch_ssim as ssim\n",
    "from superres import *\n",
    "from torchvision.models import vgg16_bn\n",
    "import czifile\n",
    "import shutil"
   ]
  },
  {
   "cell_type": "code",
   "execution_count": 2,
   "metadata": {},
   "outputs": [],
   "source": [
    "path_combo_src_hr = Path('/DATA/WAMRI/salk/uri/combo_src/')\n",
    "path_combo_src_lr = Path('/DATA/WAMRI/salk/uri/combo_lr_pair/')\n",
    "path_combo_hr = Path('/DATA/WAMRI/salk/uri/combo_hr/')\n",
    "path_combo_lr = Path('/DATA/WAMRI/salk/uri/combo_lr/')\n",
    "path_test_lr = Path('/DATA/WAMRI/salk/uri/test_imgs/')"
   ]
  },
  {
   "cell_type": "code",
   "execution_count": 3,
   "metadata": {
    "code_folding": []
   },
   "outputs": [],
   "source": [
    "def pull_id(fn):\n",
    "    return fn.split('#')[-1].split('.')[0]\n",
    "\n",
    "pair_names_by_id = {pull_id(lrfn.name):lrfn for lrfn in path_combo_src_lr.glob('*.tif')}\n",
    "\n",
    "def match_lr_fn(x):\n",
    "    return pair_names_by_id[pull_id(x.name)]\n",
    "\n",
    "def get_czi_shape_info(czi):\n",
    "    shape = czi.shape\n",
    "    axes = czi.axes\n",
    "    axes_dict = {axis:idx for idx,axis in enumerate(czi.axes)}\n",
    "    shape_dict = {axis:shape[axes_dict[axis]] for axis in czi.axes}\n",
    "    return axes_dict, shape_dict\n",
    "\n",
    "\n",
    "def build_index(axes, ix_select):\n",
    "    idx = [ix_select.get(ax, 0) for ax in axes]\n",
    "    return tuple(idx)\n",
    "\n",
    "def process_tiff(fn):\n",
    "    lr_match = match_lr_fn(fn)\n",
    "    shutil.copy(fn, path_combo_hr/fn.name)\n",
    "    shutil.copy(lr_match, path_combo_lr/fn.name)\n",
    "    \n",
    "\n",
    "def process_czi(proc_fn):\n",
    "    with czifile.CziFile(proc_fn) as proc_czf:\n",
    "        proc_axes, proc_shape = get_czi_shape_info(proc_czf)\n",
    "        channels = proc_shape['C']\n",
    "        depths = proc_shape['Z']\n",
    "        x,y = proc_shape['X'], proc_shape['Y']\n",
    "        data = proc_czf.asarray()\n",
    "        for channel in range(channels):\n",
    "            depth = depths // 2\n",
    "            idx = build_index(proc_axes, {'C': channel, 'Z':depth, 'X':slice(0,x),'Y':slice(0,y)})\n",
    "            img = data[idx].astype(np.float)\n",
    "            save_proc_fn = path_combo_hr/f'{proc_fn.stem}_{channel:02d}_{depth:03d}.tif'\n",
    "            img /= img.max()\n",
    "            pimg = PIL.Image.fromarray(img)\n",
    "            pimg.save(save_proc_fn)\n",
    "            cur_size = pimg.size\n",
    "            new_size = (cur_size[0]//4, cur_size[1]//4)\n",
    "            pimg.resize(new_size, resample=PIL.Image.BICUBIC).save(path_combo_lr/save_proc_fn.name)\n",
    "    \n",
    "def process_src(fn):\n",
    "    if fn.suffix == '.tif':\n",
    "        process_tiff(fn)\n",
    "        pass\n",
    "    elif fn.suffix == '.czi':\n",
    "        process_czi(fn)\n",
    "\n",
    "fnames = list(path_combo_src_hr.iterdir())"
   ]
  },
  {
   "cell_type": "code",
   "execution_count": 4,
   "metadata": {},
   "outputs": [],
   "source": [
    "# print(len(fnames))\n",
    "# for fn in progress_bar(fnames):\n",
    "#     process_src(fn)"
   ]
  },
  {
   "cell_type": "code",
   "execution_count": 5,
   "metadata": {},
   "outputs": [],
   "source": [
    "def get_basename(x):\n",
    "    return x.name\n",
    "\n",
    "base_names = list(set([get_basename(x) for x in list(path_combo_lr.iterdir())]))\n",
    "train_names, valid_names = random_split(0.15, base_names)\n",
    "valid_names = list(valid_names[0])\n",
    "\n",
    "def is_validation_basename(x):\n",
    "    return x.name in valid_names\n",
    "\n",
    "def lr_to_hr_fn(x):\n",
    "    return path_combo_hr/x.name"
   ]
  },
  {
   "cell_type": "code",
   "execution_count": 6,
   "metadata": {},
   "outputs": [],
   "source": [
    "src = (GrayImageItemList\n",
    "       .from_folder(path_combo_lr, '*.tif', label_class=GrayImageItemList)\n",
    "       .split_by_valid_func(is_validation_basename)\n",
    "       .label_from_func(lr_to_hr_fn))"
   ]
  },
  {
   "cell_type": "code",
   "execution_count": 7,
   "metadata": {},
   "outputs": [],
   "source": [
    "def charbonnier_loss(inputs, targets):\n",
    "    eps = 1e-6;\n",
    "    d = inputs - targets\n",
    "    e = torch.sqrt(d**2 + eps)\n",
    "    return e.mean()\n",
    "\n"
   ]
  },
  {
   "cell_type": "code",
   "execution_count": 8,
   "metadata": {},
   "outputs": [],
   "source": [
    "loss = charbonnier_loss\n",
    "loss = F.mse_loss\n",
    "scale=4\n",
    "n_resblocks=16\n",
    "n_feats=64\n",
    "res_scale= 0.1\n",
    "#model = WDSR(scale, n_resblocks, n_feats, res_scale, n_colors_in=1)\n",
    "model = DBPNLL(num_channels=1, base_filter=64, feat = 256, num_stages=10, scale_factor=scale)\n",
    "model = nn.DataParallel(model)"
   ]
  },
  {
   "cell_type": "code",
   "execution_count": 9,
   "metadata": {},
   "outputs": [
    {
     "name": "stdout",
     "output_type": "stream",
     "text": [
      "LR Finder is complete, type {learner_name}.recorder.plot() to see the graph.\n"
     ]
    },
    {
     "data": {
      "image/png": "[encoded data removed]",
      "text/plain": [
       "<Figure size 432x288 with 1 Axes>"
      ]
     },
     "metadata": {},
     "output_type": "display_data"
    }
   ],
   "source": [
    "sz_lr = 128\n",
    "scale,bs = 4,4\n",
    "sz_hr = sz_lr*scale\n",
    "\n",
    "learn = build_learner(model, bs, sz_lr, sz_hr, src, loss=loss) #, callback_fns=LossMetrics)\n",
    "learn.lr_find()\n",
    "learn.recorder.plot()"
   ]
  },
  {
   "cell_type": "code",
   "execution_count": null,
   "metadata": {},
   "outputs": [
    {
     "data": {
      "text/html": [
       "\n",
       "    <div>\n",
       "        <style>\n",
       "            /* Turns off some styling */\n",
       "            progress {\n",
       "                /* gets rid of default border in Firefox and Opera. */\n",
       "                border: none;\n",
       "                /* Needs to be in here for Safari polyfill so background images work as expected. */\n",
       "                background-size: auto;\n",
       "            }\n",
       "            .progress-bar-interrupted, .progress-bar-interrupted::-webkit-progress-bar {\n",
       "                background: #F44336;\n",
       "            }\n",
       "        </style>\n",
       "      <progress value='2' class='' max='10', style='width:300px; height:20px; vertical-align: middle;'></progress>\n",
       "      20.00% [2/10 08:08<32:32]\n",
       "    </div>\n",
       "    \n",
       "<table style='width:450px; margin-bottom:10px'>\n",
       "  <tr>\n",
       "    <th>epoch</th>\n",
       "    <th>train_loss</th>\n",
       "    <th>valid_loss</th>\n",
       "    <th>mse_loss</th>\n",
       "    <th>ssim</th>\n",
       "    <th>psnr</th>\n",
       "  </tr>\n",
       "  <tr>\n",
       "    <th>1</th>\n",
       "    <th>0.004281</th>\n",
       "    <th>0.004183</th>\n",
       "    <th>0.004183</th>\n",
       "    <th>0.601690</th>\n",
       "    <th>25.408817</th>\n",
       "  </tr>\n",
       "  <tr>\n",
       "    <th>2</th>\n",
       "    <th>0.004040</th>\n",
       "    <th>0.004071</th>\n",
       "    <th>0.004071</th>\n",
       "    <th>0.786758</th>\n",
       "    <th>26.322565</th>\n",
       "  </tr>\n",
       "</table>\n",
       "\n",
       "\n",
       "    <div>\n",
       "        <style>\n",
       "            /* Turns off some styling */\n",
       "            progress {\n",
       "                /* gets rid of default border in Firefox and Opera. */\n",
       "                border: none;\n",
       "                /* Needs to be in here for Safari polyfill so background images work as expected. */\n",
       "                background-size: auto;\n",
       "            }\n",
       "            .progress-bar-interrupted, .progress-bar-interrupted::-webkit-progress-bar {\n",
       "                background: #F44336;\n",
       "            }\n",
       "        </style>\n",
       "      <progress value='116' class='' max='190', style='width:300px; height:20px; vertical-align: middle;'></progress>\n",
       "      61.05% [116/190 02:20<01:29 0.0041]\n",
       "    </div>\n",
       "    "
      ],
      "text/plain": [
       "<IPython.core.display.HTML object>"
      ]
     },
     "metadata": {},
     "output_type": "display_data"
    }
   ],
   "source": [
    "sz_lr = 128\n",
    "scale,bs = 4,4\n",
    "sz_hr = sz_lr*scale\n",
    "\n",
    "epochs, lr = 10, 1e-4\n",
    "learn = batch_learn(model, bs, sz_lr, sz_hr, lr, epochs, src, save='DBPNLL_1.0', loss=loss)"
   ]
  },
  {
   "cell_type": "code",
   "execution_count": null,
   "metadata": {},
   "outputs": [],
   "source": []
  },
  {
   "cell_type": "code",
   "execution_count": null,
   "metadata": {},
   "outputs": [],
   "source": [
    "sz_lr = 128\n",
    "scale,bs = 4,16\n",
    "sz_hr = sz_lr*scale\n",
    "\n",
    "epochs, lr = 10, 2e-4\n",
    "learn = batch_learn(model, bs, sz_lr, sz_hr, lr, epochs, src, load='combo_1.0_best', save='combo_1.1', loss=loss)"
   ]
  },
  {
   "cell_type": "code",
   "execution_count": null,
   "metadata": {},
   "outputs": [],
   "source": [
    "scale,bs = 4,1\n",
    "sz_hr = sz_lr*scale\n",
    "data = get_data(src, bs, sz_lr, sz_hr)\n",
    "learn = Learner(data, model, loss_func=F.mse_loss).load('combo_1.1')\n",
    "preds, ys = learn.get_preds(DatasetType.Valid)\n",
    "preds = torch.clamp(preds, 0.,1.)\n",
    "\n"
   ]
  },
  {
   "cell_type": "code",
   "execution_count": null,
   "metadata": {},
   "outputs": [],
   "source": [
    "idx = 2\n",
    "hr = Image(ys[idx])\n",
    "hr"
   ]
  },
  {
   "cell_type": "code",
   "execution_count": null,
   "metadata": {},
   "outputs": [],
   "source": [
    "sr = Image(preds[idx])\n",
    "sr"
   ]
  },
  {
   "cell_type": "code",
   "execution_count": null,
   "metadata": {},
   "outputs": [],
   "source": [
    "lr = learn.data.valid_ds[idx][0]\n",
    "data = lr.data.permute([1,2,0]).repeat([1,1,3]).detach().cpu().numpy()\n",
    "img = PIL.Image.fromarray((data * 255).astype(np.uint8))\n",
    "data = pil2tensor(img.resize((2024,2024), resample=PIL.Image.BICUBIC), dtype=np.float32)\n",
    "lr = Image(data[0:1,:,:])\n",
    "lr"
   ]
  },
  {
   "cell_type": "code",
   "execution_count": null,
   "metadata": {},
   "outputs": [],
   "source": [
    "img1, img2 = sr.data[None],hr.data[None]\n",
    "ssim.ssim(img1,img2), psnr(img1,img2), F.mse_loss(img1,img2)"
   ]
  },
  {
   "cell_type": "code",
   "execution_count": null,
   "metadata": {},
   "outputs": [],
   "source": [
    "img1, img2 = lr.data[None], hr.data[None]\n",
    "ssim.ssim(img1,img2), psnr(img1,img2), F.mse_loss(img1,img2)"
   ]
  },
  {
   "cell_type": "code",
   "execution_count": null,
   "metadata": {},
   "outputs": [],
   "source": [
    "fake_label = list(path_combo_hr.iterdir())[0]\n",
    "test_src = src.add_test_folder(path_test_lr, label=fake_label)"
   ]
  },
  {
   "cell_type": "code",
   "execution_count": null,
   "metadata": {},
   "outputs": [],
   "source": [
    "sz_lr = 506\n",
    "scale,bs = 4,1\n",
    "sz_hr = sz_lr*scale\n",
    "data = get_data(src, bs, sz_lr, sz_hr)\n",
    "learn = Learner(data, model, loss_func=F.mse_loss).load('combo_1.0_best')\n",
    "preds, ys = learn.get_preds(DatasetType.Test)\n",
    "preds = torch.clamp(preds, 0.,1.)\n"
   ]
  },
  {
   "cell_type": "code",
   "execution_count": null,
   "metadata": {},
   "outputs": [],
   "source": [
    "idx=2\n",
    "sr = Image(preds[idx])\n",
    "sr"
   ]
  },
  {
   "cell_type": "code",
   "execution_count": null,
   "metadata": {},
   "outputs": [],
   "source": [
    "lr = learn.data.test_ds[idx][0]\n",
    "data = lr.data.permute([1,2,0]).repeat([1,1,3]).detach().cpu().numpy()\n",
    "img = PIL.Image.fromarray((data * 255).astype(np.uint8))\n",
    "data = pil2tensor(img.resize((2024,2024), resample=PIL.Image.BICUBIC), dtype=np.float32)\n",
    "lr = Image(data[0:1,:,:])\n",
    "lr"
   ]
  },
  {
   "cell_type": "code",
   "execution_count": null,
   "metadata": {},
   "outputs": [],
   "source": []
  },
  {
   "cell_type": "code",
   "execution_count": null,
   "metadata": {},
   "outputs": [],
   "source": [
    "test_fns"
   ]
  },
  {
   "cell_type": "code",
   "execution_count": null,
   "metadata": {},
   "outputs": [],
   "source": [
    "def my_pred(self, item:ItemBase, **kwargs):\n",
    "    self.callbacks.append(RecordOnCPU())\n",
    "    batch = self.data.one_item(item)\n",
    "    batch = to_half(batch)\n",
    "    res = self.pred_batch(batch=batch)\n",
    "    pred = res[0]\n",
    "    x = self.callbacks[-1].input\n",
    "    x = x.float()\n",
    "    pred = pred.float()\n",
    "    norm = getattr(self.data,'norm',False)\n",
    "    if norm:\n",
    "        x = self.data.denorm(x)\n",
    "        if norm.keywords.get('do_y',False): pred = self.data.denorm(pred)\n",
    "    self.callbacks = self.callbacks[:-1]\n",
    "    ds = self.data.single_ds\n",
    "    pred = ds.y.analyze_pred(pred, **kwargs)\n",
    "    out = ds.y.reconstruct(pred, ds.x.reconstruct(x[0])) if has_arg(ds.y.reconstruct, 'x') else ds.y.reconstruct(pred)\n",
    "    return out, pred, res[0]"
   ]
  },
  {
   "cell_type": "code",
   "execution_count": null,
   "metadata": {},
   "outputs": [],
   "source": [
    "# loss = charbonnier_loss\n",
    "# scale=4\n",
    "# n_resblocks=128\n",
    "# n_feats=32\n",
    "# res_scale= 0.1\n",
    "# model = WDSR(scale, n_resblocks, n_feats, res_scale, n_colors_in=1)\n",
    "\n",
    "scale = 4\n",
    "test_fns = list(path_test_lr.iterdir())\n",
    "for fn in test_fns:\n",
    "    learn = None\n",
    "    gc.collect()\n",
    "    img = open_grayscale(fn)\n",
    "    \n",
    "    scale,bs = 4,1\n",
    "    sz_lr = max(img.shape)\n",
    "    sz_lr = int(sz_lr)\n",
    "    sz_hr = sz_lr*scale\n",
    "    print(sz_lr, sz_hr)\n",
    "    data = get_data(src, bs, sz_lr, sz_hr)\n",
    "    learn = Learner(data, model, loss_func=F.mse_loss).to_fp16().load('combo_1.0_best')\n",
    "    a,b,c = my_pred(learn, img)\n",
    "    img_big = Image(a.data[0:1,:,:])\n",
    "    lr_fn = Path(fn.stem + '_LR.png')\n",
    "    img.save(lr_fn)\n",
    "    hr_fn = Path(fn.stem + '_HR.png')\n",
    "    img_big.save(hr_fn)\n",
    "    print(lr_fn, hr_fn)"
   ]
  },
  {
   "cell_type": "code",
   "execution_count": null,
   "metadata": {},
   "outputs": [],
   "source": [
    "img_big"
   ]
  },
  {
   "cell_type": "code",
   "execution_count": null,
   "metadata": {},
   "outputs": [],
   "source": [
    "img"
   ]
  },
  {
   "cell_type": "code",
   "execution_count": null,
   "metadata": {},
   "outputs": [],
   "source": [
    "sz_lr = 128\n",
    "scale,bs = 4,1\n",
    "sz_hr = sz_lr*scale\n",
    "data = get_data(src, bs, sz_lr, sz_hr)\n"
   ]
  },
  {
   "cell_type": "code",
   "execution_count": null,
   "metadata": {},
   "outputs": [],
   "source": [
    "b = data.one_batch()"
   ]
  },
  {
   "cell_type": "code",
   "execution_count": null,
   "metadata": {},
   "outputs": [],
   "source": [
    "b[0].shape"
   ]
  },
  {
   "cell_type": "code",
   "execution_count": null,
   "metadata": {},
   "outputs": [],
   "source": [
    "model = model.eval().cuda()"
   ]
  },
  {
   "cell_type": "code",
   "execution_count": null,
   "metadata": {},
   "outputs": [],
   "source": [
    "bc = b[0].to(0)\n",
    "bc.shape"
   ]
  },
  {
   "cell_type": "code",
   "execution_count": null,
   "metadata": {},
   "outputs": [],
   "source": [
    "model(bc).shape"
   ]
  },
  {
   "cell_type": "code",
   "execution_count": null,
   "metadata": {},
   "outputs": [],
   "source": [
    "%debug"
   ]
  },
  {
   "cell_type": "code",
   "execution_count": null,
   "metadata": {},
   "outputs": [],
   "source": []
  }
 ],
 "metadata": {
  "kernelspec": {
   "display_name": "Python 3",
   "language": "python",
   "name": "python3"
  },
  "language_info": {
   "codemirror_mode": {
    "name": "ipython",
    "version": 3
   },
   "file_extension": ".py",
   "mimetype": "text/x-python",
   "name": "python",
   "nbconvert_exporter": "python",
   "pygments_lexer": "ipython3",
   "version": "3.6.5"
  }
 },
 "nbformat": 4,
 "nbformat_minor": 2
}
