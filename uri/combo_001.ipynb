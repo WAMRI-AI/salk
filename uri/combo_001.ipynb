{
 "cells": [
  {
   "cell_type": "code",
   "execution_count": 1,
   "metadata": {},
   "outputs": [],
   "source": [
    "import sys\n",
    "import shutil\n",
    "import random\n",
    "import os\n",
    "import superres.helpers as helpers\n",
    "from pathlib import Path\n",
    "from os import listdir\n",
    "from os.path import isdir, join\n",
    "from fastprogress import progress_bar\n",
    "from distutils.dir_util import copy_tree"
   ]
  },
  {
   "cell_type": "code",
   "execution_count": 2,
   "metadata": {},
   "outputs": [],
   "source": [
    "datasetname = 'combo_001'\n",
    "data_path = Path('/scratch/bpho')\n",
    "datasources = data_path/'datasources'\n",
    "datasets = data_path/'datasets'\n",
    "dataset = datasets/datasetname\n",
    "if dataset.exists(): shutil.rmtree(dataset)"
   ]
  },
  {
   "cell_type": "code",
   "execution_count": 3,
   "metadata": {},
   "outputs": [],
   "source": [
    "# Subset list \n",
    "paired_001 = datasets/'paired_001'\n",
    "paired_sets = ['confocal_airyscan_pairs_mito']\n",
    "crappified_001 = datasets/'crappified_001'\n",
    "crappified_sets = ['MitoTracker_Red_FM_movie_data', 'Airyscan_processed_data_from_the_server']"
   ]
  },
  {
   "cell_type": "code",
   "execution_count": null,
   "metadata": {
    "scrolled": true
   },
   "outputs": [
    {
     "name": "stdout",
     "output_type": "stream",
     "text": [
      "\n",
      "\n",
      "save 128 tiles\n"
     ]
    },
    {
     "data": {
      "text/html": [
       "\n",
       "    <div>\n",
       "        <style>\n",
       "            /* Turns off some styling */\n",
       "            progress {\n",
       "                /* gets rid of default border in Firefox and Opera. */\n",
       "                border: none;\n",
       "                /* Needs to be in here for Safari polyfill so background images work as expected. */\n",
       "                background-size: auto;\n",
       "            }\n",
       "            .progress-bar-interrupted, .progress-bar-interrupted::-webkit-progress-bar {\n",
       "                background: #F44336;\n",
       "            }\n",
       "        </style>\n",
       "      <progress value='153' class='' max='480', style='width:300px; height:20px; vertical-align: middle;'></progress>\n",
       "      31.88% [153/480 00:42<01:30]\n",
       "    </div>\n",
       "    "
      ],
      "text/plain": [
       "<IPython.core.display.HTML object>"
      ]
     },
     "metadata": {},
     "output_type": "display_data"
    },
    {
     "name": "stdout",
     "output_type": "stream",
     "text": [
      "128_42_1 can only concatenate str (not \"int\") to str\n",
      "--Return--\n",
      "> /scratch/lfang/repos/salk_light/salk/uri/superres/helpers.py(169)random_crop_tile()->None\n",
      "-> import pdb; pdb.set_trace()\n"
     ]
    }
   ],
   "source": [
    "# Prepare 'confocal_airyscan_pairs_mito'\n",
    "import scripts.datasets.paired_001_subset_001"
   ]
  },
  {
   "cell_type": "code",
   "execution_count": null,
   "metadata": {},
   "outputs": [],
   "source": [
    "# Prepare 'MitoTracker_Red_FM_movie_data'\n",
    "import scripts.datasets.crappified_001_subset_001"
   ]
  },
  {
   "cell_type": "code",
   "execution_count": null,
   "metadata": {},
   "outputs": [],
   "source": [
    "# Prepare 'Airyscan_processed_data_from_the_server'\n",
    "import scripts.datasets.crappified_001_subset_002"
   ]
  },
  {
   "cell_type": "code",
   "execution_count": null,
   "metadata": {},
   "outputs": [],
   "source": [
    "def copy_data(subset, source):\n",
    "    subset_path = source/subset\n",
    "    folders = [f for f in listdir(subset_path) if isdir(join(subset_path, f))]\n",
    "    for f in folders:\n",
    "        combo_f = dataset/f\n",
    "        subset_f = subset_path/f\n",
    "        #combo_f.mkdir(parents=True, exist_ok=True, mode=0o775)\n",
    "        copy_tree(str(subset_f), str(combo_f))"
   ]
  },
  {
   "cell_type": "code",
   "execution_count": null,
   "metadata": {},
   "outputs": [],
   "source": [
    "# Copy in all subsets\n",
    "print('Start copying paired data...')\n",
    "for subset in progress_bar(paired_sets): copy_data(subset, paired_001) \n",
    "print('Done.')"
   ]
  },
  {
   "cell_type": "code",
   "execution_count": null,
   "metadata": {},
   "outputs": [],
   "source": [
    "print('\\nStart copying crappified data...')\n",
    "for subset in progress_bar(crappified_sets): copy_data(subset, crappified_001) \n",
    "print('Done.')"
   ]
  },
  {
   "cell_type": "code",
   "execution_count": null,
   "metadata": {},
   "outputs": [],
   "source": [
    "print('\\n\\nAll done!')"
   ]
  }
 ],
 "metadata": {
  "kernelspec": {
   "display_name": "Python 3",
   "language": "python",
   "name": "python3"
  },
  "language_info": {
   "codemirror_mode": {
    "name": "ipython",
    "version": 3
   },
   "file_extension": ".py",
   "mimetype": "text/x-python",
   "name": "python",
   "nbconvert_exporter": "python",
   "pygments_lexer": "ipython3",
   "version": "3.7.0"
  }
 },
 "nbformat": 4,
 "nbformat_minor": 2
}
