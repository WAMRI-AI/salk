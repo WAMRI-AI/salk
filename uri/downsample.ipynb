{
 "cells": [
  {
   "cell_type": "code",
   "execution_count": null,
   "metadata": {},
   "outputs": [],
   "source": [
    "import fastai\n",
    "from fastai import *          # Quick access to most common functionality\n",
    "from fastai.vision import *   # Quick access to computer vision functionality\n",
    "from fastai.layers import Lambda\n",
    "from fastai.callbacks import *\n",
    "import pytorch_ssim as ssim\n",
    "from superres import *\n",
    "from torchvision.models import vgg16_bn\n",
    "import czifile"
   ]
  },
  {
   "cell_type": "code",
   "execution_count": null,
   "metadata": {},
   "outputs": [],
   "source": [
    "2**14"
   ]
  },
  {
   "cell_type": "code",
   "execution_count": null,
   "metadata": {},
   "outputs": [],
   "source": [
    "#first = Path('/DATA/WAMRI/salk/uri/Image_reconstruction_data/input').iterdir()\n",
    "#list(first)"
   ]
  },
  {
   "cell_type": "code",
   "execution_count": null,
   "metadata": {},
   "outputs": [],
   "source": [
    "path = Path('/DATA/WAMRI/salk/uri/BPHO_Live_imaging/')\n",
    "path_hr = path/'hr_images'\n",
    "path_lr = path/'small-96'\n",
    "test_items = list(Path('/DATA/WAMRI/salk/uri/Image_restoration_data/newimg/').iterdir())\n",
    "\n",
    "path_hr.mkdir(exist_ok=True)"
   ]
  },
  {
   "cell_type": "code",
   "execution_count": null,
   "metadata": {},
   "outputs": [],
   "source": [
    "czi_files = list(path.glob('*.czi'))"
   ]
  },
  {
   "cell_type": "code",
   "execution_count": null,
   "metadata": {},
   "outputs": [],
   "source": [
    "shapes = []\n",
    "shape_set = set()\n",
    "\n",
    "axes = set()\n",
    "imgs = 0\n",
    "for fn in progress_bar(czi_files):\n",
    "    czf = czifile.CziFile(fn)\n",
    "    desc = dict()\n",
    "    for c,val in zip(czf.axes, czf.shape):\n",
    "        if c != 'H':\n",
    "            desc[c] = val\n",
    "            \n",
    "    imgs += desc['C'] * desc['T'] * 3\n",
    "    shapes.append(desc)\n",
    "    axes.add(czf.axes)\n",
    "    shape_set.add(tuple((desc[c] for c in 'BVCTZYX0')))\n",
    "    czf.close()\n",
    "\n",
    "shape_df = pd.DataFrame(shapes)"
   ]
  },
  {
   "cell_type": "code",
   "execution_count": null,
   "metadata": {},
   "outputs": [],
   "source": []
  },
  {
   "cell_type": "code",
   "execution_count": null,
   "metadata": {},
   "outputs": [],
   "source": [
    "def save_img(dest_path, src_fn, c, t, z, data):\n",
    "    save_name = dest_path/f'{fn.stem}_{c:03d}_{t:03d}_{t:03d}.tif'\n",
    "    img = Image(data[None]).save(save_name)\n",
    "    \n",
    "\n",
    "def process_czi_file(fn, i):\n",
    "    with czifile.CziFile(fn) as czf:\n",
    "        data = tensor(czf.asarray().astype(float))\n",
    "        data = data / data.max()\n",
    "        \n",
    "        if czf.axes == 'BVCTZYX0':\n",
    "            for z in range(czf.shape[4]):\n",
    "                for c in range(czf.shape[2]):\n",
    "                    for t in range(1): # range(czf.shape[3]):\n",
    "                        img_data = data[0,0,c,t,z,:,:,0]\n",
    "                        save_img(path_hr, fn,c,t,z,img_data)\n",
    "        elif czf.axes == 'VBHTCZYX0':\n",
    "            for z in range(czf.shape[5]):\n",
    "                for c in range(czf.shape[4]):\n",
    "                    for t in range(1): #range(czf.shape[3]):\n",
    "                        img_data = data[0,0,0,t,c,z,:,:,0]\n",
    "                        save_img(path_hr, fn,c,t,z,img_data)\n",
    "\n",
    "#parallel(process_czi_file, czi_files)"
   ]
  },
  {
   "cell_type": "code",
   "execution_count": null,
   "metadata": {},
   "outputs": [],
   "source": [
    "hr_files = list(path_hr.glob('*.tif'))\n",
    "len(hr_files)"
   ]
  },
  {
   "cell_type": "code",
   "execution_count": null,
   "metadata": {},
   "outputs": [],
   "source": [
    "il = ImageItemList.from_folder(path_hr, label_cls=ImageItemList)"
   ]
  },
  {
   "cell_type": "code",
   "execution_count": null,
   "metadata": {},
   "outputs": [],
   "source": [
    "def resize_one(fn,i):\n",
    "    dest = path_lr/fn.relative_to(path_hr)\n",
    "    dest.parent.mkdir(parents=True, exist_ok=True)\n",
    "    img = PIL.Image.open(fn)\n",
    "    targ_sz = resize_to(img,96,use_min=True)\n",
    "    img = img.resize(targ_sz, resample=PIL.Image.BILINEAR)\n",
    "    img.save(dest, quality=30)"
   ]
  },
  {
   "cell_type": "code",
   "execution_count": null,
   "metadata": {},
   "outputs": [],
   "source": [
    "#parallel(resize_one, il.items)"
   ]
  },
  {
   "cell_type": "code",
   "execution_count": null,
   "metadata": {},
   "outputs": [],
   "source": [
    "open_image(path_lr/il.items[0].relative_to(path_hr)).show()"
   ]
  },
  {
   "cell_type": "code",
   "execution_count": null,
   "metadata": {},
   "outputs": [],
   "source": [
    "#bs,size=4,512\n",
    "bs,size=16,256\n",
    "#bs,size=32,160\n",
    "arch = models.resnet34\n",
    "\n",
    "src =  (ImageItemList.from_folder(path_lr, label_cls=ImageItemList)\n",
    "       .random_split_by_pct(0.1, seed=42))\n",
    "data = (src.label_from_func(lambda x: path_hr/x.name)\n",
    "       .transform(get_transforms(max_zoom=2.), size=size, tfm_y=True)\n",
    "       .add_test(test_items, label=test_items[0])\n",
    "       .databunch(bs=bs)) #.normalize(imagenet_stats, do_y=True))\n",
    "\n",
    "data.c = 3"
   ]
  },
  {
   "cell_type": "code",
   "execution_count": null,
   "metadata": {},
   "outputs": [],
   "source": [
    "trn,val,tst = data.train_ds,data.valid_ds, data.test_ds"
   ]
  },
  {
   "cell_type": "code",
   "execution_count": null,
   "metadata": {},
   "outputs": [],
   "source": [
    "show_multi(lambda i,j: val[i][j], 2, 2, figsize=(12,12))"
   ]
  },
  {
   "cell_type": "code",
   "execution_count": null,
   "metadata": {},
   "outputs": [],
   "source": [
    "k = tensor([\n",
    "    [0.  ,-5/3,1],\n",
    "    [-5/3,-5/3,1],\n",
    "    [1.  ,1   ,1],\n",
    "]).cuda().expand(1,3,3,3)/6\n",
    "\n",
    "base_loss = F.mse_loss"
   ]
  },
  {
   "cell_type": "code",
   "execution_count": null,
   "metadata": {},
   "outputs": [],
   "source": [
    "class FeatureLoss(nn.Module):\n",
    "    def __init__(self, m_feat, layer_ids, layer_wgts):\n",
    "        super().__init__()\n",
    "        self.m_feat = m_feat\n",
    "        self.loss_features = [self.m_feat[i] for i in layer_ids]\n",
    "        self.hooks = hook_outputs(self.loss_features, detach=False)\n",
    "        self.wgts = layer_wgts\n",
    "        self.metric_names = ['L1      ','edge    '] + [f'feat_{i}  ' for i in range(len(layer_ids))]\n",
    "        \n",
    "    def make_feature(self, bs, o, clone=False):\n",
    "        feat = o.view(bs, -1)\n",
    "        return feat.clone() if clone else feat\n",
    "    \n",
    "    def make_features(self, x, clone=False):\n",
    "        self.m_feat(x)\n",
    "        return [self.make_feature(x.shape[0], o, clone) for o in self.hooks.stored]\n",
    "    \n",
    "    def forward(self, input, target):\n",
    "        out_feat = self.make_features(target, clone=True)\n",
    "        in_feat = self.make_features(input)\n",
    "        px_loss   = base_loss(input,target)\n",
    "        edge_loss = base_loss(F.conv2d(target, k), F.conv2d(input, k))\n",
    "        self.feat_losses = [px_loss,edge_loss]\n",
    "        self.feat_losses += [base_loss(f_in, f_out)*w\n",
    "                             for f_in, f_out, w in zip(in_feat, out_feat, self.wgts)]\n",
    "        self.metrics = dict(zip(self.metric_names, self.feat_losses))\n",
    "        return sum(self.feat_losses)\n",
    "    \n",
    "    def __del__(self): self.hooks.remove()"
   ]
  },
  {
   "cell_type": "code",
   "execution_count": null,
   "metadata": {},
   "outputs": [],
   "source": [
    "vgg_m = vgg16_bn(True).features.cuda().eval()\n",
    "requires_grad(vgg_m, False)"
   ]
  },
  {
   "cell_type": "code",
   "execution_count": null,
   "metadata": {},
   "outputs": [],
   "source": [
    "blocks = [i-1 for i,o in enumerate(children(vgg_m)) if isinstance(o,nn.MaxPool2d)]\n",
    "blocks, [vgg_m[i] for i in blocks]"
   ]
  },
  {
   "cell_type": "code",
   "execution_count": null,
   "metadata": {},
   "outputs": [],
   "source": [
    "feat_loss = FeatureLoss(vgg_m, blocks[2:5], [5,5,5])"
   ]
  },
  {
   "cell_type": "code",
   "execution_count": null,
   "metadata": {},
   "outputs": [],
   "source": [
    "def get_preds():\n",
    "    x,y=learn.data.one_batch(DatasetType.Valid, True,True)\n",
    "    #preds = data.denorm(learn.pred_batch(DatasetType.Valid).detach())\n",
    "    preds = learn.pred_batch(DatasetType.Valid).detach()\n",
    "    return x,y,preds\n",
    "\n",
    "def get_test_preds():\n",
    "    x,y=learn.data.one_batch(DatasetType.Test, True,True)\n",
    "    preds = data.denorm(learn.pred_batch(DatasetType.Test).detach())\n",
    "    return x,y,preds\n",
    "\n",
    "def show_pred(i=0):\n",
    "    _,axes = plt.subplots(1,3, figsize=(15,5))\n",
    "    show_image(x[i], axes[0])\n",
    "    show_image(preds[i], axes[1])\n",
    "    show_image(y[i], axes[2]);"
   ]
  },
  {
   "cell_type": "code",
   "execution_count": null,
   "metadata": {},
   "outputs": [],
   "source": [
    "wd = 1e-3"
   ]
  },
  {
   "cell_type": "code",
   "execution_count": null,
   "metadata": {},
   "outputs": [],
   "source": [
    "learn = Learner.create_unet(data, arch, wd=wd, loss_func=feat_loss, pretrained=False,\n",
    "                            callback_fns=LossMetrics, all_wn=True, blur=True)"
   ]
  },
  {
   "cell_type": "code",
   "execution_count": null,
   "metadata": {},
   "outputs": [],
   "source": [
    "learn.lr_find()\n",
    "learn.recorder.plot()"
   ]
  },
  {
   "cell_type": "code",
   "execution_count": null,
   "metadata": {},
   "outputs": [],
   "source": [
    "lr = 1e-2"
   ]
  },
  {
   "cell_type": "code",
   "execution_count": null,
   "metadata": {},
   "outputs": [],
   "source": [
    "learn.fit_one_cycle(30, slice(lr*10)) #, pct_start=0.9)\n",
    "learn.save('1')"
   ]
  },
  {
   "cell_type": "code",
   "execution_count": null,
   "metadata": {},
   "outputs": [],
   "source": [
    "learn.recorder.plot_losses()"
   ]
  },
  {
   "cell_type": "code",
   "execution_count": null,
   "metadata": {},
   "outputs": [],
   "source": [
    "learn.load('1')\n",
    "learn.fit_one_cycle(20, slice(lr))\n",
    "learn.save('2')"
   ]
  },
  {
   "cell_type": "code",
   "execution_count": null,
   "metadata": {},
   "outputs": [],
   "source": [
    "learn.recorder.plot_losses()"
   ]
  },
  {
   "cell_type": "code",
   "execution_count": null,
   "metadata": {},
   "outputs": [],
   "source": [
    "learn.load('2')\n",
    "learn.fit_one_cycle(30, slice(lr), pct_start=0.9)\n",
    "learn.save('3')"
   ]
  },
  {
   "cell_type": "code",
   "execution_count": null,
   "metadata": {},
   "outputs": [],
   "source": [
    "learn.recorder.plot_losses()"
   ]
  },
  {
   "cell_type": "code",
   "execution_count": null,
   "metadata": {},
   "outputs": [],
   "source": [
    "learn.load('3')\n",
    "learn.fit_one_cycle(30, slice(lr), pct_start=0.9)\n",
    "learn.save('4')\n"
   ]
  },
  {
   "cell_type": "code",
   "execution_count": null,
   "metadata": {},
   "outputs": [],
   "source": [
    "learn = learn.load('2')"
   ]
  },
  {
   "cell_type": "code",
   "execution_count": null,
   "metadata": {},
   "outputs": [],
   "source": [
    "x,y,preds = get_preds()\n",
    "show_pred(0)"
   ]
  },
  {
   "cell_type": "code",
   "execution_count": null,
   "metadata": {},
   "outputs": [],
   "source": [
    "ssim.ssim(preds,y), F.mse_loss(preds, y), psnr(preds, y)"
   ]
  },
  {
   "cell_type": "code",
   "execution_count": null,
   "metadata": {},
   "outputs": [],
   "source": [
    "x,y,preds = get_test_preds()\n",
    "show_pred(0)"
   ]
  },
  {
   "cell_type": "code",
   "execution_count": null,
   "metadata": {},
   "outputs": [],
   "source": [
    "show_pred(1)"
   ]
  },
  {
   "cell_type": "code",
   "execution_count": null,
   "metadata": {},
   "outputs": [],
   "source": [
    "bs,size=2,1024\n",
    "#bs,size=32,160\n",
    "arch = models.resnet34\n",
    "\n",
    "src =  (ImageItemList.from_folder(path_lr, label_cls=ImageItemList)\n",
    "       .random_split_by_pct(0.1, seed=42))\n",
    "data = (src.label_from_func(lambda x: path_hr/x.name)\n",
    "       .transform(get_transforms(max_zoom=2.), size=size, tfm_y=True)\n",
    "       .add_test(test_items, label=test_items[0])\n",
    "       .databunch(bs=bs).normalize(imagenet_stats, do_y=True))\n",
    "\n",
    "data.c = 3"
   ]
  },
  {
   "cell_type": "code",
   "execution_count": null,
   "metadata": {},
   "outputs": [],
   "source": [
    "learn = Learner.create_unet(data, arch, wd=wd, loss_func=feat_loss,\n",
    "                            callback_fns=LossMetrics, all_wn=True, blur=True)\n",
    "learn = learn.load('2')"
   ]
  },
  {
   "cell_type": "code",
   "execution_count": null,
   "metadata": {},
   "outputs": [],
   "source": [
    "x,y,preds = get_test_preds()"
   ]
  },
  {
   "cell_type": "code",
   "execution_count": null,
   "metadata": {},
   "outputs": [],
   "source": [
    "preds.shape"
   ]
  },
  {
   "cell_type": "code",
   "execution_count": null,
   "metadata": {},
   "outputs": [],
   "source": [
    "Image(preds[1][0,:,:][None])"
   ]
  },
  {
   "cell_type": "code",
   "execution_count": null,
   "metadata": {},
   "outputs": [],
   "source": [
    "learn.predict(learn.data.test_ds[1][0])[0]"
   ]
  },
  {
   "cell_type": "code",
   "execution_count": null,
   "metadata": {},
   "outputs": [],
   "source": [
    "learn.data.test_ds[1][0]"
   ]
  },
  {
   "cell_type": "code",
   "execution_count": null,
   "metadata": {},
   "outputs": [],
   "source": [
    "import czifile\n",
    "import imageio\n",
    "import PIL.Image"
   ]
  },
  {
   "cell_type": "code",
   "execution_count": null,
   "metadata": {},
   "outputs": [],
   "source": [
    "path = Path('/DATA/WAMRI/salk/uri/MitoTracker_Red_FM_movie_data/')\n",
    "movie_data = Path('/DATA/WAMRI/salk/uri/movie')"
   ]
  },
  {
   "cell_type": "code",
   "execution_count": null,
   "metadata": {},
   "outputs": [],
   "source": [
    "from scipy.ndimage.filters import gaussian_filter\n",
    "\n",
    "def process_file(fn, mb):\n",
    "    folder = (movie_data/fn.stem)\n",
    "    folder.mkdir(parents=True, exist_ok=True)\n",
    "    f = czifile.CziFile(fn)\n",
    "    \n",
    "    data = f.asarray().astype(float)\n",
    "    data += data.min()\n",
    "    data /= data.max()\n",
    "    preds = []\n",
    "    last_pred = None\n",
    "    alpha = 0.99\n",
    "    alpha2 = 1-alpha\n",
    "    \n",
    "    for idx in progress_bar(range(data.shape[3]), parent=mb):\n",
    "        img_data = data[0,0,0,idx,0,0,:,:,0]\n",
    "        #set_trace()\n",
    "        img = PIL.Image.fromarray(img_data)\n",
    "        targ_sz = resize_to(img,size,use_min=True)\n",
    "        img = np.array(img.resize(targ_sz, resample=PIL.Image.BILINEAR))\n",
    "        x = tensor(img[None]).float().repeat([3,1,1])[None].cuda()\n",
    "        y_pred = learn.model(x).permute([0,2,3,1])\n",
    "        y_pred = torch.clamp(y_pred, 0., 1.).detach().cpu().numpy()\n",
    "        y_pred = gaussian_filter(y_pred, sigma=3)\n",
    "        if last_pred is None: last_pred = y_pred\n",
    "        final_pred = y_pred * alpha + last_pred*alpha2\n",
    "        last_pred = final_pred\n",
    "        preds.append((final_pred*255).astype(np.uint8))\n",
    "    all_y = np.concatenate(preds)\n",
    "    #set_trace()\n",
    "    imageio.mimwrite(f'{fn.stem}.mp4', all_y, fps=30, macro_block_size=None)\n",
    "    #imageio.mimwrite(f'{fn.stem}.tiff', all_y)"
   ]
  },
  {
   "cell_type": "code",
   "execution_count": null,
   "metadata": {},
   "outputs": [],
   "source": [
    "movie_files = list(path.glob('*230*.czi'))\n",
    "mb = master_bar(movie_files)\n",
    "for fn in mb:\n",
    "    process_file(fn, mb)"
   ]
  },
  {
   "cell_type": "code",
   "execution_count": null,
   "metadata": {},
   "outputs": [],
   "source": [
    "print('done')"
   ]
  },
  {
   "cell_type": "code",
   "execution_count": null,
   "metadata": {},
   "outputs": [],
   "source": [
    "size"
   ]
  },
  {
   "cell_type": "code",
   "execution_count": null,
   "metadata": {},
   "outputs": [],
   "source": [
    "learn.predict??"
   ]
  },
  {
   "cell_type": "code",
   "execution_count": null,
   "metadata": {},
   "outputs": [],
   "source": []
  }
 ],
 "metadata": {
  "kernelspec": {
   "display_name": "Python 3",
   "language": "python",
   "name": "python3"
  },
  "language_info": {
   "codemirror_mode": {
    "name": "ipython",
    "version": 3
   },
   "file_extension": ".py",
   "mimetype": "text/x-python",
   "name": "python",
   "nbconvert_exporter": "python",
   "pygments_lexer": "ipython3",
   "version": "3.6.5"
  }
 },
 "nbformat": 4,
 "nbformat_minor": 2
}
