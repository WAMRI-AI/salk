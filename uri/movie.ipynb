{
 "cells": [
  {
   "cell_type": "code",
   "execution_count": 8,
   "metadata": {},
   "outputs": [],
   "source": [
    "import fastai\n",
    "from fastai import *          # Quick access to most common functionality\n",
    "from fastai.vision import *   # Quick access to computer vision functionality\n",
    "from fastai.layers import Lambda\n",
    "from fastai.callbacks import SaveModelCallback\n",
    "from superres import *\n",
    "from fast_progress import master_bar, progress_bar\n",
    "import czifile\n",
    "import imageio"
   ]
  },
  {
   "cell_type": "code",
   "execution_count": 9,
   "metadata": {},
   "outputs": [],
   "source": [
    "path = Path('/DATA/WAMRI/salk/uri/MitoTracker_Red_FM_movie_data/')\n",
    "movie_data = Path('/DATA/WAMRI/salk/uri/movie')"
   ]
  },
  {
   "cell_type": "code",
   "execution_count": 10,
   "metadata": {},
   "outputs": [],
   "source": [
    "scale=4\n",
    "n_resblocks=16\n",
    "n_feats=128\n",
    "res_scale= 1.\n",
    "#model = WDSR(scale, n_resblocks, n_feats, res_scale, n_colors=1)\n",
    "model = torch.load('/home/fredmonroe/wdsr_model_1.3_best').cuda().eval()"
   ]
  },
  {
   "cell_type": "code",
   "execution_count": 11,
   "metadata": {},
   "outputs": [],
   "source": [
    "def process_file(fn, mb):\n",
    "    folder = (movie_data/fn.stem)\n",
    "    folder.mkdir(parents=True, exist_ok=True)\n",
    "    f = czifile.CziFile(fn)\n",
    "    \n",
    "    data = f.asarray().astype(float)\n",
    "    data += data.min()\n",
    "    data /= data.max()\n",
    "    preds = []\n",
    "    for idx in progress_bar(range(data.shape[3]), parent=mb):\n",
    "        img_data = data[0,0,0,idx,0,0,:,:,0]\n",
    "        targ_sz = resize_to(img,96,use_min=True)\n",
    "        x = tensor(img_data[None]).float().cuda()\n",
    "        y_pred = model(x).detach()\n",
    "        y_pred = (torch.clamp(y_pred*3, 0., 1.)*255).cpu().numpy().astype(np.uint8)\n",
    "        preds.append(y_pred[0])\n",
    "    all_y = np.concatenate(preds)\n",
    "    imageio.mimwrite(f'{fn.stem}.mp4', all_y, fps=30, macro_block_size=None)\n",
    "    imageio.mimwrite(f'{fn.stem}.tiff', all_y)"
   ]
  },
  {
   "cell_type": "code",
   "execution_count": 12,
   "metadata": {},
   "outputs": [
    {
     "data": {
      "application/vnd.jupyter.widget-view+json": {
       "model_id": "68ae0b1aecbd4fbfa1e135c505c144ba",
       "version_major": 2,
       "version_minor": 0
      },
      "text/plain": [
       "VBox(children=(HBox(children=(IntProgress(value=0, max=6), HTML(value=''))), HTML(value='')))"
      ]
     },
     "metadata": {},
     "output_type": "display_data"
    }
   ],
   "source": [
    "movie_files = list(path.glob('*230*.czi'))\n",
    "mb = master_bar(movie_files)\n",
    "for fn in mb:\n",
    "    process_file(fn, mb)\n",
    "    "
   ]
  },
  {
   "cell_type": "code",
   "execution_count": 13,
   "metadata": {},
   "outputs": [
    {
     "name": "stdout",
     "output_type": "stream",
     "text": [
      "done\n"
     ]
    }
   ],
   "source": [
    "print('done')"
   ]
  },
  {
   "cell_type": "code",
   "execution_count": 1,
   "metadata": {},
   "outputs": [
    {
     "ename": "NameError",
     "evalue": "name 'learn' is not defined",
     "output_type": "error",
     "traceback": [
      "\u001b[0;31m---------------------------------------------------------------------------\u001b[0m",
      "\u001b[0;31mNameError\u001b[0m                                 Traceback (most recent call last)",
      "\u001b[0;32m<ipython-input-1-851add19358a>\u001b[0m in \u001b[0;36m<module>\u001b[0;34m()\u001b[0m\n\u001b[0;32m----> 1\u001b[0;31m \u001b[0mlearn\u001b[0m\u001b[0;34m\u001b[0m\u001b[0m\n\u001b[0m",
      "\u001b[0;31mNameError\u001b[0m: name 'learn' is not defined"
     ]
    }
   ],
   "source": [
    "learn"
   ]
  },
  {
   "cell_type": "code",
   "execution_count": null,
   "metadata": {},
   "outputs": [],
   "source": []
  }
 ],
 "metadata": {
  "kernelspec": {
   "display_name": "Python 3",
   "language": "python",
   "name": "python3"
  },
  "language_info": {
   "codemirror_mode": {
    "name": "ipython",
    "version": 3
   },
   "file_extension": ".py",
   "mimetype": "text/x-python",
   "name": "python",
   "nbconvert_exporter": "python",
   "pygments_lexer": "ipython3",
   "version": "3.6.5"
  }
 },
 "nbformat": 4,
 "nbformat_minor": 2
}
