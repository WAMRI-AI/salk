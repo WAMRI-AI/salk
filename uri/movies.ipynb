{
 "cells": [
  {
   "cell_type": "code",
   "execution_count": 50,
   "metadata": {},
   "outputs": [],
   "source": [
    "import fastai\n",
    "from fastai import *          # Quick access to most common functionality\n",
    "from fastai.vision import *   # Quick access to computer vision functionality\n",
    "from fastai.layers import Lambda\n",
    "from fastai.callbacks import *\n",
    "import pytorch_ssim as ssim\n",
    "from superres import *\n",
    "from torchvision.models import vgg16_bn\n",
    "import czifile\n",
    "import shutil\n",
    "import numbers\n",
    "from fastai.vision.image import TfmPixel"
   ]
  },
  {
   "cell_type": "code",
   "execution_count": 51,
   "metadata": {},
   "outputs": [],
   "source": [
    "PATH = Path('/DATA/WAMRI/salk/uri/')\n",
    "movie_path = PATH/'movie_src'\n",
    "train_src = movie_path/'train'\n",
    "valid_src = movie_path/'valid'\n",
    "train_hr = movie_path/'train_hr'\n",
    "train_lr = movie_path/'train_lr'\n",
    "valid_hr = movie_path/'valid_hr'\n",
    "valid_lr = movie_path/'valid_lr'\n",
    "\n",
    "for folder in [train_hr, train_lr, valid_hr, valid_lr]:\n",
    "     if folder.exists(): shutil.rmtree(folder)"
   ]
  },
  {
   "cell_type": "code",
   "execution_count": 52,
   "metadata": {},
   "outputs": [],
   "source": [
    "def process_czi(czi_fn, hr_dir, lr_dir):\n",
    "    with czifile.CziFile(czi_fn) as czi_f:\n",
    "        proc_axes, proc_shape = get_czi_shape_info(czi_f)\n",
    "        channels = proc_shape['C'] \n",
    "        depths = proc_shape['Z']\n",
    "        times = proc_shape['T']\n",
    "        x,y = proc_shape['X'], proc_shape['Y']\n",
    "        data = czi_f.asarray()\n",
    "        for channel in range(channels):\n",
    "            for depth in range(depths):\n",
    "                for time_col in range(times):\n",
    "                    idx = build_index(proc_axes, {'T': time_col, 'C': channel, 'Z':depth, 'X':slice(0,x),'Y':slice(0,y)})\n",
    "                    img = data[idx].astype(np.float)\n",
    "                    save_fn = hr_dir/f'{czi_fn.stem}_{channel:02d}_{depth:03d}_{time_col:03d}.tif'\n",
    "                    img -= img.min()\n",
    "                    img /= img.max()\n",
    "                    pimg = PIL.Image.fromarray(img)\n",
    "                    pimg.save(save_fn)\n",
    "                    cur_size = pimg.size\n",
    "                    new_size = (cur_size[0]//4, cur_size[1]//4)\n",
    "                    pimg.resize(new_size, resample=PIL.Image.BICUBIC).save(lr_dir/save_fn.name)"
   ]
  },
  {
   "cell_type": "code",
   "execution_count": 53,
   "metadata": {
    "scrolled": true
   },
   "outputs": [
    {
     "data": {
      "text/html": [
       "\n",
       "    <div>\n",
       "        <style>\n",
       "            /* Turns off some styling */\n",
       "            progress {\n",
       "                /* gets rid of default border in Firefox and Opera. */\n",
       "                border: none;\n",
       "                /* Needs to be in here for Safari polyfill so background images work as expected. */\n",
       "                background-size: auto;\n",
       "            }\n",
       "            .progress-bar-interrupted, .progress-bar-interrupted::-webkit-progress-bar {\n",
       "                background: #F44336;\n",
       "            }\n",
       "        </style>\n",
       "      <progress value='7' class='' max='7', style='width:300px; height:20px; vertical-align: middle;'></progress>\n",
       "      100.00% [7/7 00:04<00:00]\n",
       "    </div>\n",
       "    "
      ],
      "text/plain": [
       "<IPython.core.display.HTML object>"
      ]
     },
     "metadata": {},
     "output_type": "display_data"
    },
    {
     "data": {
      "text/html": [
       "\n",
       "    <div>\n",
       "        <style>\n",
       "            /* Turns off some styling */\n",
       "            progress {\n",
       "                /* gets rid of default border in Firefox and Opera. */\n",
       "                border: none;\n",
       "                /* Needs to be in here for Safari polyfill so background images work as expected. */\n",
       "                background-size: auto;\n",
       "            }\n",
       "            .progress-bar-interrupted, .progress-bar-interrupted::-webkit-progress-bar {\n",
       "                background: #F44336;\n",
       "            }\n",
       "        </style>\n",
       "      <progress value='3' class='' max='3', style='width:300px; height:20px; vertical-align: middle;'></progress>\n",
       "      100.00% [3/3 00:02<00:00]\n",
       "    </div>\n",
       "    "
      ],
      "text/plain": [
       "<IPython.core.display.HTML object>"
      ]
     },
     "metadata": {},
     "output_type": "display_data"
    }
   ],
   "source": [
    "if not train_hr.exists():\n",
    "    for folder in [train_hr, train_lr, valid_hr, valid_lr]: \n",
    "        folder.mkdir(exist_ok=True)\n",
    "    train_files = list(train_src.glob('*.czi'))\n",
    "    for fn in progress_bar(train_files): process_czi(fn, train_hr, train_lr)\n",
    "    valid_files = list(valid_src.glob('*.czi'))\n",
    "    for fn in progress_bar(valid_files): process_czi(fn, valid_hr, valid_lr)"
   ]
  },
  {
   "cell_type": "code",
   "execution_count": 91,
   "metadata": {},
   "outputs": [],
   "source": [
    "sz_lr = 128\n",
    "sz_hr = 4*sz_lr\n",
    "bs = 8\n",
    "num_workers = 0\n",
    "kwargs = {}\n",
    "\n",
    "def match_hr_func(x):\n",
    "    return Path(str(x).replace('_lr','_hr'))\n",
    "\n",
    "src = (GrayImageItemList\n",
    "       .from_folder(movie_path, '*.tif', label_class=GrayImageItemList)\n",
    "       .split_by_folder(train='train_lr', valid='valid_lr')\n",
    "       .label_from_func(match_hr_func))"
   ]
  },
  {
   "cell_type": "code",
   "execution_count": null,
   "metadata": {},
   "outputs": [],
   "source": []
  }
 ],
 "metadata": {
  "kernelspec": {
   "display_name": "Python 3",
   "language": "python",
   "name": "python3"
  },
  "language_info": {
   "codemirror_mode": {
    "name": "ipython",
    "version": 3
   },
   "file_extension": ".py",
   "mimetype": "text/x-python",
   "name": "python",
   "nbconvert_exporter": "python",
   "pygments_lexer": "ipython3",
   "version": "3.6.5"
  }
 },
 "nbformat": 4,
 "nbformat_minor": 2
}
