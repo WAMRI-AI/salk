{
 "cells": [
  {
   "cell_type": "code",
   "execution_count": 1,
   "metadata": {},
   "outputs": [],
   "source": [
    "import fastai\n",
    "from fastai import *          # Quick access to most common functionality\n",
    "from fastai.vision import *   # Quick access to computer vision functionality\n",
    "from fastai.layers import Lambda\n",
    "from fastai.callbacks import *\n",
    "import pytorch_ssim as ssim\n",
    "from superres import *\n",
    "from torchvision.models import vgg16_bn\n",
    "import czifile\n",
    "import shutil\n",
    "import numbers\n",
    "from fastai.vision.image import TfmPixel\n",
    "import PIL\n",
    "import torch\n",
    "import torchvision as vision"
   ]
  },
  {
   "cell_type": "code",
   "execution_count": 2,
   "metadata": {},
   "outputs": [],
   "source": [
    "import superres.rddb as rddb"
   ]
  },
  {
   "cell_type": "code",
   "execution_count": 4,
   "metadata": {},
   "outputs": [],
   "source": [
    "PATH = Path('/DATA/WAMRI/salk/uri/movies')\n",
    "movie_path = PATH/'movie_src'\n",
    "test_path = PATH/'movie_test'\n",
    "train_src = movie_path/'train'\n",
    "valid_src = movie_path/'valid'\n",
    "#Following are separated folders\n",
    "TEMP_DATA = Path('/DATA/WAMRI/salk/uri/movies/')\n",
    "train_hr = TEMP_DATA/'train_hr'\n",
    "train_lr = TEMP_DATA/'train_lr'\n",
    "train_hr_ROI = TEMP_DATA/'train_hr_ROI'\n",
    "train_lr_ROI = TEMP_DATA/'train_lr_ROI'\n",
    "valid_hr = TEMP_DATA/'valid_hr'\n",
    "valid_lr = TEMP_DATA/'valid_lr'\n",
    "valid_hr_ROI = TEMP_DATA/'valid_hr_ROI'\n",
    "valid_lr_ROI = TEMP_DATA/'valid_lr_ROI'\n",
    "path_models = Path('/DATA/WAMRI/salk/uri/models')\n",
    "\n",
    "# for folder in [train_hr, train_lr, valid_hr, valid_lr, train_hr_ROI, train_lr_ROI, valid_hr_ROI, valid_lr_ROI]:\n",
    "#     if folder.exists(): shutil.rmtree(folder)"
   ]
  },
  {
   "cell_type": "code",
   "execution_count": 5,
   "metadata": {},
   "outputs": [],
   "source": [
    "def process_czi(czi_fn, hr_dir, lr_dir, hr_ROI_dir, lr_ROI_dir,hr_size=256):\n",
    "    with czifile.CziFile(czi_fn) as czi_f:\n",
    "        proc_axes, proc_shape = get_czi_shape_info(czi_f)\n",
    "        channels = proc_shape['C'] \n",
    "        depths = proc_shape['Z']\n",
    "        times = proc_shape['T']\n",
    "        x,y = proc_shape['X'], proc_shape['Y']\n",
    "        data = czi_f.asarray()\n",
    "        print(x,y,hr_size)\n",
    "        for channel in range(channels):\n",
    "            for depth in range(depths):\n",
    "                for time_col in range(times):\n",
    "                    idx = build_index(proc_axes, {'T': time_col, 'C': channel, 'Z':depth, 'X':slice(0,x),'Y':slice(0,y)})\n",
    "                    img = data[idx].astype(np.float)\n",
    "                    img -= img.min()\n",
    "                    img /= img.max()\n",
    "                    save_fn = hr_dir/f'{czi_fn.stem}_{channel:02d}_{depth:03d}_{time_col:03d}.tif'\n",
    "                    pimg = PIL.Image.fromarray((img*255).astype(np.uint8), mode='L')\n",
    "                    pimg.save(save_fn)\n",
    "                    img = PIL.Image.open(save_fn)\n",
    "                    rc = vision.transforms.RandomCrop([hr_size, hr_size])\n",
    "                    sample_num = 5\n",
    "                    count = 0\n",
    "                        #pass in 25 sub ROIS drawn randomly from img and save them \n",
    "                        #(and its downsampled counterpart) to disk (similar to below)\n",
    "                        #another for loop for samples (keep drawing ROIs and check until saving 5 samples to disk)\n",
    "                        # - generate tiles (get it work first)\n",
    "                        # - check tiles\n",
    "                    while count < 10:\n",
    "                        save_fn = hr_ROI_dir/f'{czi_fn.stem}_{channel:02d}_{depth:03d}_{time_col:03d}_{count:02d}.tif' #add sample number.\n",
    "                        ROI = rc(img)\n",
    "                        ROI_stats = PIL.ImageStat.Stat(ROI)\n",
    "                        if ROI_stats.stddev[0]>10:\n",
    "                            count = count+1\n",
    "                            ROI.save(save_fn)\n",
    "                            cur_size = ROI.size\n",
    "                            new_size = (cur_size[0]//4, cur_size[1]//4)\n",
    "                            ROI.resize(new_size, resample=PIL.Image.BICUBIC).save(lr_ROI_dir/save_fn.name)"
   ]
  },
  {
   "cell_type": "code",
   "execution_count": 6,
   "metadata": {
    "scrolled": true
   },
   "outputs": [],
   "source": [
    "if not train_hr.exists():\n",
    "    for folder in [train_hr, train_lr, valid_hr, valid_lr, train_hr_ROI, train_lr_ROI, valid_hr_ROI, valid_lr_ROI]: \n",
    "        folder.mkdir(parents=True,exist_ok=True)\n",
    "    train_files = list(train_src.glob('*.czi'))\n",
    "    for fn in progress_bar(train_files): process_czi(fn, train_hr, train_lr, train_hr_ROI, train_lr_ROI)\n",
    "    valid_files = list(valid_src.glob('*.czi'))\n",
    "    for fn in progress_bar(valid_files): process_czi(fn, valid_hr, valid_lr, valid_hr_ROI, valid_lr_ROI)"
   ]
  },
  {
   "cell_type": "code",
   "execution_count": 7,
   "metadata": {},
   "outputs": [],
   "source": [
    "train_files = list(train_src.glob('*.czi'))"
   ]
  },
  {
   "cell_type": "code",
   "execution_count": 8,
   "metadata": {},
   "outputs": [],
   "source": [
    "def match_hr_func(x):\n",
    "    return Path(str(x).replace('_lr','_hr'))\n",
    "\n",
    "src = (GrayImageItemList\n",
    "       .from_folder(TEMP_DATA, '*.tif')\n",
    "       .split_by_folder(train='train_lr_ROI', valid='valid_lr_ROI')\n",
    "       .label_from_func(match_hr_func))"
   ]
  },
  {
   "cell_type": "code",
   "execution_count": null,
   "metadata": {},
   "outputs": [],
   "source": [
    "x,y = src.train[5]\n",
    "x.shape, y.shape"
   ]
  },
  {
   "cell_type": "code",
   "execution_count": null,
   "metadata": {},
   "outputs": [],
   "source": [
    "x.show(figsize=(9,9))"
   ]
  },
  {
   "cell_type": "code",
   "execution_count": null,
   "metadata": {},
   "outputs": [],
   "source": [
    "y.show(figsize=(9,9))"
   ]
  },
  {
   "cell_type": "code",
   "execution_count": null,
   "metadata": {},
   "outputs": [],
   "source": []
  },
  {
   "cell_type": "code",
   "execution_count": null,
   "metadata": {},
   "outputs": [],
   "source": [
    "bs = 4\n",
    "sz_lr = src.train.x[0].shape[1]\n",
    "sz_hr = 4*sz_lr\n",
    "data = get_data(src, bs, sz_lr, sz_hr)"
   ]
  },
  {
   "cell_type": "code",
   "execution_count": null,
   "metadata": {},
   "outputs": [],
   "source": [
    "x,y  = data.train_ds[0]"
   ]
  },
  {
   "cell_type": "code",
   "execution_count": null,
   "metadata": {},
   "outputs": [],
   "source": [
    "i = 0\n",
    "for x,y in data.valid_ds:\n",
    "    x.show(figsize=(9,9)), y.show(figsize=(9,9))\n",
    "    print(x.data.max(), x.data.min(), y.data.max(), y.data.min())\n",
    "    if i > 2: break\n",
    "    i+=1"
   ]
  },
  {
   "cell_type": "code",
   "execution_count": 17,
   "metadata": {},
   "outputs": [],
   "source": [
    "n_feats = 64\n",
    "n_res = 12\n",
    "n_color = 1\n",
    "scale=4\n",
    "#model = DBPNLL(num_channels=1, base_filter=32, feat = 256, num_stages=10, scale_factor=scale)\n",
    "#model = SrResnet(n_feats, n_res, n_color, scale)\n",
    "model = rddb.RRDB_Net(in_nc=1,out_nc=1,nf=64,nb=23, upscale=4)\n",
    "model = nn.DataParallel(model, [0,1,2,3])"
   ]
  },
  {
   "cell_type": "code",
   "execution_count": 19,
   "metadata": {},
   "outputs": [],
   "source": [
    "def charbonnier_loss(inputs, targets):\n",
    "    eps = 1e-6;\n",
    "    d = inputs - targets\n",
    "    e = torch.sqrt(d**2 + eps)\n",
    "    return e.mean()\n",
    "\n",
    "#loss = charbonnier_loss\n",
    "loss = F.mse_loss\n",
    "#loss = F.l1_loss\n"
   ]
  },
  {
   "cell_type": "code",
   "execution_count": null,
   "metadata": {},
   "outputs": [],
   "source": [
    "sz_lr = src.train.x[0].shape[1]\n",
    "scale,bs = 4,16\n",
    "sz_hr = sz_lr*scale\n",
    "\n",
    "learn = build_learner(model, bs, sz_lr, sz_hr, src, loss=loss, model_dir=path_models)\n",
    "learn.lr_find()\n",
    "learn.recorder.plot()\n",
    "#learn.data.train_ds[0][0]"
   ]
  },
  {
   "cell_type": "code",
   "execution_count": null,
   "metadata": {},
   "outputs": [],
   "source": [
    "sz_lr = src.train.x[0].shape[1]\n",
    "scale,bs = 4,16\n",
    "sz_hr = sz_lr*scale\n",
    "epochs, lr = 5, 1e-3\n",
    "learn = batch_learn(model, bs, sz_lr, sz_hr, lr, epochs, src, \n",
    "                    save='movies_1.0', \n",
    "                    loss=loss, model_dir=path_models)"
   ]
  },
  {
   "cell_type": "code",
   "execution_count": null,
   "metadata": {},
   "outputs": [],
   "source": [
    "rows = 2\n",
    "ds = learn.dl(DatasetType.Valid).dataset\n",
    "\n",
    "learn.callbacks.append(RecordOnCPU())\n",
    "preds = learn.pred_batch(DatasetType.Valid)\n",
    "*learn.callbacks,rec_cpu = learn.callbacks\n",
    "x,y = rec_cpu.input,rec_cpu.target"
   ]
  },
  {
   "cell_type": "code",
   "execution_count": null,
   "metadata": {},
   "outputs": [],
   "source": [
    "xs = [ds.x.reconstruct(x[i]) for i in range(x.shape[0])]\n",
    "ys = [ds.y.reconstruct(y[i]) for i in range(y.shape[0])]\n",
    "preds = [ds.y.reconstruct(preds[i]) for i in range(preds.shape[0])]"
   ]
  },
  {
   "cell_type": "code",
   "execution_count": null,
   "metadata": {},
   "outputs": [],
   "source": [
    "nrow = 3\n",
    "axs = subplots(max(len(xs),nrow),3)\n",
    "fs = (5,5)\n",
    "for i, row_ax in enumerate(axs):\n",
    "    xs[i].show(ax=row_ax[0], figsize=fs)\n",
    "    preds[i].show(ax=row_ax[1], figsize=fs)\n",
    "    ys[i].show(ax=row_ax[2], figsize=fs)"
   ]
  },
  {
   "cell_type": "code",
   "execution_count": 9,
   "metadata": {},
   "outputs": [],
   "source": [
    "def image_from_tiles(learn, in_img, lr_sz=64, scale=4, pad=24):\n",
    "    hr_sz = lr_sz * scale\n",
    "    w, h = in_img.shape\n",
    "    #print(w,h)\n",
    "    in_tile = torch.zeros((lr_sz,lr_sz))\n",
    "    out_img = torch.zeros((w*scale,h*scale))\n",
    "    tile_sz = lr_sz - pad // scale\n",
    "    #print(tile_sz)\n",
    "    for x_tile in range(math.ceil(w/tile_sz)):\n",
    "        for y_tile in range(math.ceil(h/tile_sz)):\n",
    "            l_offset = pad // 4\n",
    "            t_offset = pad // 4\n",
    "\n",
    "            if x_tile == 0: l_offset = 0\n",
    "            if y_tile == 0: t_offset = 0\n",
    "            #print(l_offset, t_offset)\n",
    "\n",
    "            x_start = x_tile*tile_sz - l_offset\n",
    "            x_end = min(x_start+lr_sz, w)\n",
    "            y_start = y_tile*tile_sz - t_offset\n",
    "            y_end = min(y_start+lr_sz, h)\n",
    "            #print(\"input: \", x_start, y_start, \",\", x_end, y_end)\n",
    "            in_tile[0:(x_end-x_start), 0:(y_end-y_start)] = in_img[x_start:x_end, y_start:y_end]\n",
    "            out_tile,_,_ = learn.predict(Image(in_tile[None]))\n",
    "\n",
    "            out_x_start = (4*(x_start+l_offset))\n",
    "            out_x_end = (4*x_end)\n",
    "            out_y_start = (4*(y_start+t_offset))\n",
    "            out_y_end = (4*y_end)\n",
    "\n",
    "            #print(\"out: \", out_x_start, out_y_start, \",\", out_x_end, out_y_end)\n",
    "            in_x_start = (4*l_offset)\n",
    "            in_y_start = (4*t_offset)\n",
    "            in_x_end = 4*(x_end-x_start)\n",
    "            in_y_end = 4*(y_end-y_start)\n",
    "            #print(\"tile: \",in_x_start, in_y_start, \",\", in_x_end, in_y_end)\n",
    "\n",
    "            out_img[out_x_start:out_x_end, out_y_start:out_y_end] = out_tile.data[0,\n",
    "                                                                                  in_x_start:in_x_end, \n",
    "                                                                                  in_y_start:in_y_end]\n",
    "    return out_img"
   ]
  },
  {
   "cell_type": "code",
   "execution_count": 10,
   "metadata": {},
   "outputs": [
    {
     "ename": "NameError",
     "evalue": "name 'learn' is not defined",
     "output_type": "error",
     "traceback": [
      "\u001b[0;31m---------------------------------------------------------------------------\u001b[0m",
      "\u001b[0;31mNameError\u001b[0m                                 Traceback (most recent call last)",
      "\u001b[0;32m<ipython-input-10-1337c853f42c>\u001b[0m in \u001b[0;36m<module>\u001b[0;34m()\u001b[0m\n\u001b[0;32m----> 1\u001b[0;31m \u001b[0mlearn\u001b[0m\u001b[0;34m.\u001b[0m\u001b[0mdl\u001b[0m\u001b[0;34m(\u001b[0m\u001b[0mDatasetType\u001b[0m\u001b[0;34m.\u001b[0m\u001b[0mValid\u001b[0m\u001b[0;34m)\u001b[0m\u001b[0;34m.\u001b[0m\u001b[0mx\u001b[0m\u001b[0;34m.\u001b[0m\u001b[0mshow_xyzs\u001b[0m\u001b[0;34m\u001b[0m\u001b[0m\n\u001b[0m",
      "\u001b[0;31mNameError\u001b[0m: name 'learn' is not defined"
     ]
    }
   ],
   "source": [
    "learn.dl(DatasetType.Valid).x.show_xyzs"
   ]
  },
  {
   "cell_type": "code",
   "execution_count": 11,
   "metadata": {},
   "outputs": [],
   "source": [
    "lr_movies = list((test_path/'lr').iterdir())\n",
    "hr_movies = list((test_path/'hr').iterdir())\n",
    "valid_movies = list(valid_lr.iterdir())"
   ]
  },
  {
   "cell_type": "code",
   "execution_count": 12,
   "metadata": {},
   "outputs": [
    {
     "data": {
      "text/plain": [
       "[]"
      ]
     },
     "execution_count": 12,
     "metadata": {},
     "output_type": "execute_result"
    }
   ],
   "source": [
    "valid_movies"
   ]
  },
  {
   "cell_type": "code",
   "execution_count": 13,
   "metadata": {},
   "outputs": [],
   "source": [
    "a_movie=lr_movies[0]"
   ]
  },
  {
   "cell_type": "code",
   "execution_count": 14,
   "metadata": {},
   "outputs": [
    {
     "data": {
      "text/plain": [
       "'MitoTracker Red FM 230x230 10min 01-Airyscan Processing-04'"
      ]
     },
     "execution_count": 14,
     "metadata": {},
     "output_type": "execute_result"
    }
   ],
   "source": [
    "a_movie.stem"
   ]
  },
  {
   "cell_type": "code",
   "execution_count": 26,
   "metadata": {},
   "outputs": [],
   "source": [
    "import imageio\n",
    "\n",
    "def cpz_to_movie(czi_in, out_movie='out.mp4'):\n",
    "    with czifile.CziFile(czi_in) as czi_f:\n",
    "        proc_axes, proc_shape = get_czi_shape_info(czi_f)\n",
    "        channels = proc_shape['C'] \n",
    "        depths = proc_shape['Z']\n",
    "        times = proc_shape['T']\n",
    "        x,y = proc_shape['X'], proc_shape['Y']\n",
    "        data = czi_f.asarray()\n",
    "        origs = []\n",
    "        for t in progress_bar(list(range(times))):\n",
    "            idx = build_index(proc_axes, {'T': t, 'C': 0, 'Z':0, 'X':slice(0,x),'Y':slice(0,y)})\n",
    "            img = data[idx].astype(np.float32)\n",
    "            img -= img.min()\n",
    "            img /= img.max()\n",
    "            t_img = tensor(img)\n",
    "            orig = (t_img[None]*255).cpu().numpy().astype(np.uint8)\n",
    "            origs.append(orig)\n",
    "        all_y = np.concatenate(origs)\n",
    "        imageio.mimwrite(out_movie, all_y, fps=30, macro_block_size=None)\n",
    "        \n",
    "def save_movie(learn, czi_in, orig_out='orig.mp4', pred_out='pred.mp4'):\n",
    "    with czifile.CziFile(czi_in) as czi_f:\n",
    "        proc_axes, proc_shape = get_czi_shape_info(czi_f)\n",
    "        channels = proc_shape['C'] \n",
    "        depths = proc_shape['Z']\n",
    "        times = proc_shape['T']\n",
    "        x,y = proc_shape['X'], proc_shape['Y']\n",
    "        data = czi_f.asarray()\n",
    "        preds = []\n",
    "        origs = []\n",
    "        for t in progress_bar(list(range(times))):\n",
    "            idx = build_index(proc_axes, {'T': t, 'C': 0, 'Z':0, 'X':slice(0,x),'Y':slice(0,y)})\n",
    "            img = data[idx].astype(np.float32)\n",
    "            img -= img.min()\n",
    "            img /= img.max()\n",
    "            t_img = tensor(img)\n",
    "            out_img = image_from_tiles(learn, t_img)\n",
    "            \n",
    "            pred = (out_img[None]*255).cpu().numpy().astype(np.uint8)\n",
    "            preds.append(pred)\n",
    "            orig = (t_img[None]*255).cpu().numpy().astype(np.uint8)\n",
    "            origs.append(orig)\n",
    "            \n",
    "        all_y = np.concatenate(preds)\n",
    "        imageio.mimwrite(pred_out, all_y, fps=30, macro_block_size=None)\n",
    "        all_y = np.concatenate(origs)\n",
    "        imageio.mimwrite(orig_out, all_y, fps=30, macro_block_size=None)"
   ]
  },
  {
   "cell_type": "code",
   "execution_count": 24,
   "metadata": {},
   "outputs": [],
   "source": [
    "sz_lr = 64\n",
    "scale,bs = 4,16\n",
    "sz_hr = sz_lr*scale\n",
    "\n",
    "learn = build_learner(model, bs, sz_lr, sz_hr, src, loss=loss, model_dir=path_models)\n",
    "\n",
    "learn = learn.load('movies_1.0')"
   ]
  },
  {
   "cell_type": "code",
   "execution_count": 25,
   "metadata": {},
   "outputs": [
    {
     "data": {
      "text/html": [
       "\n",
       "    <div>\n",
       "        <style>\n",
       "            /* Turns off some styling */\n",
       "            progress {\n",
       "                /* gets rid of default border in Firefox and Opera. */\n",
       "                border: none;\n",
       "                /* Needs to be in here for Safari polyfill so background images work as expected. */\n",
       "                background-size: auto;\n",
       "            }\n",
       "            .progress-bar-interrupted, .progress-bar-interrupted::-webkit-progress-bar {\n",
       "                background: #F44336;\n",
       "            }\n",
       "        </style>\n",
       "      <progress value='0' class='progress-bar-interrupted' max='6', style='width:300px; height:20px; vertical-align: middle;'></progress>\n",
       "      Interrupted\n",
       "    </div>\n",
       "    "
      ],
      "text/plain": [
       "<IPython.core.display.HTML object>"
      ]
     },
     "metadata": {},
     "output_type": "display_data"
    },
    {
     "data": {
      "text/html": [
       "\n",
       "    <div>\n",
       "        <style>\n",
       "            /* Turns off some styling */\n",
       "            progress {\n",
       "                /* gets rid of default border in Firefox and Opera. */\n",
       "                border: none;\n",
       "                /* Needs to be in here for Safari polyfill so background images work as expected. */\n",
       "                background-size: auto;\n",
       "            }\n",
       "            .progress-bar-interrupted, .progress-bar-interrupted::-webkit-progress-bar {\n",
       "                background: #F44336;\n",
       "            }\n",
       "        </style>\n",
       "      <progress value='300' class='' max='300', style='width:300px; height:20px; vertical-align: middle;'></progress>\n",
       "      100.00% [300/300 05:55<00:00]\n",
       "    </div>\n",
       "    "
      ],
      "text/plain": [
       "<IPython.core.display.HTML object>"
      ]
     },
     "metadata": {},
     "output_type": "display_data"
    }
   ],
   "source": [
    "for movie in progress_bar(lr_movies):\n",
    "    orig = f'{movie.stem}_orig.mp4'\n",
    "    pred = f'{movie.stem}_pred.mp4'\n",
    "    save_movie(learn, movie, orig_out=orig, pred_out=pred)\n",
    "    break"
   ]
  },
  {
   "cell_type": "code",
   "execution_count": 31,
   "metadata": {},
   "outputs": [
    {
     "data": {
      "text/html": [
       "\n",
       "    <div>\n",
       "        <style>\n",
       "            /* Turns off some styling */\n",
       "            progress {\n",
       "                /* gets rid of default border in Firefox and Opera. */\n",
       "                border: none;\n",
       "                /* Needs to be in here for Safari polyfill so background images work as expected. */\n",
       "                background-size: auto;\n",
       "            }\n",
       "            .progress-bar-interrupted, .progress-bar-interrupted::-webkit-progress-bar {\n",
       "                background: #F44336;\n",
       "            }\n",
       "        </style>\n",
       "      <progress value='6' class='' max='6', style='width:300px; height:20px; vertical-align: middle;'></progress>\n",
       "      100.00% [6/6 00:16<00:00]\n",
       "    </div>\n",
       "    "
      ],
      "text/plain": [
       "<IPython.core.display.HTML object>"
      ]
     },
     "metadata": {},
     "output_type": "display_data"
    },
    {
     "data": {
      "text/html": [
       "\n",
       "    <div>\n",
       "        <style>\n",
       "            /* Turns off some styling */\n",
       "            progress {\n",
       "                /* gets rid of default border in Firefox and Opera. */\n",
       "                border: none;\n",
       "                /* Needs to be in here for Safari polyfill so background images work as expected. */\n",
       "                background-size: auto;\n",
       "            }\n",
       "            .progress-bar-interrupted, .progress-bar-interrupted::-webkit-progress-bar {\n",
       "                background: #F44336;\n",
       "            }\n",
       "        </style>\n",
       "      <progress value='80' class='' max='80', style='width:300px; height:20px; vertical-align: middle;'></progress>\n",
       "      100.00% [80/80 00:00<00:00]\n",
       "    </div>\n",
       "    "
      ],
      "text/plain": [
       "<IPython.core.display.HTML object>"
      ]
     },
     "metadata": {},
     "output_type": "display_data"
    },
    {
     "data": {
      "text/html": [
       "\n",
       "    <div>\n",
       "        <style>\n",
       "            /* Turns off some styling */\n",
       "            progress {\n",
       "                /* gets rid of default border in Firefox and Opera. */\n",
       "                border: none;\n",
       "                /* Needs to be in here for Safari polyfill so background images work as expected. */\n",
       "                background-size: auto;\n",
       "            }\n",
       "            .progress-bar-interrupted, .progress-bar-interrupted::-webkit-progress-bar {\n",
       "                background: #F44336;\n",
       "            }\n",
       "        </style>\n",
       "      <progress value='300' class='' max='300', style='width:300px; height:20px; vertical-align: middle;'></progress>\n",
       "      100.00% [300/300 00:00<00:00]\n",
       "    </div>\n",
       "    "
      ],
      "text/plain": [
       "<IPython.core.display.HTML object>"
      ]
     },
     "metadata": {},
     "output_type": "display_data"
    },
    {
     "data": {
      "text/html": [
       "\n",
       "    <div>\n",
       "        <style>\n",
       "            /* Turns off some styling */\n",
       "            progress {\n",
       "                /* gets rid of default border in Firefox and Opera. */\n",
       "                border: none;\n",
       "                /* Needs to be in here for Safari polyfill so background images work as expected. */\n",
       "                background-size: auto;\n",
       "            }\n",
       "            .progress-bar-interrupted, .progress-bar-interrupted::-webkit-progress-bar {\n",
       "                background: #F44336;\n",
       "            }\n",
       "        </style>\n",
       "      <progress value='80' class='' max='80', style='width:300px; height:20px; vertical-align: middle;'></progress>\n",
       "      100.00% [80/80 00:00<00:00]\n",
       "    </div>\n",
       "    "
      ],
      "text/plain": [
       "<IPython.core.display.HTML object>"
      ]
     },
     "metadata": {},
     "output_type": "display_data"
    },
    {
     "data": {
      "text/html": [
       "\n",
       "    <div>\n",
       "        <style>\n",
       "            /* Turns off some styling */\n",
       "            progress {\n",
       "                /* gets rid of default border in Firefox and Opera. */\n",
       "                border: none;\n",
       "                /* Needs to be in here for Safari polyfill so background images work as expected. */\n",
       "                background-size: auto;\n",
       "            }\n",
       "            .progress-bar-interrupted, .progress-bar-interrupted::-webkit-progress-bar {\n",
       "                background: #F44336;\n",
       "            }\n",
       "        </style>\n",
       "      <progress value='80' class='' max='80', style='width:300px; height:20px; vertical-align: middle;'></progress>\n",
       "      100.00% [80/80 00:00<00:00]\n",
       "    </div>\n",
       "    "
      ],
      "text/plain": [
       "<IPython.core.display.HTML object>"
      ]
     },
     "metadata": {},
     "output_type": "display_data"
    },
    {
     "data": {
      "text/html": [
       "\n",
       "    <div>\n",
       "        <style>\n",
       "            /* Turns off some styling */\n",
       "            progress {\n",
       "                /* gets rid of default border in Firefox and Opera. */\n",
       "                border: none;\n",
       "                /* Needs to be in here for Safari polyfill so background images work as expected. */\n",
       "                background-size: auto;\n",
       "            }\n",
       "            .progress-bar-interrupted, .progress-bar-interrupted::-webkit-progress-bar {\n",
       "                background: #F44336;\n",
       "            }\n",
       "        </style>\n",
       "      <progress value='300' class='' max='300', style='width:300px; height:20px; vertical-align: middle;'></progress>\n",
       "      100.00% [300/300 00:00<00:00]\n",
       "    </div>\n",
       "    "
      ],
      "text/plain": [
       "<IPython.core.display.HTML object>"
      ]
     },
     "metadata": {},
     "output_type": "display_data"
    },
    {
     "data": {
      "text/html": [
       "\n",
       "    <div>\n",
       "        <style>\n",
       "            /* Turns off some styling */\n",
       "            progress {\n",
       "                /* gets rid of default border in Firefox and Opera. */\n",
       "                border: none;\n",
       "                /* Needs to be in here for Safari polyfill so background images work as expected. */\n",
       "                background-size: auto;\n",
       "            }\n",
       "            .progress-bar-interrupted, .progress-bar-interrupted::-webkit-progress-bar {\n",
       "                background: #F44336;\n",
       "            }\n",
       "        </style>\n",
       "      <progress value='300' class='' max='300', style='width:300px; height:20px; vertical-align: middle;'></progress>\n",
       "      100.00% [300/300 00:00<00:00]\n",
       "    </div>\n",
       "    "
      ],
      "text/plain": [
       "<IPython.core.display.HTML object>"
      ]
     },
     "metadata": {},
     "output_type": "display_data"
    },
    {
     "data": {
      "text/html": [
       "\n",
       "    <div>\n",
       "        <style>\n",
       "            /* Turns off some styling */\n",
       "            progress {\n",
       "                /* gets rid of default border in Firefox and Opera. */\n",
       "                border: none;\n",
       "                /* Needs to be in here for Safari polyfill so background images work as expected. */\n",
       "                background-size: auto;\n",
       "            }\n",
       "            .progress-bar-interrupted, .progress-bar-interrupted::-webkit-progress-bar {\n",
       "                background: #F44336;\n",
       "            }\n",
       "        </style>\n",
       "      <progress value='6' class='' max='6', style='width:300px; height:20px; vertical-align: middle;'></progress>\n",
       "      100.00% [6/6 00:05<00:00]\n",
       "    </div>\n",
       "    "
      ],
      "text/plain": [
       "<IPython.core.display.HTML object>"
      ]
     },
     "metadata": {},
     "output_type": "display_data"
    },
    {
     "data": {
      "text/html": [
       "\n",
       "    <div>\n",
       "        <style>\n",
       "            /* Turns off some styling */\n",
       "            progress {\n",
       "                /* gets rid of default border in Firefox and Opera. */\n",
       "                border: none;\n",
       "                /* Needs to be in here for Safari polyfill so background images work as expected. */\n",
       "                background-size: auto;\n",
       "            }\n",
       "            .progress-bar-interrupted, .progress-bar-interrupted::-webkit-progress-bar {\n",
       "                background: #F44336;\n",
       "            }\n",
       "        </style>\n",
       "      <progress value='300' class='' max='300', style='width:300px; height:20px; vertical-align: middle;'></progress>\n",
       "      100.00% [300/300 00:00<00:00]\n",
       "    </div>\n",
       "    "
      ],
      "text/plain": [
       "<IPython.core.display.HTML object>"
      ]
     },
     "metadata": {},
     "output_type": "display_data"
    },
    {
     "data": {
      "text/html": [
       "\n",
       "    <div>\n",
       "        <style>\n",
       "            /* Turns off some styling */\n",
       "            progress {\n",
       "                /* gets rid of default border in Firefox and Opera. */\n",
       "                border: none;\n",
       "                /* Needs to be in here for Safari polyfill so background images work as expected. */\n",
       "                background-size: auto;\n",
       "            }\n",
       "            .progress-bar-interrupted, .progress-bar-interrupted::-webkit-progress-bar {\n",
       "                background: #F44336;\n",
       "            }\n",
       "        </style>\n",
       "      <progress value='400' class='' max='400', style='width:300px; height:20px; vertical-align: middle;'></progress>\n",
       "      100.00% [400/400 00:00<00:00]\n",
       "    </div>\n",
       "    "
      ],
      "text/plain": [
       "<IPython.core.display.HTML object>"
      ]
     },
     "metadata": {},
     "output_type": "display_data"
    },
    {
     "data": {
      "text/html": [
       "\n",
       "    <div>\n",
       "        <style>\n",
       "            /* Turns off some styling */\n",
       "            progress {\n",
       "                /* gets rid of default border in Firefox and Opera. */\n",
       "                border: none;\n",
       "                /* Needs to be in here for Safari polyfill so background images work as expected. */\n",
       "                background-size: auto;\n",
       "            }\n",
       "            .progress-bar-interrupted, .progress-bar-interrupted::-webkit-progress-bar {\n",
       "                background: #F44336;\n",
       "            }\n",
       "        </style>\n",
       "      <progress value='400' class='' max='400', style='width:300px; height:20px; vertical-align: middle;'></progress>\n",
       "      100.00% [400/400 00:00<00:00]\n",
       "    </div>\n",
       "    "
      ],
      "text/plain": [
       "<IPython.core.display.HTML object>"
      ]
     },
     "metadata": {},
     "output_type": "display_data"
    },
    {
     "data": {
      "text/html": [
       "\n",
       "    <div>\n",
       "        <style>\n",
       "            /* Turns off some styling */\n",
       "            progress {\n",
       "                /* gets rid of default border in Firefox and Opera. */\n",
       "                border: none;\n",
       "                /* Needs to be in here for Safari polyfill so background images work as expected. */\n",
       "                background-size: auto;\n",
       "            }\n",
       "            .progress-bar-interrupted, .progress-bar-interrupted::-webkit-progress-bar {\n",
       "                background: #F44336;\n",
       "            }\n",
       "        </style>\n",
       "      <progress value='300' class='' max='300', style='width:300px; height:20px; vertical-align: middle;'></progress>\n",
       "      100.00% [300/300 00:00<00:00]\n",
       "    </div>\n",
       "    "
      ],
      "text/plain": [
       "<IPython.core.display.HTML object>"
      ]
     },
     "metadata": {},
     "output_type": "display_data"
    },
    {
     "data": {
      "text/html": [
       "\n",
       "    <div>\n",
       "        <style>\n",
       "            /* Turns off some styling */\n",
       "            progress {\n",
       "                /* gets rid of default border in Firefox and Opera. */\n",
       "                border: none;\n",
       "                /* Needs to be in here for Safari polyfill so background images work as expected. */\n",
       "                background-size: auto;\n",
       "            }\n",
       "            .progress-bar-interrupted, .progress-bar-interrupted::-webkit-progress-bar {\n",
       "                background: #F44336;\n",
       "            }\n",
       "        </style>\n",
       "      <progress value='400' class='' max='400', style='width:300px; height:20px; vertical-align: middle;'></progress>\n",
       "      100.00% [400/400 00:00<00:00]\n",
       "    </div>\n",
       "    "
      ],
      "text/plain": [
       "<IPython.core.display.HTML object>"
      ]
     },
     "metadata": {},
     "output_type": "display_data"
    },
    {
     "data": {
      "text/html": [
       "\n",
       "    <div>\n",
       "        <style>\n",
       "            /* Turns off some styling */\n",
       "            progress {\n",
       "                /* gets rid of default border in Firefox and Opera. */\n",
       "                border: none;\n",
       "                /* Needs to be in here for Safari polyfill so background images work as expected. */\n",
       "                background-size: auto;\n",
       "            }\n",
       "            .progress-bar-interrupted, .progress-bar-interrupted::-webkit-progress-bar {\n",
       "                background: #F44336;\n",
       "            }\n",
       "        </style>\n",
       "      <progress value='300' class='' max='300', style='width:300px; height:20px; vertical-align: middle;'></progress>\n",
       "      100.00% [300/300 00:00<00:00]\n",
       "    </div>\n",
       "    "
      ],
      "text/plain": [
       "<IPython.core.display.HTML object>"
      ]
     },
     "metadata": {},
     "output_type": "display_data"
    }
   ],
   "source": [
    "for movie in progress_bar(hr_movies):\n",
    "    out_movie = f'{movie.stem}.mp4'\n",
    "    cpz_to_movie(movie, out_movie=out_movie)\n",
    "\n",
    "for movie in progress_bar(lr_movies):\n",
    "    out_movie = f'{movie.stem}.mp4'\n",
    "    cpz_to_movie(movie, out_movie=out_movie)"
   ]
  },
  {
   "cell_type": "code",
   "execution_count": 29,
   "metadata": {},
   "outputs": [
    {
     "data": {
      "text/plain": [
       "[PosixPath('/DATA/WAMRI/salk/uri/movies/movie_test/lr/MitoTracker Red FM 230x230 10min 01-Airyscan Processing-04.czi'),\n",
       " PosixPath('/DATA/WAMRI/salk/uri/movies/movie_test/lr/MitoTracker Red FM 230x230 2min 02-Airyscan Processing-02.czi'),\n",
       " PosixPath('/DATA/WAMRI/salk/uri/movies/movie_test/lr/MitoTracker Red FM 230x230 2min 03-Airyscan Processing-03.czi'),\n",
       " PosixPath('/DATA/WAMRI/salk/uri/movies/movie_test/lr/MitoTracker Red FM 230x230 10min 02-Airyscan Processing-05.czi'),\n",
       " PosixPath('/DATA/WAMRI/salk/uri/movies/movie_test/lr/MitoTracker Red FM 230x230 2min 01-Airyscan Processing-01.czi'),\n",
       " PosixPath('/DATA/WAMRI/salk/uri/movies/movie_test/lr/MitoTracker Red FM 230x230 10min 03-Airyscan Processing-06.czi')]"
      ]
     },
     "execution_count": 29,
     "metadata": {},
     "output_type": "execute_result"
    }
   ],
   "source": [
    "lr_movies"
   ]
  },
  {
   "cell_type": "code",
   "execution_count": 30,
   "metadata": {},
   "outputs": [
    {
     "data": {
      "text/plain": [
       "[PosixPath('/DATA/WAMRI/salk/uri/movies/movie_test/hr/MitoTracker Red FM 920x920 2min 01-Airyscan Processing-07.czi'),\n",
       " PosixPath('/DATA/WAMRI/salk/uri/movies/movie_test/hr/MitoTracker Red FM 920x920 10min 03-Airyscan Processing-12.czi'),\n",
       " PosixPath('/DATA/WAMRI/salk/uri/movies/movie_test/hr/MitoTracker Red FM 920x920 2min 03-Airyscan Processing-09.czi'),\n",
       " PosixPath('/DATA/WAMRI/salk/uri/movies/movie_test/hr/MitoTracker Red FM 920x920 2min 02-Airyscan Processing-08.czi'),\n",
       " PosixPath('/DATA/WAMRI/salk/uri/movies/movie_test/hr/MitoTracker Red FM 920x920 10min 02-Airyscan Processing-11.czi'),\n",
       " PosixPath('/DATA/WAMRI/salk/uri/movies/movie_test/hr/MitoTracker Red FM 920x920 10min 01-Airyscan Processing-10.czi')]"
      ]
     },
     "execution_count": 30,
     "metadata": {},
     "output_type": "execute_result"
    }
   ],
   "source": [
    "hr_movies"
   ]
  },
  {
   "cell_type": "code",
   "execution_count": null,
   "metadata": {},
   "outputs": [],
   "source": []
  }
 ],
 "metadata": {
  "kernelspec": {
   "display_name": "Python 3",
   "language": "python",
   "name": "python3"
  },
  "language_info": {
   "codemirror_mode": {
    "name": "ipython",
    "version": 3
   },
   "file_extension": ".py",
   "mimetype": "text/x-python",
   "name": "python",
   "nbconvert_exporter": "python",
   "pygments_lexer": "ipython3",
   "version": "3.6.5"
  }
 },
 "nbformat": 4,
 "nbformat_minor": 2
}
