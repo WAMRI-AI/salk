{
 "cells": [
  {
   "cell_type": "code",
   "execution_count": 1,
   "metadata": {},
   "outputs": [],
   "source": [
    "import fastai\n",
    "from fastai import *          # Quick access to most common functionality\n",
    "from fastai.vision import *   # Quick access to computer vision functionality\n",
    "from fastai.layers import Lambda\n",
    "from fastai.callbacks import SaveModelCallback\n",
    "import pytorch_ssim as ssim\n",
    "from superres import *"
   ]
  },
  {
   "cell_type": "code",
   "execution_count": 2,
   "metadata": {},
   "outputs": [],
   "source": [
    "path = Path('/scratch/bpho_data/Image_restoration_data/')\n",
    "train_lr = path/'train_LR'\n",
    "train_hr = path/'train_HR'\n",
    "test_lr = path/'test_LR'\n",
    "test_hr = path/'test_HR'"
   ]
  },
  {
   "cell_type": "code",
   "execution_count": 3,
   "metadata": {},
   "outputs": [],
   "source": [
    "def pull_id(fn):\n",
    "    return fn.split('#')[-1].split('.')[0]\n",
    "\n",
    "def match_hr_fn(x):\n",
    "    return hr_names_by_id[pull_id(x.name)]\n",
    "\n",
    "lr_names_full = list(train_lr.glob('*.tif'))\n",
    "lr_names_full.sort()\n",
    "hr_names_by_id = {pull_id(hrfn.name):hrfn for hrfn in train_hr.glob('*.tif')}"
   ]
  },
  {
   "cell_type": "code",
   "execution_count": 4,
   "metadata": {},
   "outputs": [
    {
     "name": "stderr",
     "output_type": "stream",
     "text": [
      "/home/fredmonroe/repos/fastai/fastai/data_block.py:398: UserWarning: Your training set is empty. Is this is by design, pass `ignore_empty=True` to remove this warning.\n",
      "  warn(\"Your training set is empty. Is this is by design, pass `ignore_empty=True` to remove this warning.\")\n",
      "/home/fredmonroe/repos/fastai/fastai/data_block.py:401: UserWarning: Your validation set is empty. Is this is by design, use `no_split()` \n",
      "                 or pass `ignore_empty=True` when labelling to remove this warning.\n",
      "  or pass `ignore_empty=True` when labelling to remove this warning.\"\"\")\n"
     ]
    },
    {
     "ename": "IndexError",
     "evalue": "index 0 is out of bounds for axis 0 with size 0",
     "output_type": "error",
     "traceback": [
      "\u001b[0;31m---------------------------------------------------------------------------\u001b[0m",
      "\u001b[0;31mIndexError\u001b[0m                                Traceback (most recent call last)",
      "\u001b[0;32m<ipython-input-4-29cb95e5853c>\u001b[0m in \u001b[0;36m<module>\u001b[0;34m\u001b[0m\n\u001b[1;32m      3\u001b[0m        \u001b[0;31m#random_split_by_pct(valid_pct).\u001b[0m\u001b[0;34m\u001b[0m\u001b[0;34m\u001b[0m\u001b[0;34m\u001b[0m\u001b[0m\n\u001b[1;32m      4\u001b[0m        \u001b[0msplit_by_valid_func\u001b[0m\u001b[0;34m(\u001b[0m\u001b[0;32mlambda\u001b[0m \u001b[0mx\u001b[0m\u001b[0;34m:\u001b[0m \u001b[0mx\u001b[0m\u001b[0;34m.\u001b[0m\u001b[0mstem\u001b[0m\u001b[0;34m[\u001b[0m\u001b[0;34m-\u001b[0m\u001b[0;36m3\u001b[0m\u001b[0;34m]\u001b[0m \u001b[0;34m==\u001b[0m \u001b[0;34m'0'\u001b[0m\u001b[0;34m)\u001b[0m\u001b[0;34m.\u001b[0m\u001b[0;34m\u001b[0m\u001b[0;34m\u001b[0m\u001b[0m\n\u001b[0;32m----> 5\u001b[0;31m        label_from_func(match_hr_fn))   \n\u001b[0m\u001b[1;32m      6\u001b[0m \u001b[0;34m\u001b[0m\u001b[0m\n\u001b[1;32m      7\u001b[0m \u001b[0;32mdef\u001b[0m \u001b[0mget_data\u001b[0m\u001b[0;34m(\u001b[0m\u001b[0msrc\u001b[0m\u001b[0;34m,\u001b[0m \u001b[0mbs\u001b[0m\u001b[0;34m,\u001b[0m \u001b[0msz_lr\u001b[0m\u001b[0;34m,\u001b[0m \u001b[0mscale\u001b[0m\u001b[0;34m=\u001b[0m\u001b[0;36m4\u001b[0m\u001b[0;34m,\u001b[0m \u001b[0mtfms\u001b[0m\u001b[0;34m=\u001b[0m\u001b[0;32mNone\u001b[0m\u001b[0;34m,\u001b[0m \u001b[0;34m**\u001b[0m\u001b[0mkwargs\u001b[0m\u001b[0;34m)\u001b[0m\u001b[0;34m:\u001b[0m\u001b[0;34m\u001b[0m\u001b[0;34m\u001b[0m\u001b[0m\n",
      "\u001b[0;32m~/repos/fastai/fastai/data_block.py\u001b[0m in \u001b[0;36m_inner\u001b[0;34m(*args, **kwargs)\u001b[0m\n\u001b[1;32m    417\u001b[0m         \u001b[0;32massert\u001b[0m \u001b[0misinstance\u001b[0m\u001b[0;34m(\u001b[0m\u001b[0mfv\u001b[0m\u001b[0;34m,\u001b[0m \u001b[0mCallable\u001b[0m\u001b[0;34m)\u001b[0m\u001b[0;34m\u001b[0m\u001b[0;34m\u001b[0m\u001b[0m\n\u001b[1;32m    418\u001b[0m         \u001b[0;32mdef\u001b[0m \u001b[0m_inner\u001b[0m\u001b[0;34m(\u001b[0m\u001b[0;34m*\u001b[0m\u001b[0margs\u001b[0m\u001b[0;34m,\u001b[0m \u001b[0;34m**\u001b[0m\u001b[0mkwargs\u001b[0m\u001b[0;34m)\u001b[0m\u001b[0;34m:\u001b[0m\u001b[0;34m\u001b[0m\u001b[0;34m\u001b[0m\u001b[0m\n\u001b[0;32m--> 419\u001b[0;31m             \u001b[0mself\u001b[0m\u001b[0;34m.\u001b[0m\u001b[0mtrain\u001b[0m \u001b[0;34m=\u001b[0m \u001b[0mft\u001b[0m\u001b[0;34m(\u001b[0m\u001b[0;34m*\u001b[0m\u001b[0margs\u001b[0m\u001b[0;34m,\u001b[0m \u001b[0;34m**\u001b[0m\u001b[0mkwargs\u001b[0m\u001b[0;34m)\u001b[0m\u001b[0;34m\u001b[0m\u001b[0;34m\u001b[0m\u001b[0m\n\u001b[0m\u001b[1;32m    420\u001b[0m             \u001b[0;32massert\u001b[0m \u001b[0misinstance\u001b[0m\u001b[0;34m(\u001b[0m\u001b[0mself\u001b[0m\u001b[0;34m.\u001b[0m\u001b[0mtrain\u001b[0m\u001b[0;34m,\u001b[0m \u001b[0mLabelList\u001b[0m\u001b[0;34m)\u001b[0m\u001b[0;34m\u001b[0m\u001b[0;34m\u001b[0m\u001b[0m\n\u001b[1;32m    421\u001b[0m             \u001b[0mkwargs\u001b[0m\u001b[0;34m[\u001b[0m\u001b[0;34m'label_cls'\u001b[0m\u001b[0;34m]\u001b[0m \u001b[0;34m=\u001b[0m \u001b[0mself\u001b[0m\u001b[0;34m.\u001b[0m\u001b[0mtrain\u001b[0m\u001b[0;34m.\u001b[0m\u001b[0my\u001b[0m\u001b[0;34m.\u001b[0m\u001b[0m__class__\u001b[0m\u001b[0;34m\u001b[0m\u001b[0;34m\u001b[0m\u001b[0m\n",
      "\u001b[0;32m~/repos/fastai/fastai/data_block.py\u001b[0m in \u001b[0;36mlabel_from_func\u001b[0;34m(self, func, **kwargs)\u001b[0m\n\u001b[1;32m    245\u001b[0m     \u001b[0;32mdef\u001b[0m \u001b[0mlabel_from_func\u001b[0m\u001b[0;34m(\u001b[0m\u001b[0mself\u001b[0m\u001b[0;34m,\u001b[0m \u001b[0mfunc\u001b[0m\u001b[0;34m:\u001b[0m\u001b[0mCallable\u001b[0m\u001b[0;34m,\u001b[0m \u001b[0;34m**\u001b[0m\u001b[0mkwargs\u001b[0m\u001b[0;34m)\u001b[0m\u001b[0;34m->\u001b[0m\u001b[0;34m'LabelList'\u001b[0m\u001b[0;34m:\u001b[0m\u001b[0;34m\u001b[0m\u001b[0;34m\u001b[0m\u001b[0m\n\u001b[1;32m    246\u001b[0m         \u001b[0;34m\"Apply `func` to every input to get its label.\"\u001b[0m\u001b[0;34m\u001b[0m\u001b[0;34m\u001b[0m\u001b[0m\n\u001b[0;32m--> 247\u001b[0;31m         \u001b[0;32mreturn\u001b[0m \u001b[0mself\u001b[0m\u001b[0;34m.\u001b[0m\u001b[0mlabel_from_list\u001b[0m\u001b[0;34m(\u001b[0m\u001b[0;34m[\u001b[0m\u001b[0mfunc\u001b[0m\u001b[0;34m(\u001b[0m\u001b[0mo\u001b[0m\u001b[0;34m)\u001b[0m \u001b[0;32mfor\u001b[0m \u001b[0mo\u001b[0m \u001b[0;32min\u001b[0m \u001b[0mself\u001b[0m\u001b[0;34m.\u001b[0m\u001b[0mitems\u001b[0m\u001b[0;34m]\u001b[0m\u001b[0;34m,\u001b[0m \u001b[0;34m**\u001b[0m\u001b[0mkwargs\u001b[0m\u001b[0;34m)\u001b[0m\u001b[0;34m\u001b[0m\u001b[0;34m\u001b[0m\u001b[0m\n\u001b[0m\u001b[1;32m    248\u001b[0m \u001b[0;34m\u001b[0m\u001b[0m\n\u001b[1;32m    249\u001b[0m     \u001b[0;32mdef\u001b[0m \u001b[0mlabel_from_folder\u001b[0m\u001b[0;34m(\u001b[0m\u001b[0mself\u001b[0m\u001b[0;34m,\u001b[0m \u001b[0;34m**\u001b[0m\u001b[0mkwargs\u001b[0m\u001b[0;34m)\u001b[0m\u001b[0;34m->\u001b[0m\u001b[0;34m'LabelList'\u001b[0m\u001b[0;34m:\u001b[0m\u001b[0;34m\u001b[0m\u001b[0;34m\u001b[0m\u001b[0m\n",
      "\u001b[0;32m~/repos/fastai/fastai/data_block.py\u001b[0m in \u001b[0;36mlabel_from_list\u001b[0;34m(self, labels, **kwargs)\u001b[0m\n\u001b[1;32m    221\u001b[0m         \u001b[0;34m\"Label `self.items` with `labels`.\"\u001b[0m\u001b[0;34m\u001b[0m\u001b[0;34m\u001b[0m\u001b[0m\n\u001b[1;32m    222\u001b[0m         \u001b[0mlabels\u001b[0m \u001b[0;34m=\u001b[0m \u001b[0marray\u001b[0m\u001b[0;34m(\u001b[0m\u001b[0mlabels\u001b[0m\u001b[0;34m,\u001b[0m \u001b[0mdtype\u001b[0m\u001b[0;34m=\u001b[0m\u001b[0mobject\u001b[0m\u001b[0;34m)\u001b[0m\u001b[0;34m\u001b[0m\u001b[0;34m\u001b[0m\u001b[0m\n\u001b[0;32m--> 223\u001b[0;31m         \u001b[0mlabel_cls\u001b[0m \u001b[0;34m=\u001b[0m \u001b[0mself\u001b[0m\u001b[0;34m.\u001b[0m\u001b[0mget_label_cls\u001b[0m\u001b[0;34m(\u001b[0m\u001b[0mlabels\u001b[0m\u001b[0;34m,\u001b[0m \u001b[0;34m**\u001b[0m\u001b[0mkwargs\u001b[0m\u001b[0;34m)\u001b[0m\u001b[0;34m\u001b[0m\u001b[0;34m\u001b[0m\u001b[0m\n\u001b[0m\u001b[1;32m    224\u001b[0m         \u001b[0my\u001b[0m \u001b[0;34m=\u001b[0m \u001b[0mlabel_cls\u001b[0m\u001b[0;34m(\u001b[0m\u001b[0mlabels\u001b[0m\u001b[0;34m,\u001b[0m \u001b[0mpath\u001b[0m\u001b[0;34m=\u001b[0m\u001b[0mself\u001b[0m\u001b[0;34m.\u001b[0m\u001b[0mpath\u001b[0m\u001b[0;34m,\u001b[0m \u001b[0;34m**\u001b[0m\u001b[0mkwargs\u001b[0m\u001b[0;34m)\u001b[0m\u001b[0;34m\u001b[0m\u001b[0;34m\u001b[0m\u001b[0m\n\u001b[1;32m    225\u001b[0m         \u001b[0mres\u001b[0m \u001b[0;34m=\u001b[0m \u001b[0mself\u001b[0m\u001b[0;34m.\u001b[0m\u001b[0m_label_list\u001b[0m\u001b[0;34m(\u001b[0m\u001b[0mx\u001b[0m\u001b[0;34m=\u001b[0m\u001b[0mself\u001b[0m\u001b[0;34m,\u001b[0m \u001b[0my\u001b[0m\u001b[0;34m=\u001b[0m\u001b[0my\u001b[0m\u001b[0;34m)\u001b[0m\u001b[0;34m\u001b[0m\u001b[0;34m\u001b[0m\u001b[0m\n",
      "\u001b[0;32m~/repos/fastai/fastai/data_block.py\u001b[0m in \u001b[0;36mget_label_cls\u001b[0;34m(self, labels, label_cls, sep, **kwargs)\u001b[0m\n\u001b[1;32m    211\u001b[0m         \u001b[0;32mif\u001b[0m \u001b[0mlabel_cls\u001b[0m \u001b[0;32mis\u001b[0m \u001b[0;32mnot\u001b[0m \u001b[0;32mNone\u001b[0m\u001b[0;34m:\u001b[0m               \u001b[0;32mreturn\u001b[0m \u001b[0mlabel_cls\u001b[0m\u001b[0;34m\u001b[0m\u001b[0;34m\u001b[0m\u001b[0m\n\u001b[1;32m    212\u001b[0m         \u001b[0;32mif\u001b[0m \u001b[0mself\u001b[0m\u001b[0;34m.\u001b[0m\u001b[0mlabel_cls\u001b[0m \u001b[0;32mis\u001b[0m \u001b[0;32mnot\u001b[0m \u001b[0;32mNone\u001b[0m\u001b[0;34m:\u001b[0m          \u001b[0;32mreturn\u001b[0m \u001b[0mself\u001b[0m\u001b[0;34m.\u001b[0m\u001b[0mlabel_cls\u001b[0m\u001b[0;34m\u001b[0m\u001b[0;34m\u001b[0m\u001b[0m\n\u001b[0;32m--> 213\u001b[0;31m         \u001b[0mit\u001b[0m \u001b[0;34m=\u001b[0m \u001b[0mindex_row\u001b[0m\u001b[0;34m(\u001b[0m\u001b[0mlabels\u001b[0m\u001b[0;34m,\u001b[0m\u001b[0;36m0\u001b[0m\u001b[0;34m)\u001b[0m\u001b[0;34m\u001b[0m\u001b[0;34m\u001b[0m\u001b[0m\n\u001b[0m\u001b[1;32m    214\u001b[0m         \u001b[0;32mif\u001b[0m \u001b[0msep\u001b[0m \u001b[0;32mis\u001b[0m \u001b[0;32mnot\u001b[0m \u001b[0;32mNone\u001b[0m\u001b[0;34m:\u001b[0m                     \u001b[0;32mreturn\u001b[0m \u001b[0mMultiCategoryList\u001b[0m\u001b[0;34m\u001b[0m\u001b[0;34m\u001b[0m\u001b[0m\n\u001b[1;32m    215\u001b[0m         \u001b[0;32mif\u001b[0m \u001b[0misinstance\u001b[0m\u001b[0;34m(\u001b[0m\u001b[0mit\u001b[0m\u001b[0;34m,\u001b[0m \u001b[0;34m(\u001b[0m\u001b[0mfloat\u001b[0m\u001b[0;34m,\u001b[0m \u001b[0mnp\u001b[0m\u001b[0;34m.\u001b[0m\u001b[0mfloat32\u001b[0m\u001b[0;34m)\u001b[0m\u001b[0;34m)\u001b[0m\u001b[0;34m:\u001b[0m \u001b[0;32mreturn\u001b[0m \u001b[0mFloatList\u001b[0m\u001b[0;34m\u001b[0m\u001b[0;34m\u001b[0m\u001b[0m\n",
      "\u001b[0;32m~/repos/fastai/fastai/core.py\u001b[0m in \u001b[0;36mindex_row\u001b[0;34m(a, idxs)\u001b[0m\n\u001b[1;32m    221\u001b[0m         \u001b[0;32mif\u001b[0m \u001b[0misinstance\u001b[0m\u001b[0;34m(\u001b[0m\u001b[0mres\u001b[0m\u001b[0;34m,\u001b[0m\u001b[0;34m(\u001b[0m\u001b[0mpd\u001b[0m\u001b[0;34m.\u001b[0m\u001b[0mDataFrame\u001b[0m\u001b[0;34m,\u001b[0m\u001b[0mpd\u001b[0m\u001b[0;34m.\u001b[0m\u001b[0mSeries\u001b[0m\u001b[0;34m)\u001b[0m\u001b[0;34m)\u001b[0m\u001b[0;34m:\u001b[0m \u001b[0;32mreturn\u001b[0m \u001b[0mres\u001b[0m\u001b[0;34m.\u001b[0m\u001b[0mcopy\u001b[0m\u001b[0;34m(\u001b[0m\u001b[0;34m)\u001b[0m\u001b[0;34m\u001b[0m\u001b[0;34m\u001b[0m\u001b[0m\n\u001b[1;32m    222\u001b[0m         \u001b[0;32mreturn\u001b[0m \u001b[0mres\u001b[0m\u001b[0;34m\u001b[0m\u001b[0;34m\u001b[0m\u001b[0m\n\u001b[0;32m--> 223\u001b[0;31m     \u001b[0;32mreturn\u001b[0m \u001b[0ma\u001b[0m\u001b[0;34m[\u001b[0m\u001b[0midxs\u001b[0m\u001b[0;34m]\u001b[0m\u001b[0;34m\u001b[0m\u001b[0;34m\u001b[0m\u001b[0m\n\u001b[0m\u001b[1;32m    224\u001b[0m \u001b[0;34m\u001b[0m\u001b[0m\n\u001b[1;32m    225\u001b[0m \u001b[0;32mdef\u001b[0m \u001b[0mfunc_args\u001b[0m\u001b[0;34m(\u001b[0m\u001b[0mfunc\u001b[0m\u001b[0;34m)\u001b[0m\u001b[0;34m->\u001b[0m\u001b[0mbool\u001b[0m\u001b[0;34m:\u001b[0m\u001b[0;34m\u001b[0m\u001b[0;34m\u001b[0m\u001b[0m\n",
      "\u001b[0;31mIndexError\u001b[0m: index 0 is out of bounds for axis 0 with size 0"
     ]
    }
   ],
   "source": [
    "valid_pct = 0.10\n",
    "src = (GrayImageItemList(lr_names_full).\n",
    "       #random_split_by_pct(valid_pct).\n",
    "       split_by_valid_func(lambda x: x.stem[-3] == '0').\n",
    "       label_from_func(match_hr_fn))   \n",
    "\n",
    "def get_data(src, bs, sz_lr, scale=4, tfms=None, **kwargs):\n",
    "    sz_hr = sz_lr*scale\n",
    "    salk_stats = ( [0.10], [0.20])\n",
    "    if tfms is None: tfms = get_transforms() \n",
    "    data = (src.transform(tfms, size=sz_lr)\n",
    "            .transform_y(size=sz_hr)\n",
    "            .databunch(bs=bs, **kwargs))\n",
    "    return data"
   ]
  },
  {
   "cell_type": "code",
   "execution_count": null,
   "metadata": {},
   "outputs": [],
   "source": [
    "ssim_loss = ssim.SSIM(mult=-1.)\n",
    "ssim_loss_2 = ssim.SSIM(window_size=3, mult=-1.)\n",
    "ssim_loss_3 = ssim.SSIM(window_size=32, mult=-1.)\n",
    "\n",
    "def fft_loss(pred, targs):\n",
    "    bs = pred.shape[0]\n",
    "    pred_fft = torch.rfft(pred, 2)\n",
    "    targs_fft = torch.rfft(targs,2)\n",
    "    return F.mse_loss(pred_fft.view(bs,-1), targs_fft.view(bs,-1))\n",
    "\n",
    "def combo_loss(pred, targs):\n",
    "    return (3 + \n",
    "            ssim_loss(pred,targs) + \n",
    "            ssim_loss_2(pred,targs) + \n",
    "            ssim_loss_3(pred,targs) + \n",
    "            F.mse_loss(pred, targs)\n",
    "           )\n",
    "    #return ssim_loss(pred, targs) + psnr_loss(pred, targs)/50. # + F.l1_loss(pred, targs)\n",
    "\n",
    "def combo_loss(pred, targs):\n",
    "    #pred_clamp = torch.clamp(pred,0.,1.)\n",
    "    pred_clamp = pred\n",
    "    return (1 + \n",
    "            ssim_loss(pred_clamp,targs) + \n",
    "            #ssim_loss_2(pred_clamp,targs) + \n",
    "            #ssim_loss_3(pred_clamp,targs) + \n",
    "            F.mse_loss(pred, targs)\n",
    "           )\n",
    "  \n",
    "metrics = [F.mse_loss, \n",
    "           #fft_loss,\n",
    "           #combo_loss,\n",
    "           ssim.ssim,\n",
    "           psnr]"
   ]
  },
  {
   "cell_type": "code",
   "execution_count": null,
   "metadata": {},
   "outputs": [],
   "source": [
    "n_feats = 256\n",
    "n_res = 64\n",
    "n_color = 1\n",
    "scale=4\n",
    "\n",
    "\n",
    "norm = Lambda(lambda x: ((x - 0.10)/0.3))\n",
    "denorm = Lambda(lambda x: (x*0.3 + 0.10))\n",
    "\n",
    "class NormInOut(nn.Module):\n",
    "    def __init__(self, model):\n",
    "        super().__init__()\n",
    "        self.requires_grad = False\n",
    "        for params in self.parameters():\n",
    "            print(params)\n",
    "            params.requires_grad = False\n",
    "        self.model = model\n",
    "    \n",
    "    def forward(self, x):\n",
    "        bs = x.shape[0]\n",
    "        ch = x.shape[1]\n",
    "        orig_shape = x.shape\n",
    "        flat_x = x.view(bs,ch, -1)\n",
    "        mean = flat_x.mean(dim=2)[:,:,None]\n",
    "        std = flat_x.std(dim=2)[:,:,None]\n",
    "        x_norm = ((flat_x-mean)/std).view(orig_shape)\n",
    "        pred_norm = self.model(x_norm)\n",
    "        pred_shape = pred_norm.shape\n",
    "        pred = (pred_norm.view(bs,ch,-1) * std + mean).view(pred_shape)\n",
    "        return pred\n",
    "        \n",
    "\n",
    "# 64,4,1\n",
    "model = SrResnet(n_feats, n_res, n_color, scale)\n",
    "#model = NormInOut(model)\n",
    "model = nn.DataParallel(model, [0,1,2,3]).cuda()"
   ]
  },
  {
   "cell_type": "code",
   "execution_count": null,
   "metadata": {},
   "outputs": [],
   "source": [
    "if False:\n",
    "    bs = 4\n",
    "    lr_sz = 506\n",
    "    data = get_data(src, bs, lr_sz, scale=scale)\n",
    "    learn = Learner(data, model, loss_func=loss, metrics=metrics)\n",
    "    learn.lr_find(start_lr=1e-5, end_lr=1e2)\n",
    "    learn.recorder.plot()"
   ]
  },
  {
   "cell_type": "code",
   "execution_count": null,
   "metadata": {},
   "outputs": [],
   "source": [
    "def build_learner(bs, lr_sz, src, scale, tfms=None, loss=F.mse_loss, \n",
    "                  save=None, save_monitor='val_loss', callback_fns=None):\n",
    "    data = get_data(src, bs, lr_sz, scale=scale, tfms=tfms)\n",
    "    if callback_fns is None: callback_fns = []\n",
    "    if save: callback_fns.append(partial(SaveModelCallback, name=f'{save}_best', monitor=save_monitor))\n",
    "    learn = Learner(data, model, loss_func=loss, metrics=metrics, callback_fns=callback_fns)\n",
    "    return learn\n",
    "\n",
    "\n",
    "\n",
    "def batch_learn(bs, lr_sz, lr, epochs, src, scale, \n",
    "                tfms=None, load=None, save=None, plot=True, \n",
    "                loss=F.mse_loss, save_monitor='val_loss',\n",
    "                callback_fns=None):\n",
    "    \n",
    "    learn = build_learner(bs, lr_sz, src, scale, tfms=tfms, loss=loss, \n",
    "                          save=save, save_monitor=save_monitor, callback_fns=callback_fns)\n",
    "    if load: learn = learn.load(load)\n",
    "    learn.fit_one_cycle(epochs, lr)\n",
    "    if save: learn.save(save)\n",
    "    if plot: learn.recorder.plot_losses()\n",
    "    return learn\n",
    "\n"
   ]
  },
  {
   "cell_type": "code",
   "execution_count": null,
   "metadata": {},
   "outputs": [],
   "source": []
  },
  {
   "cell_type": "code",
   "execution_count": null,
   "metadata": {},
   "outputs": [],
   "source": []
  },
  {
   "cell_type": "code",
   "execution_count": null,
   "metadata": {
    "scrolled": true
   },
   "outputs": [],
   "source": [
    "bs = 8\n",
    "lr_sz = 128\n",
    "lr = 1e-3\n",
    "learn = batch_learn(bs, lr_sz, lr, 30, src, scale, \n",
    "                    save='fft', \n",
    "                    save_monitor='ssim',\n",
    "                    loss=F.mse_loss)"
   ]
  },
  {
   "cell_type": "code",
   "execution_count": null,
   "metadata": {},
   "outputs": [],
   "source": [
    "learn.model = learn.model.module\n",
    "learn.save('keepthis')"
   ]
  },
  {
   "cell_type": "code",
   "execution_count": null,
   "metadata": {},
   "outputs": [],
   "source": [
    "bs = 16\n",
    "lr_sz = 64\n",
    "lr = 1e-3\n",
    "scale=4\n",
    "learn = build_learner(bs, lr_sz, src, scale,save=None,save_monitor='combo_loss',loss=F.mse_loss)\n",
    "learn.load('norm')\n",
    "learn.lr_find()"
   ]
  },
  {
   "cell_type": "code",
   "execution_count": null,
   "metadata": {},
   "outputs": [],
   "source": [
    "learn.recorder.plot()"
   ]
  },
  {
   "cell_type": "code",
   "execution_count": null,
   "metadata": {},
   "outputs": [],
   "source": [
    "bs = 16\n",
    "lr_sz = 64\n",
    "lr = 3e-5\n",
    "learn = batch_learn(bs, lr_sz, lr, 20, src, scale, \n",
    "                    load='norm_best', save='norm2', \n",
    "                    save_monitor='combo_loss',\n",
    "                    loss=F.mse_loss)"
   ]
  },
  {
   "cell_type": "code",
   "execution_count": null,
   "metadata": {},
   "outputs": [],
   "source": []
  },
  {
   "cell_type": "code",
   "execution_count": null,
   "metadata": {},
   "outputs": [],
   "source": []
  },
  {
   "cell_type": "code",
   "execution_count": null,
   "metadata": {},
   "outputs": [],
   "source": []
  },
  {
   "cell_type": "code",
   "execution_count": null,
   "metadata": {},
   "outputs": [],
   "source": [
    "bs = 4\n",
    "lr_sz = 253\n",
    "lr = 1e-3\n",
    "learn = batch_learn(bs, lr_sz, lr, 20, src, scale, \n",
    "                    load='fft', save='fft2', \n",
    "                    save_monitor='combo_loss',\n",
    "                    loss=F.mse_loss)"
   ]
  },
  {
   "cell_type": "code",
   "execution_count": null,
   "metadata": {},
   "outputs": [],
   "source": [
    "%debug"
   ]
  },
  {
   "cell_type": "code",
   "execution_count": null,
   "metadata": {},
   "outputs": [],
   "source": []
  },
  {
   "cell_type": "code",
   "execution_count": null,
   "metadata": {},
   "outputs": [],
   "source": []
  },
  {
   "cell_type": "code",
   "execution_count": null,
   "metadata": {},
   "outputs": [],
   "source": [
    "bs = 16\n",
    "lr_sz = 256\n",
    "lr = 1e-2\n",
    "learn = batch_learn(bs, lr_sz, lr, 4, src, scale, load='exp2', save='exp3', loss=F.mse_loss)\n",
    "lr = 1e-3\n",
    "learn = batch_learn(bs, lr_sz, lr, 8, src, scale, load='exp3', save='exp4', loss=combo_loss)"
   ]
  },
  {
   "cell_type": "code",
   "execution_count": null,
   "metadata": {},
   "outputs": [],
   "source": [
    "bs = 16\n",
    "lr_sz = 256\n",
    "lr = 1e-3\n",
    "learn = batch_learn(bs, lr_sz, lr, 30, src, scale, load='exp5', save='exp6', loss=F.mse_loss)\n"
   ]
  },
  {
   "cell_type": "code",
   "execution_count": null,
   "metadata": {},
   "outputs": [],
   "source": [
    "bs = 4\n",
    "lr_sz = 506\n",
    "lr = 1e-3\n",
    "learn = batch_learn(bs, lr_sz, lr, 20, src, scale, load='exp5', save='exp6', loss=F.mse_loss)"
   ]
  },
  {
   "cell_type": "code",
   "execution_count": null,
   "metadata": {},
   "outputs": [],
   "source": [
    "bs = 4\n",
    "lr_sz = 506\n",
    "lr = 1e-3\n",
    "learn = batch_learn(bs, lr_sz, lr, 20, src, scale, load='exp5', save='exp6', loss=F.mse_loss)"
   ]
  },
  {
   "cell_type": "code",
   "execution_count": null,
   "metadata": {},
   "outputs": [],
   "source": []
  },
  {
   "cell_type": "code",
   "execution_count": null,
   "metadata": {},
   "outputs": [],
   "source": []
  },
  {
   "cell_type": "code",
   "execution_count": null,
   "metadata": {},
   "outputs": [],
   "source": []
  },
  {
   "cell_type": "code",
   "execution_count": null,
   "metadata": {},
   "outputs": [],
   "source": [
    "bs = 16\n",
    "lr_sz = 24\n",
    "lr = 1e-2\n",
    "learn = batch_learn(bs, lr_sz, lr, 5, src, scale, save='enhance-db-1')\n",
    "learn = batch_learn(bs, 2*lr_sz, lr/10, 10, src, scale, load='enhance-db-1', save='enhance-db-1.1')"
   ]
  },
  {
   "cell_type": "code",
   "execution_count": null,
   "metadata": {},
   "outputs": [],
   "source": [
    "bs = 16\n",
    "lr_sz = 96\n",
    "lr = 1e-3\n",
    "learn = batch_learn(bs, lr_sz, lr, 5, src, scale, load='enhance-db-1.1', save='enhance-db-2')\n",
    "learn = batch_learn(bs, 2*lr_sz, lr/10, 10, src, scale, load='enhance-db-2', save='enhance-db-2.1')"
   ]
  },
  {
   "cell_type": "code",
   "execution_count": null,
   "metadata": {},
   "outputs": [],
   "source": [
    "bs = 16\n",
    "lr_sz = 192\n",
    "lr = 1e-3\n",
    "learn = batch_learn(bs, lr_sz, lr, 5, src, scale, load='enhance-db-2.1', save='enhance-db-3')\n",
    "learn = batch_learn(bs, 2*lr_sz, lr/10, 5, src, scale, load='enhance-db-3', save='enhance-db-3.1')"
   ]
  },
  {
   "cell_type": "code",
   "execution_count": null,
   "metadata": {},
   "outputs": [],
   "source": []
  },
  {
   "cell_type": "code",
   "execution_count": null,
   "metadata": {},
   "outputs": [],
   "source": [
    "learn.recorder.plot_losses()"
   ]
  },
  {
   "cell_type": "code",
   "execution_count": null,
   "metadata": {},
   "outputs": [],
   "source": [
    "x,y = data.valid_ds[0]"
   ]
  },
  {
   "cell_type": "code",
   "execution_count": null,
   "metadata": {},
   "outputs": [],
   "source": [
    "trn_tfm, val_tfm = get_transforms()\n",
    "test_bs = 1\n",
    "test_sz = 256\n",
    "test_out_sz = 4*test_sz\n",
    "\n",
    "src = (GrayImageItemList(lr_names_full).\n",
    "       random_split_by_pct(valid_pct).\n",
    "       label_from_func(match_hr_fn))\n",
    "\n",
    "salk_stats = ([0.10], [0.20])\n",
    "\n",
    "test_data = (SuperResItemList.from_folder(path/'newman', extensions='.tif')\n",
    "             .split_by_idx([])\n",
    "             .label_from_func(lambda x: x)\n",
    "             .transform([val_tfm,val_tfm], sz=test_sz)\n",
    "             .transform_y(size=test_out_sz)\n",
    "             .databunch(bs=test_bs))\n",
    "    \n",
    "test_learn = Learner(test_data, model, loss_func=F.mse_loss, path='.').load('fft')"
   ]
  },
  {
   "cell_type": "code",
   "execution_count": null,
   "metadata": {},
   "outputs": [],
   "source": [
    "imgs = list(Path('/DATA/WAMRI/salk/uri/test_imgs/').glob('*.tif'))\n",
    "\n",
    "\n",
    "def pred_and_save(img_fn):\n",
    "    img = open_grayscale(img_fn)\n",
    "    pred_img = test_learn.predict(img)\n",
    "    pred_img = torch.clamp(pred_img,0.,1.)\n",
    "    #img_min = pred_img.min()\n",
    "    #img_max = pred_img.max()\n",
    "    #pred_img = (pred_img - img_min) / (img_max - img_min)\n",
    "    new_img = Image(pred_img[0])\n",
    "    new_img.save(img_fn.name.replace('low res', 'super res'))\n",
    "    return img, new_img\n",
    "    \n",
    "sr_images = []\n",
    "orig_images = []\n",
    "fns = []\n",
    "for img_fn in imgs:\n",
    "    orig_img, new_img = pred_and_save(img_fn)\n",
    "    fns.append(img_fn)\n",
    "    sr_images.append(new_img)    \n",
    "    orig_images.append(orig_img)"
   ]
  },
  {
   "cell_type": "code",
   "execution_count": null,
   "metadata": {},
   "outputs": [],
   "source": [
    "imgs"
   ]
  },
  {
   "cell_type": "code",
   "execution_count": null,
   "metadata": {
    "scrolled": true
   },
   "outputs": [],
   "source": [
    "for oi, sri, fn in zip(orig_images, sr_images, fns):\n",
    "    print(fn)\n",
    "    show_image(oi)\n",
    "    show_image(sri)"
   ]
  },
  {
   "cell_type": "code",
   "execution_count": null,
   "metadata": {},
   "outputs": [],
   "source": [
    "orig_images[0]"
   ]
  },
  {
   "cell_type": "code",
   "execution_count": null,
   "metadata": {
    "scrolled": false
   },
   "outputs": [],
   "source": [
    "sr_images[0]"
   ]
  },
  {
   "cell_type": "code",
   "execution_count": null,
   "metadata": {},
   "outputs": [],
   "source": [
    "orig_images[1]"
   ]
  },
  {
   "cell_type": "code",
   "execution_count": null,
   "metadata": {
    "scrolled": false
   },
   "outputs": [],
   "source": [
    "sr_images[1]"
   ]
  },
  {
   "cell_type": "code",
   "execution_count": null,
   "metadata": {},
   "outputs": [],
   "source": [
    "bs = 1\n",
    "lr_sz = 506\n",
    "lr = 1e-2\n",
    "data = get_data(src, bs, lr_sz, scale=scale)\n",
    "learn = Learner(data, model, loss_func=F.mse_loss, metrics=metrics).load('fft')\n",
    "preds, ys = learn.get_preds(DatasetType.Valid)\n",
    "preds = torch.clamp(preds, 0.,1.)"
   ]
  },
  {
   "cell_type": "code",
   "execution_count": null,
   "metadata": {},
   "outputs": [],
   "source": [
    "idx = 11\n",
    "ys[idx].std(), preds[idx].std()"
   ]
  },
  {
   "cell_type": "code",
   "execution_count": null,
   "metadata": {},
   "outputs": [],
   "source": [
    "preds[idx].min(),preds[idx].max()"
   ]
  },
  {
   "cell_type": "code",
   "execution_count": null,
   "metadata": {},
   "outputs": [],
   "source": [
    "hr = Image(ys[idx])\n",
    "hr"
   ]
  },
  {
   "cell_type": "code",
   "execution_count": null,
   "metadata": {},
   "outputs": [],
   "source": [
    "sr = Image(preds[idx])\n",
    "sr"
   ]
  },
  {
   "cell_type": "code",
   "execution_count": null,
   "metadata": {},
   "outputs": [],
   "source": [
    "lr = learn.data.valid_ds[idx][0]\n",
    "lr"
   ]
  },
  {
   "cell_type": "code",
   "execution_count": null,
   "metadata": {},
   "outputs": [],
   "source": [
    "ssim.ssim(sr.data[None],hr.data[None]), F.mse_loss(sr.data[None],hr.data[None])"
   ]
  },
  {
   "cell_type": "code",
   "execution_count": null,
   "metadata": {},
   "outputs": [],
   "source": [
    "#exp2_best\n",
    "model = SrResnet(4, 512, 1, 4)\n",
    "model = nn.DataParallel(model).cuda()\n",
    "\n",
    "#small2_best\n",
    "model = SrResnet(4, 1024, 1, 4)\n",
    "model = nn.DataParallel(model).cuda()\n"
   ]
  },
  {
   "cell_type": "code",
   "execution_count": null,
   "metadata": {},
   "outputs": [],
   "source": []
  },
  {
   "cell_type": "code",
   "execution_count": null,
   "metadata": {},
   "outputs": [],
   "source": []
  }
 ],
 "metadata": {
  "kernelspec": {
   "display_name": "Python 3",
   "language": "python",
   "name": "python3"
  },
  "language_info": {
   "codemirror_mode": {
    "name": "ipython",
    "version": 3
   },
   "file_extension": ".py",
   "mimetype": "text/x-python",
   "name": "python",
   "nbconvert_exporter": "python",
   "pygments_lexer": "ipython3",
   "version": "3.7.1"
  }
 },
 "nbformat": 4,
 "nbformat_minor": 2
}
