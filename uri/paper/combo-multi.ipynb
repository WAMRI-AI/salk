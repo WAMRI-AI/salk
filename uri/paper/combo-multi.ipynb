{
 "cells": [
  {
   "cell_type": "code",
   "execution_count": 1,
   "metadata": {},
   "outputs": [
    {
     "name": "stderr",
     "output_type": "stream",
     "text": [
      "/home/fredmonroe/anaconda3/lib/python3.7/site-packages/dask/config.py:168: YAMLLoadWarning: calling yaml.load() without Loader=... is deprecated, as the default Loader is unsafe. Please read https://msg.pyyaml.org/load for full details.\n",
      "  data = yaml.load(f.read()) or {}\n"
     ]
    }
   ],
   "source": [
    "from fastai import *\n",
    "from fastai.vision import *\n",
    "from fastai.callbacks import *\n",
    "from fastai.distributed import *\n",
    "from fastai.vision.models.xresnet import *\n",
    "from fastai.vision.models.unet import DynamicUnet\n",
    "import pandas as pd\n",
    "\n",
    "from bpho import *"
   ]
  },
  {
   "cell_type": "code",
   "execution_count": 2,
   "metadata": {},
   "outputs": [],
   "source": [
    "datasetname = 'combo_001'\n",
    "data_path = Path('.')\n",
    "datasets = data_path/'datasets'\n",
    "datasources = data_path/'data'\n",
    "dataset = datasets/datasetname\n",
    "\n",
    "hr_tifs = dataset/'hr'\n",
    "lr_tifs = dataset/'lr'\n",
    "lr_up_tifs = dataset/'lr_up'\n",
    "\n",
    "hr_multi_tifs = dataset/'hr_5'\n",
    "lr_up_multi_tifs = dataset/'lr_up_5'\n",
    "\n",
    "mname = 'combo'\n",
    "model_dir = 'models'"
   ]
  },
  {
   "cell_type": "code",
   "execution_count": 3,
   "metadata": {},
   "outputs": [],
   "source": [
    "torch.cuda.set_device(1)"
   ]
  },
  {
   "cell_type": "code",
   "execution_count": 4,
   "metadata": {},
   "outputs": [],
   "source": [
    "# code to build the multi-img files - shoudl be moved int build_combo\n",
    "\n",
    "if False:\n",
    "    fns = list(hr_tifs.glob('**/*.tif'))\n",
    "\n",
    "    items = []\n",
    "    movies = set()\n",
    "    for fn in progress_bar(fns):\n",
    "        parts = fn.stem.split('_')\n",
    "        group = fn.relative_to(hr_tifs).parts[0]\n",
    "        prefix = '_'.join(parts[:-1])\n",
    "        frame = int(parts[-1])\n",
    "        items.append(dict(fn=str(fn),prefix=prefix,group=group, frame=frame))\n",
    "        movies.add((group, fn.parent/prefix))\n",
    "\n",
    "    df = pd.DataFrame(items)\n",
    "\n",
    "    wsize = 5\n",
    "    batches = {}\n",
    "    targets = {}\n",
    "    for group, m in progress_bar(movies):\n",
    "        m_prefix = m.stem\n",
    "        movie_tifs = list(df.loc[df.prefix == m_prefix].sort_values('fn').fn.values)\n",
    "        n_frames = len(movie_tifs)\n",
    "        mid_idx = wsize//2\n",
    "        for t in range(0, n_frames-wsize, wsize):\n",
    "            #print(t, t+wsize)\n",
    "            frame_batch = movie_tifs[t:(t+wsize)]\n",
    "            if len(frame_batch) == wsize:\n",
    "                bname = f'{m_prefix}_{t:06d}-{(t+wsize):06d}'\n",
    "                target = movie_tifs[t+mid_idx]\n",
    "                batches[bname] = (group, [Path(fn).name for fn in frame_batch])\n",
    "                targets[bname] = (group, Path(target).name)\n",
    "\n",
    "    hr_multi_tifs.mkdir(exist_ok=True)\n",
    "    lr_up_multi_tifs.mkdir(exist_ok=True)\n",
    "    for k in progress_bar(batches):\n",
    "        group, batch = batches[k]\n",
    "        _, target = targets[k]\n",
    "\n",
    "        Path(hr_multi_tifs/group).mkdir(exist_ok=True)\n",
    "        shutil.copy(hr_tifs/group/target, hr_multi_tifs/group/f'{k}.tif')\n",
    "\n",
    "        Path(lr_up_multi_tifs/group).mkdir(exist_ok=True)\n",
    "        multi_img_data = np.stack([np.array(PIL.Image.open(lr_up_tifs/group/fn)) for fn in batch])\n",
    "        np.save(lr_up_multi_tifs/group/f'{k}.npy' ,multi_img_data)"
   ]
  },
  {
   "cell_type": "code",
   "execution_count": null,
   "metadata": {},
   "outputs": [],
   "source": []
  },
  {
   "cell_type": "code",
   "execution_count": null,
   "metadata": {},
   "outputs": [],
   "source": []
  },
  {
   "cell_type": "code",
   "execution_count": null,
   "metadata": {},
   "outputs": [],
   "source": []
  },
  {
   "cell_type": "code",
   "execution_count": 5,
   "metadata": {},
   "outputs": [],
   "source": [
    "def get_src(x_data, y_data_):\n",
    "    def map_to_hr(x):\n",
    "        hr_name = x.relative_to(x_data).with_suffix('.tif')\n",
    "        return y_data_/hr_name\n",
    "    \n",
    "    src = (MultiImageImageList\n",
    "            .from_folder(x_data, extensions=['.npy'])\n",
    "            .split_by_rand_pct()\n",
    "            .label_from_func(map_to_hr, convert_mode='L'))\n",
    "    return src\n",
    "\n",
    "\n",
    "def get_data(bs, size, x_data, y_data, max_zoom=1.1):\n",
    "    src = get_src(x_data, y_data)\n",
    "    #tfms = get_transforms(flip_vert=True, max_lighting=None, max_zoom=max_zoom)\n",
    "    tfms = [[],[]]\n",
    "    data = (src\n",
    "            .transform(tfms, size=size)\n",
    "            .transform_y(tfms, size=size)\n",
    "            .databunch(bs=bs))\n",
    "    data.c = 3\n",
    "    return data\n",
    "\n",
    "\n",
    "def get_model(in_c, out_c, arch):\n",
    "    body = nn.Sequential(*list(arch(c_in=in_c).children())[:-2])\n",
    "    model = DynamicUnet(\n",
    "        body, n_classes=out_c,\n",
    "        blur=True, blur_final=True,\n",
    "        self_attention=True, norm_type=NormType.Weight, \n",
    "        last_cross=True, bottle=True\n",
    "    )\n",
    "    return model\n",
    "\n",
    "def xres_unet_learner(bs, img_size, arch, x_data, y_data, in_c=1, out_c=1, fp16=True):\n",
    "    data = get_data(bs, img_size, x_data, y_data)\n",
    "    model = get_model(in_c, out_c, arch)\n",
    "    loss = F.mse_loss\n",
    "    learn = Learner(data, model, loss_func=loss, metrics=sr_metrics, model_dir=model_dir) \n",
    "    if fp16: learn = learn.to_fp16(loss_scale=64)\n",
    "    return learn\n",
    "\n",
    "def do_fit(learn, save_name, lrs=slice(1e-3), pct_start=0.9, cycle_len=10):\n",
    "    learn.fit_one_cycle(cycle_len, lrs, pct_start=pct_start)\n",
    "    learn.save(save_name)\n",
    "    num_rows = min(learn.data.batch_size, 3)\n",
    "    learn.show_results(rows=num_rows, imgsize=5)"
   ]
  },
  {
   "cell_type": "code",
   "execution_count": 6,
   "metadata": {},
   "outputs": [
    {
     "data": {
      "text/plain": [
       "0"
      ]
     },
     "execution_count": 6,
     "metadata": {},
     "output_type": "execute_result"
    }
   ],
   "source": [
    "bs = 4\n",
    "img_size = 128\n",
    "arch = xresnet34\n",
    "learn = xres_unet_learner(bs, img_size, arch, lr_up_multi_tifs, hr_multi_tifs, in_c=5)\n",
    "gc.collect()"
   ]
  },
  {
   "cell_type": "code",
   "execution_count": 10,
   "metadata": {},
   "outputs": [
    {
     "data": {
      "text/html": [],
      "text/plain": [
       "<IPython.core.display.HTML object>"
      ]
     },
     "metadata": {},
     "output_type": "display_data"
    },
    {
     "name": "stdout",
     "output_type": "stream",
     "text": [
      "LR Finder is complete, type {learner_name}.recorder.plot() to see the graph.\n"
     ]
    },
    {
     "data": {
      "image/png": "[encoded data removed]",
      "text/plain": [
       "<Figure size 432x288 with 1 Axes>"
      ]
     },
     "metadata": {
      "needs_background": "light"
     },
     "output_type": "display_data"
    }
   ],
   "source": [
    "if True:\n",
    "    learn.lr_find()\n",
    "    learn.recorder.plot()"
   ]
  },
  {
   "cell_type": "code",
   "execution_count": 9,
   "metadata": {},
   "outputs": [
    {
     "data": {
      "text/plain": [
       "(torch.Size([4, 5, 128, 128]), torch.Size([4, 1, 128, 128]))"
      ]
     },
     "execution_count": 9,
     "metadata": {},
     "output_type": "execute_result"
    }
   ],
   "source": [
    "x,y = learn.data.one_batch()\n",
    "x.shape, y.shape"
   ]
  },
  {
   "cell_type": "code",
   "execution_count": null,
   "metadata": {},
   "outputs": [],
   "source": []
  },
  {
   "cell_type": "code",
   "execution_count": null,
   "metadata": {},
   "outputs": [],
   "source": []
  },
  {
   "cell_type": "code",
   "execution_count": null,
   "metadata": {},
   "outputs": [],
   "source": []
  }
 ],
 "metadata": {
  "kernelspec": {
   "display_name": "Python 3",
   "language": "python",
   "name": "python3"
  },
  "language_info": {
   "codemirror_mode": {
    "name": "ipython",
    "version": 3
   },
   "file_extension": ".py",
   "mimetype": "text/x-python",
   "name": "python",
   "nbconvert_exporter": "python",
   "pygments_lexer": "ipython3",
   "version": "3.7.3"
  },
  "toc": {
   "base_numbering": 1,
   "nav_menu": {},
   "number_sections": true,
   "sideBar": true,
   "skip_h1_title": false,
   "title_cell": "Table of Contents",
   "title_sidebar": "Contents",
   "toc_cell": false,
   "toc_position": {},
   "toc_section_display": true,
   "toc_window_display": false
  }
 },
 "nbformat": 4,
 "nbformat_minor": 2
}
