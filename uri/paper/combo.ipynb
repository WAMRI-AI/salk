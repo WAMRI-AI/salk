{
 "cells": [
  {
   "cell_type": "code",
   "execution_count": 1,
   "metadata": {},
   "outputs": [
    {
     "name": "stderr",
     "output_type": "stream",
     "text": [
      "/home/fredmonroe/anaconda3/lib/python3.7/site-packages/dask/config.py:168: YAMLLoadWarning: calling yaml.load() without Loader=... is deprecated, as the default Loader is unsafe. Please read https://msg.pyyaml.org/load for full details.\n",
      "  data = yaml.load(f.read()) or {}\n"
     ]
    }
   ],
   "source": [
    "%load_ext autoreload\n",
    "%autoreload 2\n",
    "\n",
    "\n",
    "from fastai import *\n",
    "from fastai.vision import *\n",
    "from fastai.callbacks import *\n",
    "from fastai.distributed import *\n",
    "from fastai.vision.models.xresnet import *\n",
    "from fastai.vision.models.unet import DynamicUnet\n",
    "from bpho import *"
   ]
  },
  {
   "cell_type": "code",
   "execution_count": 2,
   "metadata": {},
   "outputs": [],
   "source": [
    "torch.cuda.set_device(1)"
   ]
  },
  {
   "cell_type": "code",
   "execution_count": 3,
   "metadata": {},
   "outputs": [],
   "source": [
    "datasetname = 'combo_001'\n",
    "data_path = Path('.')\n",
    "datasets = data_path/'datasets'\n",
    "datasources = data_path/'data'\n",
    "dataset = datasets/datasetname\n",
    "\n",
    "test_files = dataset/'test'\n",
    "hr_tifs = dataset/'hr'\n",
    "lr_tifs = dataset/'lr'\n",
    "lr_up_tifs = dataset/'lr_up'\n",
    "\n",
    "mname = 'combo'\n",
    "model_dir = 'models'\n",
    "\n",
    "loss = F.mse_loss\n",
    "metrics = sr_metrics"
   ]
  },
  {
   "cell_type": "code",
   "execution_count": 4,
   "metadata": {},
   "outputs": [],
   "source": [
    "def get_src(x_data, y_data_):\n",
    "    def map_to_hr(x):\n",
    "        hr_name = x.relative_to(x_data)\n",
    "        return y_data_/hr_name\n",
    "    src = (ImageImageList\n",
    "            .from_folder(x_data, convert_mode='L')\n",
    "            .split_by_rand_pct()\n",
    "            .label_from_func(map_to_hr, convert_mode='L'))\n",
    "    return src\n",
    "\n",
    "\n",
    "def get_data(bs, size, x_data, y_data, max_zoom=1.1, **kwargs):\n",
    "    src = get_src(x_data, y_data)\n",
    "    tfms = get_transforms(flip_vert=True, max_zoom=max_zoom)\n",
    "    data = (src\n",
    "            .transform(tfms, size=size)\n",
    "            .transform_y(tfms, size=size)\n",
    "            .databunch(bs=bs,**kwargs))\n",
    "    data.c = 3\n",
    "    return data\n",
    "\n",
    "def do_fit(learn, save_name, lrs=slice(1e-3), pct_start=0.9, cycle_len=10):\n",
    "    learn.to_fp16().fit_one_cycle(cycle_len, lrs, pct_start=pct_start)\n",
    "    learn.save(save_name)\n",
    "    print(f'saved: {save_name}')\n",
    "    num_rows = min(learn.data.batch_size, 3)\n",
    "    learn.to_fp32().show_results(rows=num_rows, imgsize=5)"
   ]
  },
  {
   "cell_type": "code",
   "execution_count": 5,
   "metadata": {},
   "outputs": [],
   "source": [
    "if False:\n",
    "    learn.lr_find()\n",
    "    learn.recorder.plot()"
   ]
  },
  {
   "cell_type": "code",
   "execution_count": null,
   "metadata": {
    "code_folding": [
     8
    ]
   },
   "outputs": [],
   "source": [
    "step = 0\n",
    "lr = 1e-3\n",
    "cycles = 2\n",
    "loss = F.mse_loss\n",
    "metrics = sr_metrics\n",
    "\n",
    "\n",
    "bs = 16\n",
    "size = 256\n",
    "max_zoom = 6\n",
    "arch = xresnet34\n",
    "\n",
    "data = get_data(bs, size, lr_up_tifs, hr_tifs, max_zoom=max_zoom)\n",
    "learn = xres_unet_learner(data, arch, loss_func=loss, metrics=metrics, model_dir=model_dir)\n",
    "gc.collect()"
   ]
  },
  {
   "cell_type": "code",
   "execution_count": null,
   "metadata": {},
   "outputs": [],
   "source": [
    "do_fit(learn, f'{mname}.{step:02d}', lrs=lr, cycle_len=cycles)"
   ]
  },
  {
   "cell_type": "code",
   "execution_count": null,
   "metadata": {},
   "outputs": [],
   "source": [
    "step = 1\n",
    "lr = 1e-4\n",
    "cycles = 2\n",
    "loss = F.mse_loss\n",
    "metrics = sr_metrics\n",
    "\n",
    "\n",
    "bs = 12\n",
    "size = 512\n",
    "max_zoom = 4\n",
    "arch = xresnet34\n",
    "\n",
    "data = get_data(bs, size, lr_up_tifs, hr_tifs, max_zoom=max_zoom)\n",
    "learn = xres_unet_learner(data, arch, loss_func=loss, metrics=metrics, model_dir=model_dir)\n",
    "learn.load(f'{mname}.{(step-1):02d}')\n",
    "gc.collect()"
   ]
  },
  {
   "cell_type": "code",
   "execution_count": null,
   "metadata": {},
   "outputs": [],
   "source": [
    "do_fit(learn, f'{mname}.{step:02d}', lrs=lr, cycle_len=cycles)"
   ]
  },
  {
   "cell_type": "code",
   "execution_count": null,
   "metadata": {},
   "outputs": [],
   "source": [
    "do_fit(learn, f'{mname}.{step:02d}', lrs=lr/50, cycle_len=cycles*5)"
   ]
  },
  {
   "cell_type": "code",
   "execution_count": null,
   "metadata": {},
   "outputs": [],
   "source": [
    "step = 2\n",
    "lr = 1e-4\n",
    "cycles = 2\n",
    "loss = F.mse_loss\n",
    "metrics = sr_metrics\n",
    "\n",
    "\n",
    "bs = 2\n",
    "size = 1024\n",
    "max_zoom = 2\n",
    "arch = xresnet34\n",
    "\n",
    "data = get_data(bs, size, lr_up_tifs, hr_tifs, max_zoom=max_zoom, num_workers=4)\n",
    "learn = xres_unet_learner(data, arch, loss_func=loss, metrics=metrics, model_dir=model_dir)\n",
    "learn.load(f'{mname}.{(step-1):02d}')\n",
    "gc.collect()"
   ]
  },
  {
   "cell_type": "code",
   "execution_count": null,
   "metadata": {},
   "outputs": [],
   "source": [
    "do_fit(learn, f'{mname}.{step:02d}', lrs=lr, cycle_len=cycles)"
   ]
  },
  {
   "cell_type": "code",
   "execution_count": null,
   "metadata": {},
   "outputs": [],
   "source": [
    "do_fit(learn, f'{mname}.{step:02d}.1', lrs=lr/50, cycle_len=cycles*5)"
   ]
  },
  {
   "cell_type": "code",
   "execution_count": null,
   "metadata": {},
   "outputs": [],
   "source": []
  },
  {
   "cell_type": "code",
   "execution_count": null,
   "metadata": {},
   "outputs": [],
   "source": []
  },
  {
   "cell_type": "code",
   "execution_count": null,
   "metadata": {},
   "outputs": [],
   "source": []
  },
  {
   "cell_type": "code",
   "execution_count": null,
   "metadata": {},
   "outputs": [],
   "source": []
  },
  {
   "cell_type": "code",
   "execution_count": 6,
   "metadata": {},
   "outputs": [],
   "source": [
    "test_fns = []\n",
    "test_fns += list(datasources.glob('**/test/*.tif'))\n",
    "test_fns += list(datasources.glob('**/test/*.czi'))\n",
    "\n",
    "test_fns = test_fns[0:1]"
   ]
  },
  {
   "cell_type": "code",
   "execution_count": 7,
   "metadata": {},
   "outputs": [
    {
     "data": {
      "text/plain": [
       "1"
      ]
     },
     "execution_count": 7,
     "metadata": {},
     "output_type": "execute_result"
    }
   ],
   "source": [
    "len(test_fns)"
   ]
  },
  {
   "cell_type": "code",
   "execution_count": 8,
   "metadata": {},
   "outputs": [],
   "source": [
    "#test_fns = []\n",
    "#test_fns += list(test_files.glob('**/*.tif'))\n",
    "#test_fns += list(test_files.glob('**/*.czi'))"
   ]
  },
  {
   "cell_type": "code",
   "execution_count": 9,
   "metadata": {},
   "outputs": [
    {
     "data": {
      "text/plain": [
       "0"
      ]
     },
     "execution_count": 9,
     "metadata": {},
     "output_type": "execute_result"
    }
   ],
   "source": [
    "step = 1\n",
    "lr = 1e-4\n",
    "cycles = 2\n",
    "loss = F.mse_loss\n",
    "metrics = sr_metrics\n",
    "\n",
    "\n",
    "bs = 1\n",
    "size = 256\n",
    "max_zoom = 2\n",
    "arch = xresnet34\n",
    "\n",
    "data = get_data(bs, size, lr_up_tifs, hr_tifs, max_zoom=max_zoom)\n",
    "learn = xres_unet_learner(data, arch, loss_func=loss, metrics=metrics, model_dir=model_dir)\n",
    "learn.load(f'{mname}.{step:02d}').to_fp16()\n",
    "gc.collect()"
   ]
  },
  {
   "cell_type": "code",
   "execution_count": 10,
   "metadata": {},
   "outputs": [
    {
     "data": {
      "text/plain": [
       "5.818181818181818"
      ]
     },
     "execution_count": 10,
     "metadata": {},
     "output_type": "execute_result"
    }
   ],
   "source": [
    "256 / 44"
   ]
  },
  {
   "cell_type": "code",
   "execution_count": null,
   "metadata": {},
   "outputs": [
    {
     "data": {
      "text/html": [
       "\n",
       "    <div>\n",
       "        <style>\n",
       "            /* Turns off some styling */\n",
       "            progress {\n",
       "                /* gets rid of default border in Firefox and Opera. */\n",
       "                border: none;\n",
       "                /* Needs to be in here for Safari polyfill so background images work as expected. */\n",
       "                background-size: auto;\n",
       "            }\n",
       "            .progress-bar-interrupted, .progress-bar-interrupted::-webkit-progress-bar {\n",
       "                background: #F44336;\n",
       "            }\n",
       "        </style>\n",
       "      <progress value='0' class='' max='1', style='width:300px; height:20px; vertical-align: middle;'></progress>\n",
       "      0.00% [0/1 00:00<00:00]\n",
       "    </div>\n",
       "    "
      ],
      "text/plain": [
       "<IPython.core.display.HTML object>"
      ]
     },
     "metadata": {},
     "output_type": "display_data"
    },
    {
     "name": "stdout",
     "output_type": "stream",
     "text": [
      "tif: x:512 y:512 t:7\n"
     ]
    },
    {
     "data": {
      "text/html": [
       "\n",
       "    <div>\n",
       "        <style>\n",
       "            /* Turns off some styling */\n",
       "            progress {\n",
       "                /* gets rid of default border in Firefox and Opera. */\n",
       "                border: none;\n",
       "                /* Needs to be in here for Safari polyfill so background images work as expected. */\n",
       "                background-size: auto;\n",
       "            }\n",
       "            .progress-bar-interrupted, .progress-bar-interrupted::-webkit-progress-bar {\n",
       "                background: #F44336;\n",
       "            }\n",
       "        </style>\n",
       "      <progress value='4' class='' max='7', style='width:300px; height:20px; vertical-align: middle;'></progress>\n",
       "      57.14% [4/7 00:10<00:07]\n",
       "    </div>\n",
       "    "
      ],
      "text/plain": [
       "<IPython.core.display.HTML object>"
      ]
     },
     "metadata": {},
     "output_type": "display_data"
    },
    {
     "name": "stdout",
     "output_type": "stream",
     "text": [
      "144 12 12 176\n",
      "144 12 12 176\n",
      "144 12 12 176\n",
      "144 12 12 176\n"
     ]
    }
   ],
   "source": [
    "dest = Path('/DATA/temp/')\n",
    "shutil.rmtree(dest)\n",
    "dest.mkdir(exist_ok=True, parents=True)\n",
    "\n",
    "generate_tifs(test_fns, dest, learn, size, tag=mname, max_imgs=10)"
   ]
  },
  {
   "cell_type": "code",
   "execution_count": null,
   "metadata": {},
   "outputs": [],
   "source": [
    "#%debug"
   ]
  },
  {
   "cell_type": "code",
   "execution_count": null,
   "metadata": {},
   "outputs": [],
   "source": [
    "#test = PIL.Image.open('/DATA/temp/actin/C2-low res confocal mito and actin 3_combo_orig.tif')"
   ]
  },
  {
   "cell_type": "code",
   "execution_count": null,
   "metadata": {},
   "outputs": [],
   "source": [
    "9*256"
   ]
  },
  {
   "cell_type": "code",
   "execution_count": null,
   "metadata": {},
   "outputs": [],
   "source": []
  }
 ],
 "metadata": {
  "kernelspec": {
   "display_name": "Python 3",
   "language": "python",
   "name": "python3"
  },
  "language_info": {
   "codemirror_mode": {
    "name": "ipython",
    "version": 3
   },
   "file_extension": ".py",
   "mimetype": "text/x-python",
   "name": "python",
   "nbconvert_exporter": "python",
   "pygments_lexer": "ipython3",
   "version": "3.7.3"
  },
  "toc": {
   "base_numbering": 1,
   "nav_menu": {},
   "number_sections": true,
   "sideBar": true,
   "skip_h1_title": false,
   "title_cell": "Table of Contents",
   "title_sidebar": "Contents",
   "toc_cell": false,
   "toc_position": {},
   "toc_section_display": true,
   "toc_window_display": false
  }
 },
 "nbformat": 4,
 "nbformat_minor": 2
}
