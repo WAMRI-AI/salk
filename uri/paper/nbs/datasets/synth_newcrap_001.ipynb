{
 "cells": [
  {
   "cell_type": "code",
   "execution_count": 1,
   "metadata": {},
   "outputs": [],
   "source": [
    "from pathlib import Path\n",
    "import shutil\n",
    "import random\n",
    "import os\n",
    "from fastprogress import progress_bar\n",
    "from scipy.ndimage.interpolation import zoom as npzoom\n",
    "from fastprogress import progress_bar, master_bar\n",
    "import PIL.Image\n",
    "import numpy as np\n",
    "import czifile\n",
    "\n",
    "relative_path = os.path.abspath(os.path.join('..'))\n",
    "if relative_path not in sys.path:\n",
    "    sys.path.append(relative_path)\n",
    "from utils import get_czi_shape_info, build_index\n",
    "from skimage.util import random_noise, img_as_ubyte\n",
    "from skimage import filters\n",
    "from pdb import set_trace"
   ]
  },
  {
   "cell_type": "code",
   "execution_count": 2,
   "metadata": {},
   "outputs": [],
   "source": [
    "data_path = Path('/scratch/bpho')\n",
    "#sources = data_path/'datasources'\n",
    "sources = Path('/home/bpho/Dropbox (BPHO)/bpho_DL_datasources')\n",
    "\n",
    "dname = 'synth_newcrap_001'\n",
    "dpath = data_path/'datasets'/dname\n",
    "if dpath.exists(): shutil.rmtree(dpath)\n",
    "\n",
    "hr_path = dpath/'hr'\n",
    "lr_path = dpath/'lr'\n",
    "lr_up_path = dpath/'lr_up'\n",
    "\n",
    "valid_pct = 0.2"
   ]
  },
  {
   "cell_type": "code",
   "execution_count": 3,
   "metadata": {},
   "outputs": [],
   "source": [
    "# unpaired images (mito, fromserver, neuron, microtubule, moreNeuron)\n",
    "# mito movies\n",
    "mito_path = sources/'MitoTracker_Red_FM_movie_data'\n",
    "hr_mito = list(mito_path.glob('*920*.czi'))\n",
    "lr_mito = list(mito_path.glob('*230*.czi'))\n",
    "\n",
    "mito_train = [fn for fn in hr_mito]\n",
    "\n",
    "# neuron movies\n",
    "neuron_path = sources/'live_neuron_mito_timelapse_for_deep_learning'\n",
    "two_channel = list(neuron_path.glob('*MTGreen*.czi'))\n",
    "one_channel = [x for x in neuron_path.glob('*.czi') if x not in two_channel]\n",
    "\n",
    "\n",
    "# airyscan from server\n",
    "airyscan_path = sources/'Airyscan_processed_data_from_the_server'\n",
    "hr_airyscan = list(airyscan_path.glob('*.czi'))"
   ]
  },
  {
   "cell_type": "code",
   "execution_count": 4,
   "metadata": {},
   "outputs": [
    {
     "data": {
      "text/html": [
       "\n",
       "    <div>\n",
       "        <style>\n",
       "            /* Turns off some styling */\n",
       "            progress {\n",
       "                /* gets rid of default border in Firefox and Opera. */\n",
       "                border: none;\n",
       "                /* Needs to be in here for Safari polyfill so background images work as expected. */\n",
       "                background-size: auto;\n",
       "            }\n",
       "            .progress-bar-interrupted, .progress-bar-interrupted::-webkit-progress-bar {\n",
       "                background: #F44336;\n",
       "            }\n",
       "        </style>\n",
       "      <progress value='6' class='' max='6', style='width:300px; height:20px; vertical-align: middle;'></progress>\n",
       "      100.00% [6/6 00:00<00:00]\n",
       "    </div>\n",
       "    "
      ],
      "text/plain": [
       "<IPython.core.display.HTML object>"
      ]
     },
     "metadata": {},
     "output_type": "display_data"
    }
   ],
   "source": [
    "train_files = []\n",
    "valid_files = []\n",
    "\n",
    "for fn in progress_bar(hr_mito):\n",
    "    if '03-Airyscan' in fn.stem: valid_files.append(fn)\n",
    "    else: train_files.append(fn)"
   ]
  },
  {
   "cell_type": "code",
   "execution_count": 5,
   "metadata": {},
   "outputs": [],
   "source": [
    "def new_crappify(x, scale=4):\n",
    "    x = random_noise(x, mode='salt', amount=0.005)\n",
    "    x = random_noise(x, mode='pepper', amount=0.005)\n",
    "    lvar = filters.gaussian(x, sigma=5)\n",
    "    x = random_noise(x, mode='localvar', local_vars=lvar*0.5)\n",
    "    x_down = npzoom(x, 1/scale, order=1)\n",
    "    x_up = npzoom(x_down, scale, order=1)\n",
    "    return x_down, x_up"
   ]
  },
  {
   "cell_type": "code",
   "execution_count": 6,
   "metadata": {},
   "outputs": [],
   "source": [
    "def new_crappify_movie_to_tifs(czi_fn, hr_dir, lr_dir, lr_up_dir, base_name, max_scale=1.05):\n",
    "    hr_dir, lr_dir, lr_up_dir = Path(hr_dir), Path(lr_dir), Path(lr_up_dir)\n",
    "    hr_dir.mkdir(parents=True, exist_ok=True)\n",
    "    lr_dir.mkdir(parents=True, exist_ok=True)\n",
    "    lr_up_dir.mkdir(parents=True, exist_ok=True)\n",
    "    with czifile.CziFile(czi_fn) as czi_f:\n",
    "        proc_axes, proc_shape = get_czi_shape_info(czi_f)\n",
    "        channels = proc_shape['C']\n",
    "        depths = proc_shape['Z']\n",
    "        times = proc_shape['T']\n",
    "        x,y = proc_shape['X'], proc_shape['Y']\n",
    "        data = czi_f.asarray()\n",
    "        for channel in range(channels):\n",
    "            for depth in range(depths):\n",
    "                img_max = None\n",
    "                for time_col in range(times):\n",
    "                    try:\n",
    "                        save_fn = f'{base_name}_{channel:02d}_{depth:03d}_{time_col:03d}.tif'\n",
    "                        idx = build_index(proc_axes, {'T': time_col, 'C': channel, 'Z':depth, 'X':slice(0,x),'Y':slice(0,y)})\n",
    "                        img = data[idx].astype(np.float)\n",
    "                        img_max = img.max() * max_scale\n",
    "                        if img_max==0: continue #do not save images with no contents.\n",
    "                        img /= img_max\n",
    "                        down_img, down_up_img = new_crappify(img)\n",
    "                    except:\n",
    "                        continue\n",
    "\n",
    "                    img = img_as_ubyte(img)\n",
    "                    pimg = PIL.Image.fromarray(img, mode='L')\n",
    "                    cur_size = pimg.size\n",
    "                    pimg.save(hr_dir/save_fn)\n",
    "\n",
    "                    small_img = PIL.Image.fromarray(img_as_ubyte(down_img))\n",
    "                    big_img = PIL.Image.fromarray(img_as_ubyte(down_up_img))\n",
    "                    small_img.save(lr_dir/save_fn)\n",
    "                    big_img.save(lr_up_dir/save_fn)"
   ]
  },
  {
   "cell_type": "code",
   "execution_count": 7,
   "metadata": {},
   "outputs": [
    {
     "name": "stdout",
     "output_type": "stream",
     "text": [
      "\n",
      "\n",
      "copy, crappify and upsample train files\n",
      "\n",
      "\n"
     ]
    },
    {
     "data": {
      "text/html": [
       "\n",
       "    <div>\n",
       "        <style>\n",
       "            /* Turns off some styling */\n",
       "            progress {\n",
       "                /* gets rid of default border in Firefox and Opera. */\n",
       "                border: none;\n",
       "                /* Needs to be in here for Safari polyfill so background images work as expected. */\n",
       "                background-size: auto;\n",
       "            }\n",
       "            .progress-bar-interrupted, .progress-bar-interrupted::-webkit-progress-bar {\n",
       "                background: #F44336;\n",
       "            }\n",
       "        </style>\n",
       "      <progress value='4' class='' max='4', style='width:300px; height:20px; vertical-align: middle;'></progress>\n",
       "      100.00% [4/4 02:20<00:00]\n",
       "    </div>\n",
       "    "
      ],
      "text/plain": [
       "<IPython.core.display.HTML object>"
      ]
     },
     "metadata": {},
     "output_type": "display_data"
    },
    {
     "name": "stderr",
     "output_type": "stream",
     "text": [
      "/home/bpho/.conda/envs/fastai/lib/python3.7/site-packages/skimage/util/dtype.py:141: UserWarning: Possible precision loss when converting from float64 to uint8\n",
      "  .format(dtypeobj_in, dtypeobj_out))\n"
     ]
    },
    {
     "name": "stdout",
     "output_type": "stream",
     "text": [
      "\n",
      "\n",
      "copy, crappify and upsample valid files\n",
      "\n",
      "\n"
     ]
    },
    {
     "data": {
      "text/html": [
       "\n",
       "    <div>\n",
       "        <style>\n",
       "            /* Turns off some styling */\n",
       "            progress {\n",
       "                /* gets rid of default border in Firefox and Opera. */\n",
       "                border: none;\n",
       "                /* Needs to be in here for Safari polyfill so background images work as expected. */\n",
       "                background-size: auto;\n",
       "            }\n",
       "            .progress-bar-interrupted, .progress-bar-interrupted::-webkit-progress-bar {\n",
       "                background: #F44336;\n",
       "            }\n",
       "        </style>\n",
       "      <progress value='2' class='' max='2', style='width:300px; height:20px; vertical-align: middle;'></progress>\n",
       "      100.00% [2/2 01:18<00:00]\n",
       "    </div>\n",
       "    "
      ],
      "text/plain": [
       "<IPython.core.display.HTML object>"
      ]
     },
     "metadata": {},
     "output_type": "display_data"
    },
    {
     "name": "stdout",
     "output_type": "stream",
     "text": [
      "\n",
      "\n",
      "copy, crappify and upsample train files\n",
      "\n",
      "\n"
     ]
    },
    {
     "data": {
      "text/html": [
       "\n",
       "    <div>\n",
       "        <style>\n",
       "            /* Turns off some styling */\n",
       "            progress {\n",
       "                /* gets rid of default border in Firefox and Opera. */\n",
       "                border: none;\n",
       "                /* Needs to be in here for Safari polyfill so background images work as expected. */\n",
       "                background-size: auto;\n",
       "            }\n",
       "            .progress-bar-interrupted, .progress-bar-interrupted::-webkit-progress-bar {\n",
       "                background: #F44336;\n",
       "            }\n",
       "        </style>\n",
       "      <progress value='4' class='' max='4', style='width:300px; height:20px; vertical-align: middle;'></progress>\n",
       "      100.00% [4/4 02:32<00:00]\n",
       "    </div>\n",
       "    "
      ],
      "text/plain": [
       "<IPython.core.display.HTML object>"
      ]
     },
     "metadata": {},
     "output_type": "display_data"
    },
    {
     "name": "stdout",
     "output_type": "stream",
     "text": [
      "\n",
      "\n",
      "copy, crappify and upsample valid files\n",
      "\n",
      "\n"
     ]
    },
    {
     "data": {
      "text/html": [
       "\n",
       "    <div>\n",
       "        <style>\n",
       "            /* Turns off some styling */\n",
       "            progress {\n",
       "                /* gets rid of default border in Firefox and Opera. */\n",
       "                border: none;\n",
       "                /* Needs to be in here for Safari polyfill so background images work as expected. */\n",
       "                background-size: auto;\n",
       "            }\n",
       "            .progress-bar-interrupted, .progress-bar-interrupted::-webkit-progress-bar {\n",
       "                background: #F44336;\n",
       "            }\n",
       "        </style>\n",
       "      <progress value='2' class='' max='2', style='width:300px; height:20px; vertical-align: middle;'></progress>\n",
       "      100.00% [2/2 01:19<00:00]\n",
       "    </div>\n",
       "    "
      ],
      "text/plain": [
       "<IPython.core.display.HTML object>"
      ]
     },
     "metadata": {},
     "output_type": "display_data"
    },
    {
     "name": "stdout",
     "output_type": "stream",
     "text": [
      "\n",
      "\n",
      "copy, crappify and upsample train files\n",
      "\n",
      "\n"
     ]
    },
    {
     "data": {
      "text/html": [
       "\n",
       "    <div>\n",
       "        <style>\n",
       "            /* Turns off some styling */\n",
       "            progress {\n",
       "                /* gets rid of default border in Firefox and Opera. */\n",
       "                border: none;\n",
       "                /* Needs to be in here for Safari polyfill so background images work as expected. */\n",
       "                background-size: auto;\n",
       "            }\n",
       "            .progress-bar-interrupted, .progress-bar-interrupted::-webkit-progress-bar {\n",
       "                background: #F44336;\n",
       "            }\n",
       "        </style>\n",
       "      <progress value='72' class='' max='72', style='width:300px; height:20px; vertical-align: middle;'></progress>\n",
       "      100.00% [72/72 20:16<00:00]\n",
       "    </div>\n",
       "    "
      ],
      "text/plain": [
       "<IPython.core.display.HTML object>"
      ]
     },
     "metadata": {},
     "output_type": "display_data"
    },
    {
     "name": "stdout",
     "output_type": "stream",
     "text": [
      "\n",
      "\n",
      "copy, crappify and upsample valid files\n",
      "\n",
      "\n"
     ]
    },
    {
     "data": {
      "text/html": [
       "\n",
       "    <div>\n",
       "        <style>\n",
       "            /* Turns off some styling */\n",
       "            progress {\n",
       "                /* gets rid of default border in Firefox and Opera. */\n",
       "                border: none;\n",
       "                /* Needs to be in here for Safari polyfill so background images work as expected. */\n",
       "                background-size: auto;\n",
       "            }\n",
       "            .progress-bar-interrupted, .progress-bar-interrupted::-webkit-progress-bar {\n",
       "                background: #F44336;\n",
       "            }\n",
       "        </style>\n",
       "      <progress value='19' class='' max='19', style='width:300px; height:20px; vertical-align: middle;'></progress>\n",
       "      100.00% [19/19 05:18<00:00]\n",
       "    </div>\n",
       "    "
      ],
      "text/plain": [
       "<IPython.core.display.HTML object>"
      ]
     },
     "metadata": {},
     "output_type": "display_data"
    },
    {
     "name": "stdout",
     "output_type": "stream",
     "text": [
      "\n",
      "\n",
      "copy, crappify and upsample train files\n",
      "\n",
      "\n"
     ]
    },
    {
     "data": {
      "text/html": [
       "\n",
       "    <div>\n",
       "        <style>\n",
       "            /* Turns off some styling */\n",
       "            progress {\n",
       "                /* gets rid of default border in Firefox and Opera. */\n",
       "                border: none;\n",
       "                /* Needs to be in here for Safari polyfill so background images work as expected. */\n",
       "                background-size: auto;\n",
       "            }\n",
       "            .progress-bar-interrupted, .progress-bar-interrupted::-webkit-progress-bar {\n",
       "                background: #F44336;\n",
       "            }\n",
       "        </style>\n",
       "      <progress value='77' class='' max='77', style='width:300px; height:20px; vertical-align: middle;'></progress>\n",
       "      100.00% [77/77 23:09<00:00]\n",
       "    </div>\n",
       "    "
      ],
      "text/plain": [
       "<IPython.core.display.HTML object>"
      ]
     },
     "metadata": {},
     "output_type": "display_data"
    },
    {
     "name": "stdout",
     "output_type": "stream",
     "text": [
      "\n",
      "\n",
      "copy, crappify and upsample valid files\n",
      "\n",
      "\n"
     ]
    },
    {
     "data": {
      "text/html": [
       "\n",
       "    <div>\n",
       "        <style>\n",
       "            /* Turns off some styling */\n",
       "            progress {\n",
       "                /* gets rid of default border in Firefox and Opera. */\n",
       "                border: none;\n",
       "                /* Needs to be in here for Safari polyfill so background images work as expected. */\n",
       "                background-size: auto;\n",
       "            }\n",
       "            .progress-bar-interrupted, .progress-bar-interrupted::-webkit-progress-bar {\n",
       "                background: #F44336;\n",
       "            }\n",
       "        </style>\n",
       "      <progress value='20' class='' max='20', style='width:300px; height:20px; vertical-align: middle;'></progress>\n",
       "      100.00% [20/20 05:37<00:00]\n",
       "    </div>\n",
       "    "
      ],
      "text/plain": [
       "<IPython.core.display.HTML object>"
      ]
     },
     "metadata": {},
     "output_type": "display_data"
    },
    {
     "name": "stdout",
     "output_type": "stream",
     "text": [
      "done\n"
     ]
    }
   ],
   "source": [
    "for lst in [one_channel, two_channel, hr_airyscan, mito_train]:\n",
    "    lst.sort()\n",
    "    random.shuffle(lst)\n",
    "    split_idx = int(valid_pct * len(lst))\n",
    "    valid_files += lst[-split_idx:]\n",
    "    train_files += lst[:-split_idx]\n",
    "\n",
    "    for subdir, file_list in [('train', train_files),('valid', valid_files)]:\n",
    "        print(f'\\n\\ncopy, crappify and upsample {subdir} files\\n\\n')\n",
    "        for fn in progress_bar(file_list):\n",
    "            base_name = fn.stem\n",
    "            new_crappify_movie_to_tifs(\n",
    "                fn, hr_path/subdir, lr_path/subdir, lr_up_path/subdir,\n",
    "                base_name, max_scale=1.05)\n",
    "print('done')"
   ]
  }
 ],
 "metadata": {
  "kernelspec": {
   "display_name": "Python 3",
   "language": "python",
   "name": "python3"
  },
  "language_info": {
   "codemirror_mode": {
    "name": "ipython",
    "version": 3
   },
   "file_extension": ".py",
   "mimetype": "text/x-python",
   "name": "python",
   "nbconvert_exporter": "python",
   "pygments_lexer": "ipython3",
   "version": "3.7.1"
  }
 },
 "nbformat": 4,
 "nbformat_minor": 2
}
