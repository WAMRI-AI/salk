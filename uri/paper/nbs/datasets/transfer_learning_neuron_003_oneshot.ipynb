{
 "cells": [
  {
   "cell_type": "code",
   "execution_count": 2,
   "metadata": {},
   "outputs": [],
   "source": [
    "from pathlib import Path\n",
    "import shutil\n",
    "import random\n",
    "import os\n",
    "import sys\n",
    "from fastprogress import progress_bar\n",
    "from scipy.ndimage.interpolation import zoom as npzoom\n",
    "from fastprogress import progress_bar, master_bar\n",
    "import PIL.Image\n",
    "import numpy as np\n",
    "import libtiff\n",
    "\n",
    "relative_path = os.path.abspath(os.path.join('..'))\n",
    "if relative_path not in sys.path:\n",
    "    sys.path.append(relative_path)\n",
    "from utils import get_czi_shape_info, build_index\n",
    "from skimage.util import random_noise, img_as_ubyte\n",
    "from skimage import filters\n",
    "from pdb import set_trace"
   ]
  },
  {
   "cell_type": "code",
   "execution_count": 3,
   "metadata": {},
   "outputs": [],
   "source": [
    "data_path = Path('/home/bpho/Dropbox (BPHO)')\n",
    "sources = data_path/'bpho_DL_datasources'\n",
    "\n",
    "dname = 'transfer_learning_neuron_003_oneshot'\n",
    "dpath = data_path/'datasets'/dname\n",
    "if dpath.exists(): shutil.rmtree(dpath)\n",
    "\n",
    "hr_path = dpath/'hr'\n",
    "lr_path = dpath/'lr'\n",
    "lr_up_path = dpath/'lr_up'\n",
    "\n",
    "#valid_pct = 0.2"
   ]
  },
  {
   "cell_type": "code",
   "execution_count": 15,
   "metadata": {},
   "outputs": [
    {
     "data": {
      "text/plain": [
       "1"
      ]
     },
     "execution_count": 15,
     "metadata": {},
     "output_type": "execute_result"
    }
   ],
   "source": [
    "# unpaired images (mito, fromserver, neuron, microtubule, moreNeuron)\n",
    "# neuron_1 movies\n",
    "neuron_1 = sources/'Live_Neuron_Data_redo_for_Gulcin_and_Fred/single image for fine tuning for low res confocal 2 series'\n",
    "hr_neuron_1 = list(neuron_1.glob('*.tif'))\n",
    "\n",
    "neuron_1_train = [fn for fn in hr_neuron_1]\n",
    "len(neuron_1_train)"
   ]
  },
  {
   "cell_type": "code",
   "execution_count": 16,
   "metadata": {},
   "outputs": [],
   "source": [
    "train_files = []\n",
    "valid_files = []"
   ]
  },
  {
   "cell_type": "code",
   "execution_count": 17,
   "metadata": {},
   "outputs": [],
   "source": [
    "def new_crappify(x, scale=4):\n",
    "    x = random_noise(x, mode='salt', amount=0.005)\n",
    "    x = random_noise(x, mode='pepper', amount=0.005)\n",
    "    lvar = filters.gaussian(x, sigma=5)\n",
    "    x = random_noise(x, mode='localvar', local_vars=lvar*0.5)\n",
    "    x_down = npzoom(x, 1/scale, order=1)\n",
    "    x_up = npzoom(x_down, scale, order=1)\n",
    "    return x_down, x_up"
   ]
  },
  {
   "cell_type": "code",
   "execution_count": 28,
   "metadata": {},
   "outputs": [],
   "source": [
    "def new_crappify_tif_to_tifs(tif_fn, hr_dir, lr_dir, lr_up_dir, base_name, max_scale=1.05):\n",
    "    hr_dir, lr_dir, lr_up_dir = Path(hr_dir), Path(lr_dir), Path(lr_up_dir)\n",
    "    hr_dir.mkdir(parents=True, exist_ok=True)\n",
    "    lr_dir.mkdir(parents=True, exist_ok=True)\n",
    "    lr_up_dir.mkdir(parents=True, exist_ok=True)\n",
    "    \n",
    "    data = libtiff.TiffFile(tif_fn)\n",
    "    data = data.get_tiff_array()\n",
    "    depths = data.shape[0]\n",
    "    img_max = None\n",
    "    preds = []\n",
    "    origs = []\n",
    "    for depth in progress_bar(list(range(depths))):\n",
    "        save_fn = f'{base_name}_{depth:03d}.tif'\n",
    "        img = data[depth].astype(np.float)\n",
    "        if img_max is None: img_max = img.max() * max_scale\n",
    "        img /= img_max\n",
    "        down_img, down_up_img = new_crappify(img)\n",
    "\n",
    "        img = img_as_ubyte(img)\n",
    "        pimg = PIL.Image.fromarray(img, mode='L')\n",
    "        cur_size = pimg.size\n",
    "        pimg.save(hr_dir/save_fn)\n",
    "\n",
    "        small_img = PIL.Image.fromarray(img_as_ubyte(down_img))\n",
    "        big_img = PIL.Image.fromarray(img_as_ubyte(down_up_img))\n",
    "        small_img.save(lr_dir/save_fn)\n",
    "        big_img.save(lr_up_dir/save_fn)"
   ]
  },
  {
   "cell_type": "code",
   "execution_count": 29,
   "metadata": {},
   "outputs": [
    {
     "name": "stdout",
     "output_type": "stream",
     "text": [
      "\n",
      "\n",
      "copy, crappify and upsample train files\n",
      "\n",
      "\n"
     ]
    },
    {
     "data": {
      "text/html": [
       "\n",
       "    <div>\n",
       "        <style>\n",
       "            /* Turns off some styling */\n",
       "            progress {\n",
       "                /* gets rid of default border in Firefox and Opera. */\n",
       "                border: none;\n",
       "                /* Needs to be in here for Safari polyfill so background images work as expected. */\n",
       "                background-size: auto;\n",
       "            }\n",
       "            .progress-bar-interrupted, .progress-bar-interrupted::-webkit-progress-bar {\n",
       "                background: #F44336;\n",
       "            }\n",
       "        </style>\n",
       "      <progress value='5' class='' max='5', style='width:300px; height:20px; vertical-align: middle;'></progress>\n",
       "      100.00% [5/5 00:03<00:00]\n",
       "    </div>\n",
       "    "
      ],
      "text/plain": [
       "<IPython.core.display.HTML object>"
      ]
     },
     "metadata": {},
     "output_type": "display_data"
    },
    {
     "data": {
      "text/html": [
       "\n",
       "    <div>\n",
       "        <style>\n",
       "            /* Turns off some styling */\n",
       "            progress {\n",
       "                /* gets rid of default border in Firefox and Opera. */\n",
       "                border: none;\n",
       "                /* Needs to be in here for Safari polyfill so background images work as expected. */\n",
       "                background-size: auto;\n",
       "            }\n",
       "            .progress-bar-interrupted, .progress-bar-interrupted::-webkit-progress-bar {\n",
       "                background: #F44336;\n",
       "            }\n",
       "        </style>\n",
       "      <progress value='1' class='' max='1', style='width:300px; height:20px; vertical-align: middle;'></progress>\n",
       "      100.00% [1/1 00:00<00:00]\n",
       "    </div>\n",
       "    "
      ],
      "text/plain": [
       "<IPython.core.display.HTML object>"
      ]
     },
     "metadata": {},
     "output_type": "display_data"
    },
    {
     "data": {
      "text/html": [
       "\n",
       "    <div>\n",
       "        <style>\n",
       "            /* Turns off some styling */\n",
       "            progress {\n",
       "                /* gets rid of default border in Firefox and Opera. */\n",
       "                border: none;\n",
       "                /* Needs to be in here for Safari polyfill so background images work as expected. */\n",
       "                background-size: auto;\n",
       "            }\n",
       "            .progress-bar-interrupted, .progress-bar-interrupted::-webkit-progress-bar {\n",
       "                background: #F44336;\n",
       "            }\n",
       "        </style>\n",
       "      <progress value='1' class='' max='1', style='width:300px; height:20px; vertical-align: middle;'></progress>\n",
       "      100.00% [1/1 00:00<00:00]\n",
       "    </div>\n",
       "    "
      ],
      "text/plain": [
       "<IPython.core.display.HTML object>"
      ]
     },
     "metadata": {},
     "output_type": "display_data"
    },
    {
     "data": {
      "text/html": [
       "\n",
       "    <div>\n",
       "        <style>\n",
       "            /* Turns off some styling */\n",
       "            progress {\n",
       "                /* gets rid of default border in Firefox and Opera. */\n",
       "                border: none;\n",
       "                /* Needs to be in here for Safari polyfill so background images work as expected. */\n",
       "                background-size: auto;\n",
       "            }\n",
       "            .progress-bar-interrupted, .progress-bar-interrupted::-webkit-progress-bar {\n",
       "                background: #F44336;\n",
       "            }\n",
       "        </style>\n",
       "      <progress value='1' class='' max='1', style='width:300px; height:20px; vertical-align: middle;'></progress>\n",
       "      100.00% [1/1 00:00<00:00]\n",
       "    </div>\n",
       "    "
      ],
      "text/plain": [
       "<IPython.core.display.HTML object>"
      ]
     },
     "metadata": {},
     "output_type": "display_data"
    },
    {
     "data": {
      "text/html": [
       "\n",
       "    <div>\n",
       "        <style>\n",
       "            /* Turns off some styling */\n",
       "            progress {\n",
       "                /* gets rid of default border in Firefox and Opera. */\n",
       "                border: none;\n",
       "                /* Needs to be in here for Safari polyfill so background images work as expected. */\n",
       "                background-size: auto;\n",
       "            }\n",
       "            .progress-bar-interrupted, .progress-bar-interrupted::-webkit-progress-bar {\n",
       "                background: #F44336;\n",
       "            }\n",
       "        </style>\n",
       "      <progress value='1' class='' max='1', style='width:300px; height:20px; vertical-align: middle;'></progress>\n",
       "      100.00% [1/1 00:00<00:00]\n",
       "    </div>\n",
       "    "
      ],
      "text/plain": [
       "<IPython.core.display.HTML object>"
      ]
     },
     "metadata": {},
     "output_type": "display_data"
    },
    {
     "data": {
      "text/html": [
       "\n",
       "    <div>\n",
       "        <style>\n",
       "            /* Turns off some styling */\n",
       "            progress {\n",
       "                /* gets rid of default border in Firefox and Opera. */\n",
       "                border: none;\n",
       "                /* Needs to be in here for Safari polyfill so background images work as expected. */\n",
       "                background-size: auto;\n",
       "            }\n",
       "            .progress-bar-interrupted, .progress-bar-interrupted::-webkit-progress-bar {\n",
       "                background: #F44336;\n",
       "            }\n",
       "        </style>\n",
       "      <progress value='1' class='' max='1', style='width:300px; height:20px; vertical-align: middle;'></progress>\n",
       "      100.00% [1/1 00:00<00:00]\n",
       "    </div>\n",
       "    "
      ],
      "text/plain": [
       "<IPython.core.display.HTML object>"
      ]
     },
     "metadata": {},
     "output_type": "display_data"
    },
    {
     "name": "stdout",
     "output_type": "stream",
     "text": [
      "\n",
      "\n",
      "copy, crappify and upsample valid files\n",
      "\n",
      "\n"
     ]
    },
    {
     "data": {
      "text/html": [
       "\n",
       "    <div>\n",
       "        <style>\n",
       "            /* Turns off some styling */\n",
       "            progress {\n",
       "                /* gets rid of default border in Firefox and Opera. */\n",
       "                border: none;\n",
       "                /* Needs to be in here for Safari polyfill so background images work as expected. */\n",
       "                background-size: auto;\n",
       "            }\n",
       "            .progress-bar-interrupted, .progress-bar-interrupted::-webkit-progress-bar {\n",
       "                background: #F44336;\n",
       "            }\n",
       "        </style>\n",
       "      <progress value='0' class='' max='0', style='width:300px; height:20px; vertical-align: middle;'></progress>\n",
       "      100% [0/0]\n",
       "    </div>\n",
       "    "
      ],
      "text/plain": [
       "<IPython.core.display.HTML object>"
      ]
     },
     "metadata": {},
     "output_type": "display_data"
    },
    {
     "name": "stderr",
     "output_type": "stream",
     "text": [
      "/home/bpho/.conda/envs/fastai/lib/python3.7/site-packages/fastprogress/fastprogress.py:96: UserWarning: Your generator is empty.\n",
      "  warn(\"Your generator is empty.\")\n"
     ]
    },
    {
     "name": "stdout",
     "output_type": "stream",
     "text": [
      "done\n"
     ]
    }
   ],
   "source": [
    "for lst in [hr_neuron_1]:\n",
    "    split_idx = len(lst)\n",
    "    train_files += lst[:]\n",
    "    for subdir, file_list in [('train', train_files),('valid', valid_files)]:\n",
    "        print(f'\\n\\ncopy, crappify and upsample {subdir} files\\n\\n')\n",
    "        for fn in progress_bar(file_list):\n",
    "            base_name = fn.stem\n",
    "            new_crappify_tif_to_tifs(\n",
    "                fn, hr_path/subdir, lr_path/subdir, lr_up_path/subdir,\n",
    "                base_name, max_scale=1.05)\n",
    "print('done')"
   ]
  },
  {
   "cell_type": "code",
   "execution_count": null,
   "metadata": {},
   "outputs": [],
   "source": []
  }
 ],
 "metadata": {
  "kernelspec": {
   "display_name": "Python 3",
   "language": "python",
   "name": "python3"
  },
  "language_info": {
   "codemirror_mode": {
    "name": "ipython",
    "version": 3
   },
   "file_extension": ".py",
   "mimetype": "text/x-python",
   "name": "python",
   "nbconvert_exporter": "python",
   "pygments_lexer": "ipython3",
   "version": "3.7.1"
  }
 },
 "nbformat": 4,
 "nbformat_minor": 2
}
