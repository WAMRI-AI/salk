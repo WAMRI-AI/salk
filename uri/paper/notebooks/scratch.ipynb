{
 "cells": [
  {
   "cell_type": "code",
   "execution_count": 1,
   "metadata": {},
   "outputs": [],
   "source": [
    "%load_ext autoreload\n",
    "%autoreload 2\n",
    "\n",
    "import yaml\n",
    "yaml.warnings({'YAMLLoadWarning': False})\n",
    "from fastai import *\n",
    "from fastai.vision import *\n",
    "from fastai.callbacks import *\n",
    "from fastai.distributed import *\n",
    "from fastai.vision.models.xresnet import *\n",
    "from fastai.vision.models.unet import DynamicUnet\n",
    "import PIL.Image\n",
    "import czifile\n",
    "from bpho import *\n",
    "import PIL\n",
    "PIL.Image.MAX_IMAGE_PIXELS = 99999999999999\n"
   ]
  },
  {
   "cell_type": "code",
   "execution_count": 2,
   "metadata": {},
   "outputs": [],
   "source": [
    "data_sources = Path('../data')\n",
    "live = data_sources/'live'\n",
    "fixed = data_sources/'fixed'"
   ]
  },
  {
   "cell_type": "code",
   "execution_count": 4,
   "metadata": {},
   "outputs": [],
   "source": [
    "#!ls {live}/mitotracker/train"
   ]
  },
  {
   "cell_type": "code",
   "execution_count": 8,
   "metadata": {},
   "outputs": [],
   "source": [
    "tif_files = list(data_sources.glob('**/*.tif'))\n",
    "czi_files = list(data_sources.glob('**/*.czi'))\n",
    "\n",
    "def get_tif_size(tif_fn):\n",
    "    #try:\n",
    "    shape = {}\n",
    "    with PIL.Image.open(tif_fn) as img:\n",
    "        shape['X'] = img.size[0]\n",
    "        shape['Y'] = img.size[1]\n",
    "        shape['C'] = 1\n",
    "        shape['Z'] = img.n_frames\n",
    "        shape['T'] = 1\n",
    "\n",
    "    return shape\n",
    "\n",
    "def get_czi_size(czi_fn):\n",
    "    try:\n",
    "        shape = 0\n",
    "        with czifile.CziFile(czi_fn) as img:\n",
    "            axes, shape = get_czi_shape_info(img)\n",
    "            shape = {fld:shape.get(fld, 1) for fld in ['X','Y','C','Z','T']}\n",
    "    except Exception as ex:\n",
    "        print(f'{ex} for {czi_fn.stem}')\n",
    "        shape = None\n",
    "        \n",
    "    return shape\n",
    "\n",
    "def get_info(fn):\n",
    "    info_proc = {\n",
    "        '.czi': get_czi_size,\n",
    "        '.tif': get_tif_size\n",
    "    }\n",
    "    info_proc = info_proc.get(fn.suffix, lambda x: None)\n",
    "    return info_proc(fn)\n",
    "\n",
    "infos = []\n",
    "for fn in tif_files + czi_files:\n",
    "    info = get_info(fn)\n",
    "    if not info is None:\n",
    "        info.update({\n",
    "            'fn': fn,\n",
    "            'category': fn.parts[-3],\n",
    "            'fixed_live': fn.parts[-4],\n",
    "            'train_valid': fn.parts[-2],\n",
    "            'img_size': max(info['X'], info['Y']),\n",
    "            'ftype': fn.suffix\n",
    "        })\n",
    "        infos.append(info)"
   ]
  },
  {
   "cell_type": "code",
   "execution_count": 81,
   "metadata": {},
   "outputs": [],
   "source": [
    "mito_files = df.loc[df.category.isin(['mitotracker', 'fixed_cell_mitochondria'])]"
   ]
  },
  {
   "cell_type": "code",
   "execution_count": 88,
   "metadata": {},
   "outputs": [
    {
     "data": {
      "text/plain": [
       "233    g_Stitch_2\n",
       "260    g_Stitch_5\n",
       "263    _Stitch_10\n",
       "290    g_Stitch_7\n",
       "307    g_Stitch_1\n",
       "507    g_Stitch_9\n",
       "508    g_Stitch_6\n",
       "537    g_Stitch_8\n",
       "552    g_Stitch_3\n",
       "582    g_Stitch_4\n",
       "624    _Stitch_11\n",
       "Name: fn, dtype: object"
      ]
     },
     "execution_count": 88,
     "metadata": {},
     "output_type": "execute_result"
    }
   ],
   "source": [
    "mito_files.loc[mito_files.img_size > 3000].fn.apply(lambda x: Path(x).stem[-10:])"
   ]
  },
  {
   "cell_type": "code",
   "execution_count": 5,
   "metadata": {},
   "outputs": [
    {
     "ename": "ModuleNotFoundError",
     "evalue": "No module named 'train'",
     "output_type": "error",
     "traceback": [
      "\u001b[0;31m---------------------------------------------------------------------------\u001b[0m",
      "\u001b[0;31mModuleNotFoundError\u001b[0m                       Traceback (most recent call last)",
      "\u001b[0;32m<ipython-input-5-7e0b528b9237>\u001b[0m in \u001b[0;36m<module>\u001b[0;34m\u001b[0m\n\u001b[0;32m----> 1\u001b[0;31m \u001b[0;32mfrom\u001b[0m \u001b[0mtrain\u001b[0m \u001b[0;32mimport\u001b[0m \u001b[0;34m*\u001b[0m\u001b[0;34m\u001b[0m\u001b[0;34m\u001b[0m\u001b[0m\n\u001b[0m",
      "\u001b[0;31mModuleNotFoundError\u001b[0m: No module named 'train'"
     ]
    }
   ],
   "source": [
    "from train import *"
   ]
  },
  {
   "cell_type": "code",
   "execution_count": null,
   "metadata": {},
   "outputs": [],
   "source": []
  }
 ],
 "metadata": {
  "kernelspec": {
   "display_name": "Python 3",
   "language": "python",
   "name": "python3"
  },
  "language_info": {
   "codemirror_mode": {
    "name": "ipython",
    "version": 3
   },
   "file_extension": ".py",
   "mimetype": "text/x-python",
   "name": "python",
   "nbconvert_exporter": "python",
   "pygments_lexer": "ipython3",
   "version": "3.7.3"
  },
  "toc": {
   "base_numbering": 1,
   "nav_menu": {},
   "number_sections": true,
   "sideBar": true,
   "skip_h1_title": false,
   "title_cell": "Table of Contents",
   "title_sidebar": "Contents",
   "toc_cell": false,
   "toc_position": {},
   "toc_section_display": true,
   "toc_window_display": false
  }
 },
 "nbformat": 4,
 "nbformat_minor": 2
}
