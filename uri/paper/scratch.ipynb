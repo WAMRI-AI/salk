{
 "cells": [
  {
   "cell_type": "code",
   "execution_count": 1,
   "metadata": {},
   "outputs": [
    {
     "name": "stderr",
     "output_type": "stream",
     "text": [
      "/home/fredmonroe/anaconda3/lib/python3.7/site-packages/dask/config.py:168: YAMLLoadWarning: calling yaml.load() without Loader=... is deprecated, as the default Loader is unsafe. Please read https://msg.pyyaml.org/load for full details.\n",
      "  data = yaml.load(f.read()) or {}\n"
     ]
    }
   ],
   "source": [
    "%load_ext autoreload\n",
    "%autoreload 2\n",
    "\n",
    "\n",
    "from fastai import *\n",
    "from fastai.vision import *\n",
    "from fastai.callbacks import *\n",
    "from fastai.distributed import *\n",
    "from fastai.vision.models.xresnet import *\n",
    "from fastai.vision.models.unet import DynamicUnet\n",
    "from bpho import *\n",
    "import PIL\n",
    "PIL.Image.MAX_IMAGE_PIXELS = 99999999999999\n"
   ]
  },
  {
   "cell_type": "code",
   "execution_count": 3,
   "metadata": {
    "scrolled": true
   },
   "outputs": [
    {
     "data": {
      "text/html": [
       "\n",
       "    <div>\n",
       "        <style>\n",
       "            /* Turns off some styling */\n",
       "            progress {\n",
       "                /* gets rid of default border in Firefox and Opera. */\n",
       "                border: none;\n",
       "                /* Needs to be in here for Safari polyfill so background images work as expected. */\n",
       "                background-size: auto;\n",
       "            }\n",
       "            .progress-bar-interrupted, .progress-bar-interrupted::-webkit-progress-bar {\n",
       "                background: #F44336;\n",
       "            }\n",
       "        </style>\n",
       "      <progress value='2123' class='' max='2123', style='width:300px; height:20px; vertical-align: middle;'></progress>\n",
       "      100.00% [2123/2123 00:00<00:00]\n",
       "    </div>\n",
       "    "
      ],
      "text/plain": [
       "<IPython.core.display.HTML object>"
      ]
     },
     "metadata": {},
     "output_type": "display_data"
    },
    {
     "data": {
      "text/html": [
       "\n",
       "    <div>\n",
       "        <style>\n",
       "            /* Turns off some styling */\n",
       "            progress {\n",
       "                /* gets rid of default border in Firefox and Opera. */\n",
       "                border: none;\n",
       "                /* Needs to be in here for Safari polyfill so background images work as expected. */\n",
       "                background-size: auto;\n",
       "            }\n",
       "            .progress-bar-interrupted, .progress-bar-interrupted::-webkit-progress-bar {\n",
       "                background: #F44336;\n",
       "            }\n",
       "        </style>\n",
       "      <progress value='2123' class='' max='2123', style='width:300px; height:20px; vertical-align: middle;'></progress>\n",
       "      100.00% [2123/2123 00:00<00:00]\n",
       "    </div>\n",
       "    "
      ],
      "text/plain": [
       "<IPython.core.display.HTML object>"
      ]
     },
     "metadata": {},
     "output_type": "display_data"
    },
    {
     "data": {
      "text/html": [
       "\n",
       "    <div>\n",
       "        <style>\n",
       "            /* Turns off some styling */\n",
       "            progress {\n",
       "                /* gets rid of default border in Firefox and Opera. */\n",
       "                border: none;\n",
       "                /* Needs to be in here for Safari polyfill so background images work as expected. */\n",
       "                background-size: auto;\n",
       "            }\n",
       "            .progress-bar-interrupted, .progress-bar-interrupted::-webkit-progress-bar {\n",
       "                background: #F44336;\n",
       "            }\n",
       "        </style>\n",
       "      <progress value='600' class='' max='600', style='width:300px; height:20px; vertical-align: middle;'></progress>\n",
       "      100.00% [600/600 00:06<00:00]\n",
       "    </div>\n",
       "    "
      ],
      "text/plain": [
       "<IPython.core.display.HTML object>"
      ]
     },
     "metadata": {},
     "output_type": "display_data"
    }
   ],
   "source": [
    "x_data = Path('datasets/combo_001/lrup/')\n",
    "y_data = Path('datasets/combo_001/hr')\n",
    "y_tile = Path('datasets/tile_001/hr')\n",
    "x_tile = Path('datasets/tile_001/lrup')\n",
    "\n",
    "\n",
    "def my_crap(img):\n",
    "    return img.copy()\n",
    "    \n",
    "    \n",
    "tile_info =  build_tile_info(y_data, 512, 500, 100, \n",
    "                             skip_categories=['centrioles','neurons','ArgoSIMDL'])\n",
    "generate_tiles(y_tile, tile_info, crap_dir=x_tile, crap_func=my_crap)"
   ]
  },
  {
   "cell_type": "code",
   "execution_count": null,
   "metadata": {},
   "outputs": [],
   "source": []
  },
  {
   "cell_type": "code",
   "execution_count": null,
   "metadata": {},
   "outputs": [],
   "source": []
  },
  {
   "cell_type": "code",
   "execution_count": null,
   "metadata": {},
   "outputs": [],
   "source": [
    "crop_img"
   ]
  },
  {
   "cell_type": "code",
   "execution_count": null,
   "metadata": {},
   "outputs": [],
   "source": [
    "tile_stuff.groupby('category').count()"
   ]
  },
  {
   "cell_type": "code",
   "execution_count": null,
   "metadata": {
    "scrolled": false
   },
   "outputs": [],
   "source": [
    "stats = file_data.groupby(['category','dims']).aggregate({'fsize': 'mean', 'name':'count'})\n",
    "stats.columns = ['file_size', 'num']\n",
    "stats"
   ]
  },
  {
   "cell_type": "code",
   "execution_count": null,
   "metadata": {},
   "outputs": [],
   "source": [
    "files_by_cat = {}\n",
    "for p in progress_bar(all_files):\n",
    "    category = p.parts[-2]\n",
    "    cat_list = files_by_cat.get(category, [])\n",
    "    cat_list.append(p)\n",
    "    files_by_cat[category] = cat_list"
   ]
  },
  {
   "cell_type": "code",
   "execution_count": null,
   "metadata": {},
   "outputs": [],
   "source": [
    "def pull_random_tile_info(tile_sz):\n",
    "    category=random.choice(list(files_by_cat.keys()))\n",
    "    img_file=random.choice(files_by_cat[category])\n",
    "    return {'category': category, 'fn': img_file, 'tile_sz': tile_sz}"
   ]
  },
  {
   "cell_type": "code",
   "execution_count": null,
   "metadata": {},
   "outputs": [],
   "source": [
    "tile_sz = 1000\n",
    "tile_infos = []\n",
    "for i in range(1000):\n",
    "    tile_infos.append(pull_random_tile_info(tile_sz))"
   ]
  },
  {
   "cell_type": "code",
   "execution_count": null,
   "metadata": {},
   "outputs": [],
   "source": [
    "pd.DataFrame(tile_infos).groupby('category').count()"
   ]
  },
  {
   "cell_type": "code",
   "execution_count": null,
   "metadata": {},
   "outputs": [],
   "source": [
    "from scipy.ndimage.interpolation import zoom as npzoom\n",
    "\n",
    "def _micro_crappify(x, gauss_sigma = 1, poisson_loop=10, scale=4):\n",
    "    x = x[0].numpy()\n",
    "    x = x * 255.\n",
    "    for n in range(poisson_loop):\n",
    "        x = np.random.poisson(np.maximum(0,x).astype(np.int))\n",
    "    x = x.astype(np.float32)\n",
    "    noise = np.random.normal(0,gauss_sigma,size=x.shape).astype(np.float32)\n",
    "    x = np.maximum(0,x+noise)\n",
    "    x -= x.min()\n",
    "    x /= x.max()\n",
    "    return tensor(x[None])\n",
    "\n",
    "\n",
    "class TfmEarly(Transform):\n",
    "    \"Decorator for pixel tfm funcs.\"\n",
    "    order,_wrap = 0,'pixel'\n",
    "micro_crappify = TfmEarly(_micro_crappify)\n",
    "\n",
    "\n",
    "\n",
    "\n",
    "def get_src(x_data, y_data, size, zoom_scale=1.0, scale=1):\n",
    "    def map_to_hr(x):\n",
    "        return y_data/x.relative_to(x_data)\n",
    "    tfms = [[],[]]\n",
    "    y_tfms = [[t for t in tfms[0]], [t for t in tfms[1]]]\n",
    "    #tfms[0].insert(0, micro_crappify())\n",
    "    \n",
    "    src = (ImageImageList.from_folder(x_data)\n",
    "           .split_by_folder()\n",
    "           .label_from_func(map_to_hr)\n",
    "           .transform(tfms, size=size)\n",
    "           .transform_y(y_tfms, size=size*scale))\n",
    "    return src\n",
    "\n",
    "\n",
    "def get_data(src, **kwargs):\n",
    "    data = src.databunch(**kwargs)\n",
    "    data.c = 3\n",
    "    return data\n"
   ]
  },
  {
   "cell_type": "code",
   "execution_count": null,
   "metadata": {},
   "outputs": [],
   "source": [
    "src = get_src(x_data, y_data, size=128, zoom_scale=2, scale=1)\n",
    "data = get_data(src, bs=4)\n",
    "src"
   ]
  },
  {
   "cell_type": "code",
   "execution_count": null,
   "metadata": {},
   "outputs": [],
   "source": [
    "model_dir = 'models'\n",
    "arch = xresnet34\n",
    "loss = F.l1_loss\n",
    "metrics = sr_metrics\n",
    "learn = xres_unet_learner(data, arch, path=Path('.'), loss_func=loss, metrics=metrics, model_dir=model_dir)\n"
   ]
  },
  {
   "cell_type": "code",
   "execution_count": null,
   "metadata": {},
   "outputs": [],
   "source": [
    "learn.fit_one_cycle(1, 1e-4)"
   ]
  },
  {
   "cell_type": "code",
   "execution_count": null,
   "metadata": {},
   "outputs": [],
   "source": [
    "import os"
   ]
  },
  {
   "cell_type": "code",
   "execution_count": null,
   "metadata": {},
   "outputs": [],
   "source": [
    "all_files = []\n",
    "\n",
    "for root,dirs,files in os.walk(y_data, topdown=False):\n",
    "    all_files += files"
   ]
  },
  {
   "cell_type": "code",
   "execution_count": null,
   "metadata": {},
   "outputs": [],
   "source": [
    "len(all_files)"
   ]
  },
  {
   "cell_type": "code",
   "execution_count": null,
   "metadata": {},
   "outputs": [],
   "source": []
  },
  {
   "cell_type": "code",
   "execution_count": null,
   "metadata": {},
   "outputs": [],
   "source": []
  },
  {
   "cell_type": "code",
   "execution_count": null,
   "metadata": {},
   "outputs": [],
   "source": []
  },
  {
   "cell_type": "code",
   "execution_count": null,
   "metadata": {},
   "outputs": [],
   "source": []
  }
 ],
 "metadata": {
  "kernelspec": {
   "display_name": "Python 3",
   "language": "python",
   "name": "python3"
  },
  "language_info": {
   "codemirror_mode": {
    "name": "ipython",
    "version": 3
   },
   "file_extension": ".py",
   "mimetype": "text/x-python",
   "name": "python",
   "nbconvert_exporter": "python",
   "pygments_lexer": "ipython3",
   "version": "3.7.3"
  },
  "toc": {
   "base_numbering": 1,
   "nav_menu": {},
   "number_sections": true,
   "sideBar": true,
   "skip_h1_title": false,
   "title_cell": "Table of Contents",
   "title_sidebar": "Contents",
   "toc_cell": false,
   "toc_position": {},
   "toc_section_display": true,
   "toc_window_display": false
  }
 },
 "nbformat": 4,
 "nbformat_minor": 2
}
