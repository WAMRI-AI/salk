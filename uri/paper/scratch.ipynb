{
 "cells": [
  {
   "cell_type": "code",
   "execution_count": 2,
   "metadata": {},
   "outputs": [
    {
     "name": "stderr",
     "output_type": "stream",
     "text": [
      "/home/fredmonroe/anaconda3/lib/python3.7/site-packages/dask/config.py:168: YAMLLoadWarning: calling yaml.load() without Loader=... is deprecated, as the default Loader is unsafe. Please read https://msg.pyyaml.org/load for full details.\n",
      "  data = yaml.load(f.read()) or {}\n"
     ]
    }
   ],
   "source": [
    "%load_ext autoreload\n",
    "%autoreload 2\n",
    "\n",
    "from fastai import *\n",
    "from fastai.vision import *\n",
    "from fastai.callbacks import *\n",
    "from fastai.distributed import *\n",
    "from fastai.vision.models.xresnet import *\n",
    "from fastai.vision.models.unet import DynamicUnet\n",
    "from bpho import *"
   ]
  },
  {
   "cell_type": "code",
   "execution_count": 5,
   "metadata": {},
   "outputs": [],
   "source": [
    "from scipy.ndimage.interpolation import zoom as npzoom\n",
    "\n",
    "def _micro_crappify(x, gauss_sigma = 1, poisson_loop=10, scale=4):\n",
    "    x = x[0].numpy()\n",
    "    x = x * 255.\n",
    "    for n in range(poisson_loop):\n",
    "        x = np.random.poisson(np.maximum(0,x).astype(np.int))\n",
    "    x = x.astype(np.float32)\n",
    "    noise = np.random.normal(0,gauss_sigma,size=x.shape).astype(np.float32)\n",
    "    x = np.maximum(0,x+noise)\n",
    "    x -= x.min()\n",
    "    x /= x.max()\n",
    "    return tensor(x[None])\n",
    "\n",
    "\n",
    "class TfmEarly(Transform):\n",
    "    \"Decorator for pixel tfm funcs.\"\n",
    "    order,_wrap = 0,'pixel'\n",
    "micro_crappify = TfmEarly(_micro_crappify)\n",
    "\n",
    "\n",
    "\n",
    "\n",
    "def get_src(x_data, y_data, size, zoom_scale=1.0, scale=1, skip = None, include=None):\n",
    "    def map_to_hr(x):\n",
    "        return y_data/x.relative_to(x_data)\n",
    "\n",
    "    def blacklist(x):\n",
    "        if skip is None: return True\n",
    "        tag = x.stem.split('_')[0]\n",
    "        return tag not in skip\n",
    "    \n",
    "    \n",
    "    def whitelist(x):\n",
    "        if include is None: return True\n",
    "        tag = x.stem.split('_')[0]\n",
    "        return tag in include\n",
    "    \n",
    "    #tfms = get_transforms(flip_vert=True, max_zoom=zoom_scale)\n",
    "    tfms = [[],[]]\n",
    "    y_tfms = [[t for t in tfms[0]], [t for t in tfms[1]]]\n",
    "    #tfms[0].insert(0, micro_crappify())\n",
    "    \n",
    "    src = (NpyRawImageList.from_folder(x_data)\n",
    "           .filter_by_func(blacklist)\n",
    "           .filter_by_func(whitelist)\n",
    "           .split_by_folder()\n",
    "           .label_from_func(map_to_hr, label_cls=NpyRawImageList)\n",
    "           .transform(tfms, size=size)\n",
    "           .transform_y(y_tfms, size=size*scale))\n",
    "    return src\n",
    "\n",
    "\n",
    "def get_data(src, **kwargs):\n",
    "    data = src.databunch(**kwargs)\n",
    "    data.c = 3\n",
    "    return data\n"
   ]
  },
  {
   "cell_type": "code",
   "execution_count": 6,
   "metadata": {},
   "outputs": [
    {
     "data": {
      "text/plain": [
       "LabelLists;\n",
       "\n",
       "Train: LabelList (1212 items)\n",
       "x: NpyRawImageList\n",
       "Image (1, 128, 128),Image (1, 128, 128),Image (1, 128, 128),Image (1, 128, 128),Image (1, 128, 128)\n",
       "y: NpyRawImageList\n",
       "Image (1, 128, 128),Image (1, 128, 128),Image (1, 128, 128),Image (1, 128, 128),Image (1, 128, 128)\n",
       "Path: datasets/clean_001/lrup;\n",
       "\n",
       "Valid: LabelList (21 items)\n",
       "x: NpyRawImageList\n",
       "Image (1, 128, 128),Image (1, 128, 128),Image (1, 128, 128),Image (1, 128, 128),Image (1, 128, 128)\n",
       "y: NpyRawImageList\n",
       "Image (1, 128, 128),Image (1, 128, 128),Image (1, 128, 128),Image (1, 128, 128),Image (1, 128, 128)\n",
       "Path: datasets/clean_001/lrup;\n",
       "\n",
       "Test: None"
      ]
     },
     "execution_count": 6,
     "metadata": {},
     "output_type": "execute_result"
    }
   ],
   "source": [
    "x_data = Path('datasets/clean_001/lrup/')\n",
    "y_data = Path('datasets/clean_001/hr')\n",
    "\n",
    "src = get_src(x_data, y_data, size=128, zoom_scale=2, scale=1, include = ['mitotracker','actin'])\n",
    "data = get_data(src, bs=4)\n",
    "src"
   ]
  },
  {
   "cell_type": "code",
   "execution_count": 7,
   "metadata": {},
   "outputs": [],
   "source": [
    "model_dir = 'models'\n",
    "arch = xresnet34\n",
    "loss = F.l1_loss\n",
    "metrics = sr_metrics\n",
    "learn = xres_unet_learner(data, arch, path=Path('.'), loss_func=loss, metrics=metrics, model_dir=model_dir)\n"
   ]
  },
  {
   "cell_type": "code",
   "execution_count": null,
   "metadata": {},
   "outputs": [
    {
     "data": {
      "text/html": [
       "\n",
       "    <div>\n",
       "        <style>\n",
       "            /* Turns off some styling */\n",
       "            progress {\n",
       "                /* gets rid of default border in Firefox and Opera. */\n",
       "                border: none;\n",
       "                /* Needs to be in here for Safari polyfill so background images work as expected. */\n",
       "                background-size: auto;\n",
       "            }\n",
       "            .progress-bar-interrupted, .progress-bar-interrupted::-webkit-progress-bar {\n",
       "                background: #F44336;\n",
       "            }\n",
       "        </style>\n",
       "      <progress value='0' class='' max='1', style='width:300px; height:20px; vertical-align: middle;'></progress>\n",
       "      0.00% [0/1 00:00<00:00]\n",
       "    </div>\n",
       "    \n",
       "<table border=\"1\" class=\"dataframe\">\n",
       "  <thead>\n",
       "    <tr style=\"text-align: left;\">\n",
       "      <th>epoch</th>\n",
       "      <th>train_loss</th>\n",
       "      <th>valid_loss</th>\n",
       "      <th>ssim</th>\n",
       "      <th>psnr</th>\n",
       "      <th>time</th>\n",
       "    </tr>\n",
       "  </thead>\n",
       "  <tbody>\n",
       "  </tbody>\n",
       "</table><p>\n",
       "\n",
       "    <div>\n",
       "        <style>\n",
       "            /* Turns off some styling */\n",
       "            progress {\n",
       "                /* gets rid of default border in Firefox and Opera. */\n",
       "                border: none;\n",
       "                /* Needs to be in here for Safari polyfill so background images work as expected. */\n",
       "                background-size: auto;\n",
       "            }\n",
       "            .progress-bar-interrupted, .progress-bar-interrupted::-webkit-progress-bar {\n",
       "                background: #F44336;\n",
       "            }\n",
       "        </style>\n",
       "      <progress value='87' class='' max='303', style='width:300px; height:20px; vertical-align: middle;'></progress>\n",
       "      28.71% [87/303 06:24<15:53 0.0791]\n",
       "    </div>\n",
       "    "
      ],
      "text/plain": [
       "<IPython.core.display.HTML object>"
      ]
     },
     "metadata": {},
     "output_type": "display_data"
    }
   ],
   "source": [
    "learn.fit_one_cycle(1, 1e-4)"
   ]
  },
  {
   "cell_type": "code",
   "execution_count": null,
   "metadata": {},
   "outputs": [],
   "source": []
  }
 ],
 "metadata": {
  "kernelspec": {
   "display_name": "Python 3",
   "language": "python",
   "name": "python3"
  },
  "language_info": {
   "codemirror_mode": {
    "name": "ipython",
    "version": 3
   },
   "file_extension": ".py",
   "mimetype": "text/x-python",
   "name": "python",
   "nbconvert_exporter": "python",
   "pygments_lexer": "ipython3",
   "version": "3.7.3"
  },
  "toc": {
   "base_numbering": 1,
   "nav_menu": {},
   "number_sections": true,
   "sideBar": true,
   "skip_h1_title": false,
   "title_cell": "Table of Contents",
   "title_sidebar": "Contents",
   "toc_cell": false,
   "toc_position": {},
   "toc_section_display": true,
   "toc_window_display": false
  }
 },
 "nbformat": 4,
 "nbformat_minor": 2
}
