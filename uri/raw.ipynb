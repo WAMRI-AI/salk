{
 "cells": [
  {
   "cell_type": "code",
   "execution_count": 1,
   "metadata": {
    "code_folding": []
   },
   "outputs": [],
   "source": [
    "#import fastai\n",
    "from fastai import *          # Quick access to most common functionality\n",
    "from fastai.vision import *   # Quick access to computer vision functionality\n",
    "from fastai.callbacks import *"
   ]
  },
  {
   "cell_type": "code",
   "execution_count": 2,
   "metadata": {},
   "outputs": [],
   "source": [
    "import pytorch_ssim as ssim\n",
    "from superres import *\n",
    "from torchvision.models import vgg16_bn\n",
    "import czifile"
   ]
  },
  {
   "cell_type": "code",
   "execution_count": 39,
   "metadata": {},
   "outputs": [],
   "source": [
    "path = Path('/DATA/WAMRI/salk/uri/BPHO/')\n",
    "path_raw = path/'raw'\n",
    "path_processed = path/'processed'\n",
    "path_input = path/'input'\n",
    "path_target = path/'target'\n",
    "\n",
    "path_input.mkdir(exist_ok=True)\n",
    "path_target.mkdir(exist_ok=True)\n",
    "\n",
    "def to_airyscan(fn):\n",
    "    new_fn = fn.stem + '_Airyscan Processing' + fn.suffix\n",
    "    new_fn = Path(new_fn)\n",
    "    new_parent = (path_processed/fn.relative_to(path_raw)).parent\n",
    "    return new_parent/new_fn"
   ]
  },
  {
   "cell_type": "code",
   "execution_count": 40,
   "metadata": {},
   "outputs": [],
   "source": [
    "raw_files = list(path_raw.glob('*'))\n",
    "path_raw, len(raw_files)\n",
    "fn = raw_files[0]"
   ]
  },
  {
   "cell_type": "code",
   "execution_count": 43,
   "metadata": {
    "code_folding": []
   },
   "outputs": [],
   "source": [
    "def get_czi_shape_info(czi):\n",
    "    shape = czi.shape\n",
    "    axes = czi.axes\n",
    "    axes_dict = {axis:idx for idx,axis in enumerate(czi.axes)}\n",
    "    shape_dict = {axis:shape[axes_dict[axis]] for axis in czi.axes}\n",
    "    return axes_dict, shape_dict\n",
    "\n",
    "\n",
    "def build_index(axes, ix_select):\n",
    "    idx = [ix_select.get(ax, 0) for ax in axes]\n",
    "    return tuple(idx)\n",
    "\n",
    "def process_czi(raw_fn):\n",
    "    proc_fn = to_airyscan(raw_fn)\n",
    "    if not proc_fn.exists():\n",
    "        print(f'no match: {proc_fn}')\n",
    "        return\n",
    "    \n",
    "    with czifile.CziFile(fn) as raw_czf:\n",
    "        raw_axes, raw_shape = get_czi_shape_info(raw_czf)\n",
    "        channels = raw_shape['C'] // 2\n",
    "        sensors = raw_shape['H']\n",
    "        depths = raw_shape['Z']\n",
    "        x,y = raw_shape['X'], raw_shape['Y']\n",
    "        data = raw_czf.asarray()\n",
    "        for channel in range(channels):\n",
    "            for depth in range(depths):\n",
    "                for sensor in range(sensors):\n",
    "                    idx = build_index(raw_axes, {'H':sensor, 'C': channel, 'Z':depth,\n",
    "                                                 'X':slice(0,x),'Y':slice(0,y)})\n",
    "                    img = data[idx]\n",
    "                    save_raw_fn = path_input/f'{raw_fn.stem}_{channel:02d}_{depth:03d}_{sensor:02d}.npy'\n",
    "                    np.save(save_raw_fn, img)\n",
    "                    \n",
    "    with czifile.CziFile(proc_fn) as proc_czf:\n",
    "        proc_axes, proc_shape = get_czi_shape_info(proc_czf)\n",
    "        channels = proc_shape['C']\n",
    "        depths = proc_shape['Z']\n",
    "        x,y = proc_shape['X'], proc_shape['Y']\n",
    "        data = proc_czf.asarray()\n",
    "        for channel in range(channels):\n",
    "            for depth in range(depths):\n",
    "                for sensor in range(sensors):\n",
    "                    idx = build_index(proc_axes, {'C': channel, 'Z':depth, 'X':slice(0,x),'Y':slice(0,y)})\n",
    "                    img = data[idx]\n",
    "                    save_proc_fn = path_target/f'{raw_fn.stem}_{channel:02d}_{depth:03d}.npy'\n",
    "                    np.save(save_proc_fn, img)\n",
    "        "
   ]
  },
  {
   "cell_type": "code",
   "execution_count": 45,
   "metadata": {},
   "outputs": [],
   "source": [
    "#for fn in progress_bar(raw_files):\n",
    "#    process_czi(fn)"
   ]
  },
  {
   "cell_type": "code",
   "execution_count": null,
   "metadata": {},
   "outputs": [],
   "source": []
  },
  {
   "cell_type": "code",
   "execution_count": null,
   "metadata": {},
   "outputs": [],
   "source": []
  },
  {
   "cell_type": "code",
   "execution_count": null,
   "metadata": {},
   "outputs": [],
   "source": []
  }
 ],
 "metadata": {
  "kernelspec": {
   "display_name": "Python 3",
   "language": "python",
   "name": "python3"
  },
  "language_info": {
   "codemirror_mode": {
    "name": "ipython",
    "version": 3
   },
   "file_extension": ".py",
   "mimetype": "text/x-python",
   "name": "python",
   "nbconvert_exporter": "python",
   "pygments_lexer": "ipython3",
   "version": "3.6.5"
  }
 },
 "nbformat": 4,
 "nbformat_minor": 2
}
