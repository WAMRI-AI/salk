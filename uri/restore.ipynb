{
 "cells": [
  {
   "cell_type": "code",
   "execution_count": 38,
   "metadata": {},
   "outputs": [],
   "source": [
    "import fastai\n",
    "from fastai import *          # Quick access to most common functionality\n",
    "from fastai.vision import *   # Quick access to computer vision functionality"
   ]
  },
  {
   "cell_type": "code",
   "execution_count": 39,
   "metadata": {},
   "outputs": [],
   "source": [
    "path = Path('/DATA/WAMRI/SALK/uri/Image_restoration_data/')\n",
    "train_lr = path/'train_LR'\n",
    "train_hr = path/'train_HR'\n",
    "test_lr = path/'test_LR'\n",
    "test_hr = path/'test_HR'"
   ]
  },
  {
   "cell_type": "code",
   "execution_count": 142,
   "metadata": {},
   "outputs": [],
   "source": [
    "class LRtoHRDataset(DatasetBase):\n",
    "    def __init__(self, xfns:FilePathList, yfns:FilePathList):\n",
    "        self.x_fns = {self.pull_id(xi.name):xi for xi in xfns}\n",
    "        self.y_fns = {self.pull_id(yi.name):yi for yi in yfns}\n",
    "        self.ids = list(self.x_fns.keys())\n",
    "    \n",
    "    def pull_id(self, fn):\n",
    "        return fn.split('#')[-1].split('.')[0]\n",
    "    \n",
    "    def __len__(self): return len(self.ids)\n",
    "    \n",
    "    def open_grayscale(self, fn):\n",
    "        x = PIL.Image.open(train_ds.x_fns[train_ds.ids[0]]).convert('L')\n",
    "        return Image(pil2tensor(x,np.float32).div_(255))        \n",
    "        \n",
    "    def __getitem__(self, i:int)->[Image, Image]:\n",
    "        img_id = self.ids[i]\n",
    "        print(img_id)\n",
    "        x_fn = self.x_fns[img_id]\n",
    "        y_fn = self.y_fns[img_id]\n",
    "        ximg = self.open_grayscale(x_fn)\n",
    "        yimg = self.open_grayscale(y_fn)\n",
    "        return ximg, yimg"
   ]
  },
  {
   "cell_type": "code",
   "execution_count": 145,
   "metadata": {},
   "outputs": [],
   "source": [
    "fnames_full = list(train_lr.glob('*.tif'))\n",
    "hr_names_full = list(train_hr.glob('*.tif'))\n",
    "valid_pct = 0.01\n",
    "keeps = np.random.rand(len(fnames_full)) < keep_pct\n",
    "image_fns = np.array(fnames_full, copy=False)[keeps]\n",
    "train_fns, valid_fns = random_split(0.1, image_fns)\n",
    "train_fns = train_fns[0]\n",
    "valid_fns = valid_fns[0]\n",
    "\n",
    "\n",
    "train_ds = LRtoHRDataset(train_fns, hr_names_full)\n",
    "valid_ds = LRtoHRDataset(valid_fns, hr_names_full)"
   ]
  },
  {
   "cell_type": "code",
   "execution_count": 146,
   "metadata": {},
   "outputs": [
    {
     "data": {
      "text/plain": [
       "(LRtoHRDataset of len 7, LRtoHRDataset of len 0)"
      ]
     },
     "execution_count": 146,
     "metadata": {},
     "output_type": "execute_result"
    }
   ],
   "source": [
    "train_ds, valid_ds"
   ]
  },
  {
   "cell_type": "code",
   "execution_count": null,
   "metadata": {},
   "outputs": [],
   "source": []
  }
 ],
 "metadata": {
  "kernelspec": {
   "display_name": "Python 3",
   "language": "python",
   "name": "python3"
  },
  "language_info": {
   "codemirror_mode": {
    "name": "ipython",
    "version": 3
   },
   "file_extension": ".py",
   "mimetype": "text/x-python",
   "name": "python",
   "nbconvert_exporter": "python",
   "pygments_lexer": "ipython3",
   "version": "3.6.5"
  }
 },
 "nbformat": 4,
 "nbformat_minor": 2
}
