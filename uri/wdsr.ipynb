{
 "cells": [
  {
   "cell_type": "code",
   "execution_count": 1,
   "metadata": {},
   "outputs": [],
   "source": [
    "import fastai\n",
    "from fastai import *          # Quick access to most common functionality\n",
    "from fastai.vision import *   # Quick access to computer vision functionality\n",
    "from fastai.layers import Lambda\n",
    "from fastai.callbacks import SaveModelCallback\n",
    "import pytorch_ssim as ssim\n",
    "from superres import *"
   ]
  },
  {
   "cell_type": "code",
   "execution_count": 2,
   "metadata": {},
   "outputs": [],
   "source": [
    "def icnr(x, scale, init=nn.init.kaiming_normal_):\n",
    "    new_shape = [int(x.shape[0] / (scale ** 2))] + list(x.shape[1:])\n",
    "    subkernel = torch.zeros(new_shape)\n",
    "    subkernel = init(subkernel)\n",
    "    subkernel = subkernel.transpose(0, 1)\n",
    "    subkernel = subkernel.contiguous().view(subkernel.shape[0],\n",
    "                                            subkernel.shape[1], -1)\n",
    "    kernel = subkernel.repeat(1, 1, scale ** 2)\n",
    "    transposed_shape = [x.shape[1]] + [x.shape[0]] + list(x.shape[2:])\n",
    "    kernel = kernel.contiguous().view(transposed_shape)\n",
    "    kernel = kernel.transpose(0, 1)\n",
    "    return kernel"
   ]
  },
  {
   "cell_type": "code",
   "execution_count": 3,
   "metadata": {},
   "outputs": [],
   "source": [
    "class Block(nn.Module):\n",
    "    def __init__(self, n_feats, kernel_size, wn, act=nn.ReLU(True), res_scale=1):\n",
    "        super(Block, self).__init__()\n",
    "        self.res_scale = res_scale\n",
    "        body = []\n",
    "        expand = 6\n",
    "        linear = 0.8\n",
    "        body.append(\n",
    "            wn(nn.Conv2d(n_feats, n_feats*expand, 1, padding=1//2)))\n",
    "        body.append(act)\n",
    "        body.append(\n",
    "            wn(nn.Conv2d(n_feats*expand, int(n_feats*linear), 1, padding=1//2)))\n",
    "        body.append(\n",
    "            wn(nn.Conv2d(int(n_feats*linear), n_feats, kernel_size, padding=kernel_size//2)))\n",
    "\n",
    "        self.body = nn.Sequential(*body)\n",
    "\n",
    "    def forward(self, x):\n",
    "        res = self.body(x) * self.res_scale\n",
    "        res += x\n",
    "        return res"
   ]
  },
  {
   "cell_type": "code",
   "execution_count": 4,
   "metadata": {},
   "outputs": [],
   "source": [
    "class ICNRUpsample(nn.Module):\n",
    "    def __init__(self,nf_in, nf_out, kernel_size, scale, wn):\n",
    "        super().__init__()\n",
    "        conv_shuffle = nn.Conv2d(nf_in, nf_out, kernel_size, padding=kernel_size//2)\n",
    "        kernel = icnr(conv_shuffle.weight, scale=scale)\n",
    "        conv_shuffle.weight.data.copy_(kernel);\n",
    "        self.features = nn.Sequential(*[wn(conv_shuffle), nn.PixelShuffle(scale)])\n",
    "    \n",
    "    def forward(self, x):\n",
    "        return self.features(x)\n",
    "        "
   ]
  },
  {
   "cell_type": "code",
   "execution_count": 5,
   "metadata": {},
   "outputs": [],
   "source": [
    "class WDSR(nn.Module):\n",
    "    def __init__(self, scale, n_resblocks, n_feats, res_scale, n_colors=3):\n",
    "        super().__init__()\n",
    "        # hyper-params\n",
    "        kernel_size = 3\n",
    "        act = nn.ReLU(True)\n",
    "        # wn = lambda x: x\n",
    "        wn = lambda x: torch.nn.utils.weight_norm(x)\n",
    "\n",
    "        mean, std = [0.40], [0.50] # imagenet_stats\n",
    "        self.rgb_mean = torch.FloatTensor(mean).view([1, n_colors, 1, 1])\n",
    "        self.rgb_std = torch.FloatTensor(std).view([1, n_colors, 1, 1])\n",
    "\n",
    "        # define head module\n",
    "        head = []\n",
    "        head.append(wn(nn.Conv2d(n_colors, n_feats,kernel_size,padding=kernel_size//2)))\n",
    "\n",
    "        # define body module\n",
    "        body = []\n",
    "        for i in range(n_resblocks):\n",
    "            body.append(\n",
    "                Block(n_feats, kernel_size, act=act, res_scale=res_scale, wn=wn))\n",
    "\n",
    "        # define tail module\n",
    "        tail = []\n",
    "        out_feats = scale*scale*n_colors\n",
    "        tail.append(ICNRUpsample(n_feats, out_feats, kernel_size, scale, wn))\n",
    "\n",
    "        skip = []\n",
    "        skip.append(ICNRUpsample(n_colors, out_feats, 5, scale, wn))\n",
    "\n",
    "        pad = []\n",
    "        pad.append(torch.nn.ReplicationPad2d(5//2))\n",
    "\n",
    "        # make object members\n",
    "        self.head = nn.Sequential(*head)\n",
    "        self.body = nn.Sequential(*body)\n",
    "        self.tail = nn.Sequential(*tail)\n",
    "        self.skip = nn.Sequential(*skip)\n",
    "        self.pad = nn.Sequential(*pad)\n",
    "\n",
    "    def forward(self, x):\n",
    "        mean = self.rgb_mean.to(x)\n",
    "        std = self.rgb_std.to(x)\n",
    "        \n",
    "        x = (x - mean) / std\n",
    "        #if not self.training: \n",
    "        #    x = self.pad(x)\n",
    "        \n",
    "        s = self.skip(x)\n",
    "        x = self.head(x)\n",
    "        x = self.body(x)\n",
    "        x = self.tail(x)\n",
    "        x += s\n",
    "        x = x*std + mean\n",
    "        return x"
   ]
  },
  {
   "cell_type": "code",
   "execution_count": 6,
   "metadata": {},
   "outputs": [],
   "source": [
    "ssim_loss = ssim.SSIM(mult=-1.)\n",
    "ssim_loss_2 = ssim.SSIM(window_size=3, mult=-1.)\n",
    "ssim_loss_3 = ssim.SSIM(window_size=32, mult=-1.)\n",
    "\n",
    "def fft_loss(pred, targs):\n",
    "    bs = pred.shape[0]\n",
    "    pred_fft = torch.rfft(pred, 2)\n",
    "    targs_fft = torch.rfft(targs,2)\n",
    "    return F.mse_loss(pred_fft.view(bs,-1), targs_fft.view(bs,-1))\n",
    "\n",
    "def combo_loss(pred, targs):\n",
    "    return (3 + \n",
    "            ssim_loss(pred,targs) + \n",
    "            ssim_loss_2(pred,targs) + \n",
    "            ssim_loss_3(pred,targs) + \n",
    "            F.mse_loss(pred, targs)\n",
    "           )\n",
    "    #return ssim_loss(pred, targs) + psnr_loss(pred, targs)/50. # + F.l1_loss(pred, targs)\n",
    "\n",
    "def combo_loss(pred, targs):\n",
    "    #pred_clamp = torch.clamp(pred,0.,1.)\n",
    "    pred_clamp = pred\n",
    "    return (1 + \n",
    "            ssim_loss(pred_clamp,targs) + \n",
    "            #ssim_loss_2(pred_clamp,targs) + \n",
    "            #ssim_loss_3(pred_clamp,targs) + \n",
    "            F.mse_loss(pred, targs)\n",
    "           )\n",
    "  \n",
    "metrics = [F.mse_loss, \n",
    "           ssim.ssim,\n",
    "           psnr]"
   ]
  },
  {
   "cell_type": "code",
   "execution_count": null,
   "metadata": {},
   "outputs": [],
   "source": []
  },
  {
   "cell_type": "code",
   "execution_count": 7,
   "metadata": {},
   "outputs": [],
   "source": [
    "path = Path('/DATA/WAMRI/SALK/uri/Image_restoration_data/')\n",
    "train_lr = path/'train_LR'\n",
    "train_hr = path/'train_HR'\n",
    "test_lr = path/'test_LR'\n",
    "test_hr = path/'test_HR'"
   ]
  },
  {
   "cell_type": "code",
   "execution_count": 8,
   "metadata": {},
   "outputs": [],
   "source": [
    "def pull_id(fn):\n",
    "    return fn.split('#')[-1].split('.')[0]\n",
    "\n",
    "def match_hr_fn(x):\n",
    "    return hr_names_by_id[pull_id(x.name)]\n",
    "\n",
    "lr_names_full = list(train_lr.glob('*.tif'))\n",
    "lr_names_full.sort()\n",
    "hr_names_by_id = {pull_id(hrfn.name):hrfn for hrfn in train_hr.glob('*.tif')}\n",
    "test_label = list(hr_names_by_id.values())[0]"
   ]
  },
  {
   "cell_type": "code",
   "execution_count": 9,
   "metadata": {},
   "outputs": [],
   "source": [
    "class GrayImageItemList(ImageItemList):\n",
    "    def open(self, fn): return open_grayscale(fn)\n",
    "\n",
    "src = (GrayImageItemList\n",
    "       .from_folder(train_lr, '*.tif', label_class=GrayImageItemList)\n",
    "       .split_by_valid_func(lambda x: x.stem[-3] == '0')\n",
    "       .label_from_func(match_hr_fn))"
   ]
  },
  {
   "cell_type": "code",
   "execution_count": 10,
   "metadata": {},
   "outputs": [],
   "source": [
    "def get_data(src, bs, sz_lr, sz_hr, num_workers=12, test_folder=None, **kwargs):\n",
    "    tfms = get_transforms(flip_vert=True)\n",
    "    src = src.transform(tfms, size=sz_lr).transform_labels(size=sz_hr)\n",
    "    if test_folder:\n",
    "        src = src.add_test_folder(test_folder, label=test_label)\n",
    "    data = src.databunch(bs=bs, num_workers=num_workers, **kwargs)\n",
    "    return data"
   ]
  },
  {
   "cell_type": "code",
   "execution_count": 11,
   "metadata": {},
   "outputs": [],
   "source": [
    "scale=4\n",
    "n_resblocks=16\n",
    "n_feats=128\n",
    "res_scale= 1.\n",
    "model = WDSR(scale, n_resblocks, n_feats, res_scale, n_colors=1)\n",
    "model = nn.DataParallel(model).eval().cuda()"
   ]
  },
  {
   "cell_type": "code",
   "execution_count": 12,
   "metadata": {},
   "outputs": [],
   "source": [
    "sz_lr = 72\n",
    "scale,bs = 4,24\n",
    "sz_hr = sz_lr*scale\n",
    "data = get_data(src, bs, sz_lr, sz_hr)"
   ]
  },
  {
   "cell_type": "code",
   "execution_count": 13,
   "metadata": {},
   "outputs": [
    {
     "data": {
      "text/plain": [
       "(Image (1, 72, 72), Image (1, 288, 288))"
      ]
     },
     "execution_count": 13,
     "metadata": {},
     "output_type": "execute_result"
    }
   ],
   "source": [
    "data.train_ds[0]"
   ]
  },
  {
   "cell_type": "code",
   "execution_count": 14,
   "metadata": {},
   "outputs": [],
   "source": [
    "loss = F.mse_loss\n",
    "#loss=ssim_loss\n",
    "learn = Learner(data, model, loss_func=loss, metrics=metrics)"
   ]
  },
  {
   "cell_type": "code",
   "execution_count": 15,
   "metadata": {},
   "outputs": [
    {
     "name": "stdout",
     "output_type": "stream",
     "text": [
      "LR Finder is complete, type {learner_name}.recorder.plot() to see the graph.\n"
     ]
    },
    {
     "data": {
      "image/png": "[encoded data removed]",
      "text/plain": [
       "<Figure size 432x288 with 1 Axes>"
      ]
     },
     "metadata": {},
     "output_type": "display_data"
    }
   ],
   "source": [
    "learn.lr_find()\n",
    "learn.recorder.plot()"
   ]
  },
  {
   "cell_type": "code",
   "execution_count": null,
   "metadata": {},
   "outputs": [],
   "source": []
  },
  {
   "cell_type": "code",
   "execution_count": 16,
   "metadata": {},
   "outputs": [
    {
     "name": "stdout",
     "output_type": "stream",
     "text": [
      "Total time: 06:05\n",
      "epoch  train_loss  valid_loss  mse_loss  ssim  psnr          \n",
      "1      0.242780    0.106901    0.106901  -0.015100  9.710192   (00:11)\n",
      "2      0.122263    0.015139    0.015139  -0.090985  18.199018  (00:11)\n",
      "3      0.072214    0.011927    0.011927  0.228805  19.234827   (00:11)\n",
      "4      0.047422    0.008662    0.008662  0.130155  20.623625   (00:12)\n",
      "5      0.033533    0.008297    0.008297  0.618202  20.810612   (00:12)\n",
      "6      0.025128    0.007952    0.007952  0.597746  20.995142   (00:12)\n",
      "7      0.019891    0.007898    0.007898  0.521898  21.024620   (00:12)\n",
      "8      0.016459    0.008100    0.008100  0.633774  20.914957   (00:12)\n",
      "9      0.014147    0.007876    0.007876  0.663469  21.036741   (00:12)\n",
      "10     0.012635    0.008142    0.008142  0.133015  20.892422   (00:11)\n",
      "11     0.011712    0.007855    0.007855  0.616312  21.048714   (00:12)\n",
      "12     0.010993    0.007797    0.007797  0.668453  21.080923   (00:12)\n",
      "13     0.010506    0.007678    0.007678  0.674366  21.147263   (00:11)\n",
      "14     0.010207    0.007975    0.007975  0.489555  20.982435   (00:12)\n",
      "15     0.010038    0.007751    0.007751  0.602110  21.106438   (00:12)\n",
      "16     0.009856    0.007851    0.007851  0.503519  21.050581   (00:12)\n",
      "17     0.009732    0.007791    0.007791  0.522901  21.084108   (00:12)\n",
      "18     0.009628    0.007880    0.007880  0.665238  21.034843   (00:12)\n",
      "19     0.009519    0.007850    0.007850  0.659461  21.051046   (00:12)\n",
      "20     0.009458    0.007664    0.007664  0.559284  21.155386   (00:12)\n",
      "21     0.009428    0.007706    0.007706  0.633880  21.131516   (00:12)\n",
      "22     0.009440    0.007737    0.007737  0.667287  21.114159   (00:11)\n",
      "23     0.009420    0.007567    0.007567  0.674770  21.210726   (00:12)\n",
      "24     0.009386    0.007636    0.007636  0.615961  21.171177   (00:12)\n",
      "25     0.009401    0.007656    0.007656  0.674595  21.160238   (00:12)\n",
      "26     0.009366    0.007760    0.007760  0.666923  21.101379   (00:12)\n",
      "27     0.009355    0.007620    0.007620  0.646100  21.180689   (00:12)\n",
      "28     0.009296    0.007645    0.007645  0.670096  21.166382   (00:12)\n",
      "29     0.009275    0.007599    0.007599  0.693149  21.192215   (00:12)\n",
      "30     0.009287    0.007599    0.007599  0.693082  21.192339   (00:12)\n",
      "\n"
     ]
    }
   ],
   "source": [
    "lr = 1e-3\n",
    "learn.fit_one_cycle(30, lr)"
   ]
  },
  {
   "cell_type": "code",
   "execution_count": null,
   "metadata": {},
   "outputs": [],
   "source": [
    "learn.save('wdsr')"
   ]
  },
  {
   "cell_type": "code",
   "execution_count": null,
   "metadata": {},
   "outputs": [],
   "source": [
    "sz_lr = 506\n",
    "scale,bs = 4,1\n",
    "sz_hr = sz_lr*scale\n",
    "data = get_data(src, bs, sz_lr, sz_hr)\n",
    "learn = Learner(data, model, loss_func=F.mse_loss)\n",
    "preds, ys = learn.get_preds(DatasetType.Valid)\n",
    "preds = torch.clamp(preds, 0.,1.)"
   ]
  },
  {
   "cell_type": "code",
   "execution_count": null,
   "metadata": {},
   "outputs": [],
   "source": [
    "idx = 9\n",
    "ys[idx].std(), preds[idx].std()"
   ]
  },
  {
   "cell_type": "code",
   "execution_count": null,
   "metadata": {},
   "outputs": [],
   "source": [
    "preds[idx].min(),preds[idx].max()"
   ]
  },
  {
   "cell_type": "code",
   "execution_count": null,
   "metadata": {},
   "outputs": [],
   "source": [
    "hr = Image(ys[idx])\n",
    "hr"
   ]
  },
  {
   "cell_type": "code",
   "execution_count": null,
   "metadata": {},
   "outputs": [],
   "source": [
    "sr = Image(preds[idx])\n",
    "sr"
   ]
  },
  {
   "cell_type": "code",
   "execution_count": null,
   "metadata": {},
   "outputs": [],
   "source": [
    "lr = learn.data.valid_ds[idx][0]\n",
    "lr"
   ]
  },
  {
   "cell_type": "code",
   "execution_count": null,
   "metadata": {},
   "outputs": [],
   "source": [
    "ssim.ssim(sr.data[None],hr.data[None]), psnr(sr.data[None],hr.data[None]), F.mse_loss(sr.data[None],hr.data[None])"
   ]
  },
  {
   "cell_type": "code",
   "execution_count": null,
   "metadata": {},
   "outputs": [],
   "source": [
    "learn.save('wdsr')"
   ]
  },
  {
   "cell_type": "code",
   "execution_count": null,
   "metadata": {},
   "outputs": [],
   "source": [
    "learn = learn.load('wdsr')"
   ]
  },
  {
   "cell_type": "code",
   "execution_count": null,
   "metadata": {},
   "outputs": [],
   "source": [
    "trn_tfm, val_tfm = get_transforms()\n",
    "test_bs = 2\n",
    "test_sz = 512 \n",
    "test_out_sz = 4*test_sz\n",
    "test_data = get_data(src, test_bs, test_sz, test_out_sz, test_folder=path/'lores2')\n",
    "test_learn = Learner(test_data, model, loss_func=F.mse_loss).load('wdsr')"
   ]
  },
  {
   "cell_type": "code",
   "execution_count": null,
   "metadata": {},
   "outputs": [],
   "source": [
    "test_preds, ys = test_learn.get_preds(DatasetType.Test)\n",
    "test_preds = torch.clamp(test_preds, 0.,1.)"
   ]
  },
  {
   "cell_type": "code",
   "execution_count": null,
   "metadata": {},
   "outputs": [],
   "source": [
    "sr_imgs = []\n",
    "for idx in range(test_preds.shape[0]):\n",
    "    img = Image(test_preds[idx])\n",
    "    sr_imgs.append(img)"
   ]
  },
  {
   "cell_type": "code",
   "execution_count": null,
   "metadata": {},
   "outputs": [],
   "source": [
    "sr_imgs[1]"
   ]
  },
  {
   "cell_type": "code",
   "execution_count": null,
   "metadata": {},
   "outputs": [],
   "source": []
  },
  {
   "cell_type": "code",
   "execution_count": null,
   "metadata": {},
   "outputs": [],
   "source": []
  },
  {
   "cell_type": "code",
   "execution_count": null,
   "metadata": {},
   "outputs": [],
   "source": []
  }
 ],
 "metadata": {
  "kernelspec": {
   "display_name": "Python 3",
   "language": "python",
   "name": "python3"
  },
  "language_info": {
   "codemirror_mode": {
    "name": "ipython",
    "version": 3
   },
   "file_extension": ".py",
   "mimetype": "text/x-python",
   "name": "python",
   "nbconvert_exporter": "python",
   "pygments_lexer": "ipython3",
   "version": "3.6.5"
  }
 },
 "nbformat": 4,
 "nbformat_minor": 2
}
